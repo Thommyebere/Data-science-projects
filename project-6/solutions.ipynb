{
 "cells": [
  {
   "cell_type": "code",
   "execution_count": 1,
   "metadata": {},
   "outputs": [],
   "source": [
    "import os\n",
    "import numpy as np\n",
    "import pandas as pd\n",
    "import matplotlib.pyplot as plt\n",
    "\n",
    "\n",
    "np.random.seed(42)"
   ]
  },
  {
   "cell_type": "code",
   "execution_count": 2,
   "metadata": {},
   "outputs": [],
   "source": [
    "Normal = ['train/Normal/'+name for name in os.listdir('train/Normal') if name.endswith('jpg') ]\n",
    "Pneumonia = ['train/Pneumonia/'+name for name in os.listdir('train/Pneumonia') if name.endswith('jpg') ]\n",
    "TB = ['train/TB/'+name for name in os.listdir('train/TB') if name.endswith('jpg') ]\n",
    "test = ['test/'+name for name in os.listdir('test') if name.endswith('jpg') ]\n",
    "#loading the images from all the files "
   ]
  },
  {
   "cell_type": "code",
   "execution_count": 3,
   "metadata": {},
   "outputs": [],
   "source": [
    "from PIL import Image\n",
    "def pre_process(path, size=128):\n",
    "    img=Image.open(path).convert('LA') #2 color channels\n",
    "    img=np.array(img.resize((size,size)))\n",
    "    img = np.array(img)\n",
    "    img = img.reshape(np.multiply(size,size)*2)\n",
    "    return img\n",
    "#processing the image to have a size of 128x128 and converting them to greyscale"
   ]
  },
  {
   "cell_type": "code",
   "execution_count": 4,
   "metadata": {},
   "outputs": [
    {
     "name": "stdout",
     "output_type": "stream",
     "text": [
      "CPU times: user 15.6 s, sys: 1.02 s, total: 16.6 s\n",
      "Wall time: 17.1 s\n"
     ]
    }
   ],
   "source": [
    "%%time\n",
    "Normal = [(pre_process(i), 'Normal') for i in Normal]\n",
    "Pneumonia = [(pre_process(i),'Pneumonia') for i in Pneumonia]\n",
    "TB = [(pre_process(i), 'TB') for i in TB]\n",
    "X_testt = [pre_process(i) for i in test]"
   ]
  },
  {
   "cell_type": "code",
   "execution_count": 5,
   "metadata": {},
   "outputs": [
    {
     "data": {
      "text/plain": [
       "(66, 32768)"
      ]
     },
     "execution_count": 5,
     "metadata": {},
     "output_type": "execute_result"
    }
   ],
   "source": [
    "Normal = np.array(Normal)\n",
    "Pneumonia = np.array(Pneumonia)\n",
    "TB = np.array(TB)\n",
    "X_testt = np.array(X_testt)\n",
    "X_testt.shape"
   ]
  },
  {
   "cell_type": "code",
   "execution_count": 6,
   "metadata": {},
   "outputs": [
    {
     "name": "stdout",
     "output_type": "stream",
     "text": [
      "CPU times: user 3.11 ms, sys: 2.77 ms, total: 5.88 ms\n",
      "Wall time: 4.91 ms\n"
     ]
    }
   ],
   "source": [
    "%%time\n",
    "X= [ j[0]    for i in [Normal,Pneumonia,TB]   for j in i  ]\n",
    "y= [ j[1]    for i in [Normal,Pneumonia,TB]   for j in i  ]\n",
    "X = np.array(X)\n",
    "y = np.array(y)"
   ]
  },
  {
   "cell_type": "code",
   "execution_count": 7,
   "metadata": {},
   "outputs": [
    {
     "data": {
      "text/plain": [
       "(251, 3)"
      ]
     },
     "execution_count": 7,
     "metadata": {},
     "output_type": "execute_result"
    }
   ],
   "source": [
    "from sklearn.preprocessing import OneHotEncoder\n",
    "one = OneHotEncoder()\n",
    "y = one.fit_transform(y.reshape(-1,1))\n",
    "y.shape\n",
    "#onehot encoding y"
   ]
  },
  {
   "cell_type": "code",
   "execution_count": 8,
   "metadata": {},
   "outputs": [],
   "source": [
    "y_frame = pd.DataFrame(y.toarray().astype(int))\n",
    "y_cnn = y_frame.iloc[:,:].to_numpy()"
   ]
  },
  {
   "cell_type": "code",
   "execution_count": 9,
   "metadata": {
    "scrolled": false
   },
   "outputs": [
    {
     "data": {
      "text/plain": [
       "array([[1, 0, 0],\n",
       "       [1, 0, 0],\n",
       "       [1, 0, 0],\n",
       "       [1, 0, 0],\n",
       "       [1, 0, 0],\n",
       "       [1, 0, 0],\n",
       "       [1, 0, 0],\n",
       "       [1, 0, 0],\n",
       "       [1, 0, 0],\n",
       "       [1, 0, 0],\n",
       "       [1, 0, 0],\n",
       "       [1, 0, 0],\n",
       "       [1, 0, 0],\n",
       "       [1, 0, 0],\n",
       "       [1, 0, 0],\n",
       "       [1, 0, 0],\n",
       "       [1, 0, 0],\n",
       "       [1, 0, 0],\n",
       "       [1, 0, 0],\n",
       "       [1, 0, 0],\n",
       "       [1, 0, 0],\n",
       "       [1, 0, 0],\n",
       "       [1, 0, 0],\n",
       "       [1, 0, 0],\n",
       "       [1, 0, 0],\n",
       "       [1, 0, 0],\n",
       "       [1, 0, 0],\n",
       "       [1, 0, 0],\n",
       "       [1, 0, 0],\n",
       "       [1, 0, 0],\n",
       "       [1, 0, 0],\n",
       "       [1, 0, 0],\n",
       "       [1, 0, 0],\n",
       "       [1, 0, 0],\n",
       "       [1, 0, 0],\n",
       "       [1, 0, 0],\n",
       "       [1, 0, 0],\n",
       "       [1, 0, 0],\n",
       "       [1, 0, 0],\n",
       "       [1, 0, 0],\n",
       "       [1, 0, 0],\n",
       "       [1, 0, 0],\n",
       "       [1, 0, 0],\n",
       "       [1, 0, 0],\n",
       "       [1, 0, 0],\n",
       "       [1, 0, 0],\n",
       "       [1, 0, 0],\n",
       "       [1, 0, 0],\n",
       "       [1, 0, 0],\n",
       "       [1, 0, 0],\n",
       "       [1, 0, 0],\n",
       "       [1, 0, 0],\n",
       "       [1, 0, 0],\n",
       "       [1, 0, 0],\n",
       "       [1, 0, 0],\n",
       "       [1, 0, 0],\n",
       "       [1, 0, 0],\n",
       "       [1, 0, 0],\n",
       "       [1, 0, 0],\n",
       "       [1, 0, 0],\n",
       "       [1, 0, 0],\n",
       "       [1, 0, 0],\n",
       "       [1, 0, 0],\n",
       "       [1, 0, 0],\n",
       "       [1, 0, 0],\n",
       "       [1, 0, 0],\n",
       "       [1, 0, 0],\n",
       "       [1, 0, 0],\n",
       "       [1, 0, 0],\n",
       "       [1, 0, 0],\n",
       "       [0, 1, 0],\n",
       "       [0, 1, 0],\n",
       "       [0, 1, 0],\n",
       "       [0, 1, 0],\n",
       "       [0, 1, 0],\n",
       "       [0, 1, 0],\n",
       "       [0, 1, 0],\n",
       "       [0, 1, 0],\n",
       "       [0, 1, 0],\n",
       "       [0, 1, 0],\n",
       "       [0, 1, 0],\n",
       "       [0, 1, 0],\n",
       "       [0, 1, 0],\n",
       "       [0, 1, 0],\n",
       "       [0, 1, 0],\n",
       "       [0, 1, 0],\n",
       "       [0, 1, 0],\n",
       "       [0, 1, 0],\n",
       "       [0, 1, 0],\n",
       "       [0, 1, 0],\n",
       "       [0, 1, 0],\n",
       "       [0, 1, 0],\n",
       "       [0, 1, 0],\n",
       "       [0, 1, 0],\n",
       "       [0, 1, 0],\n",
       "       [0, 1, 0],\n",
       "       [0, 1, 0],\n",
       "       [0, 1, 0],\n",
       "       [0, 1, 0],\n",
       "       [0, 1, 0],\n",
       "       [0, 1, 0],\n",
       "       [0, 1, 0],\n",
       "       [0, 1, 0],\n",
       "       [0, 1, 0],\n",
       "       [0, 1, 0],\n",
       "       [0, 1, 0],\n",
       "       [0, 1, 0],\n",
       "       [0, 1, 0],\n",
       "       [0, 1, 0],\n",
       "       [0, 1, 0],\n",
       "       [0, 1, 0],\n",
       "       [0, 1, 0],\n",
       "       [0, 1, 0],\n",
       "       [0, 1, 0],\n",
       "       [0, 1, 0],\n",
       "       [0, 1, 0],\n",
       "       [0, 1, 0],\n",
       "       [0, 1, 0],\n",
       "       [0, 1, 0],\n",
       "       [0, 1, 0],\n",
       "       [0, 1, 0],\n",
       "       [0, 1, 0],\n",
       "       [0, 1, 0],\n",
       "       [0, 1, 0],\n",
       "       [0, 1, 0],\n",
       "       [0, 1, 0],\n",
       "       [0, 1, 0],\n",
       "       [0, 1, 0],\n",
       "       [0, 1, 0],\n",
       "       [0, 1, 0],\n",
       "       [0, 1, 0],\n",
       "       [0, 1, 0],\n",
       "       [0, 1, 0],\n",
       "       [0, 1, 0],\n",
       "       [0, 1, 0],\n",
       "       [0, 1, 0],\n",
       "       [0, 1, 0],\n",
       "       [0, 1, 0],\n",
       "       [0, 1, 0],\n",
       "       [0, 1, 0],\n",
       "       [0, 0, 1],\n",
       "       [0, 0, 1],\n",
       "       [0, 0, 1],\n",
       "       [0, 0, 1],\n",
       "       [0, 0, 1],\n",
       "       [0, 0, 1],\n",
       "       [0, 0, 1],\n",
       "       [0, 0, 1],\n",
       "       [0, 0, 1],\n",
       "       [0, 0, 1],\n",
       "       [0, 0, 1],\n",
       "       [0, 0, 1],\n",
       "       [0, 0, 1],\n",
       "       [0, 0, 1],\n",
       "       [0, 0, 1],\n",
       "       [0, 0, 1],\n",
       "       [0, 0, 1],\n",
       "       [0, 0, 1],\n",
       "       [0, 0, 1],\n",
       "       [0, 0, 1],\n",
       "       [0, 0, 1],\n",
       "       [0, 0, 1],\n",
       "       [0, 0, 1],\n",
       "       [0, 0, 1],\n",
       "       [0, 0, 1],\n",
       "       [0, 0, 1],\n",
       "       [0, 0, 1],\n",
       "       [0, 0, 1],\n",
       "       [0, 0, 1],\n",
       "       [0, 0, 1],\n",
       "       [0, 0, 1],\n",
       "       [0, 0, 1],\n",
       "       [0, 0, 1],\n",
       "       [0, 0, 1],\n",
       "       [0, 0, 1],\n",
       "       [0, 0, 1],\n",
       "       [0, 0, 1],\n",
       "       [0, 0, 1],\n",
       "       [0, 0, 1],\n",
       "       [0, 0, 1],\n",
       "       [0, 0, 1],\n",
       "       [0, 0, 1],\n",
       "       [0, 0, 1],\n",
       "       [0, 0, 1],\n",
       "       [0, 0, 1],\n",
       "       [0, 0, 1],\n",
       "       [0, 0, 1],\n",
       "       [0, 0, 1],\n",
       "       [0, 0, 1],\n",
       "       [0, 0, 1],\n",
       "       [0, 0, 1],\n",
       "       [0, 0, 1],\n",
       "       [0, 0, 1],\n",
       "       [0, 0, 1],\n",
       "       [0, 0, 1],\n",
       "       [0, 0, 1],\n",
       "       [0, 0, 1],\n",
       "       [0, 0, 1],\n",
       "       [0, 0, 1],\n",
       "       [0, 0, 1],\n",
       "       [0, 0, 1],\n",
       "       [0, 0, 1],\n",
       "       [0, 0, 1],\n",
       "       [0, 0, 1],\n",
       "       [0, 0, 1],\n",
       "       [0, 0, 1],\n",
       "       [0, 0, 1],\n",
       "       [0, 0, 1],\n",
       "       [0, 0, 1],\n",
       "       [0, 0, 1],\n",
       "       [0, 0, 1],\n",
       "       [0, 0, 1],\n",
       "       [0, 0, 1],\n",
       "       [0, 0, 1],\n",
       "       [0, 0, 1],\n",
       "       [0, 0, 1],\n",
       "       [0, 0, 1],\n",
       "       [0, 0, 1],\n",
       "       [0, 0, 1],\n",
       "       [0, 0, 1],\n",
       "       [0, 0, 1],\n",
       "       [0, 0, 1],\n",
       "       [0, 0, 1],\n",
       "       [0, 0, 1],\n",
       "       [0, 0, 1],\n",
       "       [0, 0, 1],\n",
       "       [0, 0, 1],\n",
       "       [0, 0, 1],\n",
       "       [0, 0, 1],\n",
       "       [0, 0, 1],\n",
       "       [0, 0, 1],\n",
       "       [0, 0, 1],\n",
       "       [0, 0, 1],\n",
       "       [0, 0, 1],\n",
       "       [0, 0, 1],\n",
       "       [0, 0, 1],\n",
       "       [0, 0, 1],\n",
       "       [0, 0, 1],\n",
       "       [0, 0, 1],\n",
       "       [0, 0, 1],\n",
       "       [0, 0, 1],\n",
       "       [0, 0, 1],\n",
       "       [0, 0, 1],\n",
       "       [0, 0, 1],\n",
       "       [0, 0, 1],\n",
       "       [0, 0, 1],\n",
       "       [0, 0, 1],\n",
       "       [0, 0, 1],\n",
       "       [0, 0, 1],\n",
       "       [0, 0, 1],\n",
       "       [0, 0, 1]])"
      ]
     },
     "execution_count": 9,
     "metadata": {},
     "output_type": "execute_result"
    }
   ],
   "source": [
    "y_cnn"
   ]
  },
  {
   "cell_type": "code",
   "execution_count": 10,
   "metadata": {},
   "outputs": [],
   "source": [
    "from sklearn.preprocessing import StandardScaler\n",
    "\n",
    "sc= StandardScaler()\n",
    "\n",
    "# Scale data to influence variance\n",
    "X= sc.fit_transform(X)\n",
    "\n",
    "#Transform the test data as that of the features. Same scale\n",
    "X_testt = sc.transform(X_testt)"
   ]
  },
  {
   "cell_type": "code",
   "execution_count": 11,
   "metadata": {},
   "outputs": [],
   "source": [
    "X = X.reshape(X.shape[0],128,128,2)\n",
    "X_testt= X_testt.reshape(X_testt.shape[0],128,128,2)\n",
    "#reshaping x and x_testt"
   ]
  },
  {
   "cell_type": "code",
   "execution_count": 12,
   "metadata": {},
   "outputs": [],
   "source": [
    "#Splitting the values of X\n",
    "from sklearn.model_selection import train_test_split\n",
    "X_train,X_test,y_train,y_test = train_test_split(X,y_cnn,test_size=0.20,random_state=42)"
   ]
  },
  {
   "cell_type": "code",
   "execution_count": null,
   "metadata": {},
   "outputs": [],
   "source": []
  },
  {
   "cell_type": "code",
   "execution_count": 13,
   "metadata": {},
   "outputs": [],
   "source": [
    "import keras\n",
    "from keras.optimizers import SGD\n",
    "from keras.models import Sequential, Input, Model\n",
    "from keras.layers import Dense, Activation, Dropout, Flatten, Conv2D, MaxPooling2D,BatchNormalization\n",
    "from keras.layers.advanced_activations import LeakyReLU\n",
    "import tensorflow as tf"
   ]
  },
  {
   "cell_type": "code",
   "execution_count": 14,
   "metadata": {},
   "outputs": [],
   "source": [
    "epochs=32\n",
    "activations='sigmoid'"
   ]
  },
  {
   "cell_type": "code",
   "execution_count": 15,
   "metadata": {},
   "outputs": [],
   "source": [
    "num_class=3"
   ]
  },
  {
   "cell_type": "code",
   "execution_count": 16,
   "metadata": {
    "scrolled": false
   },
   "outputs": [
    {
     "name": "stdout",
     "output_type": "stream",
     "text": [
      "Model: \"sequential\"\n",
      "_________________________________________________________________\n",
      "Layer (type)                 Output Shape              Param #   \n",
      "=================================================================\n",
      "conv2d (Conv2D)              (None, 126, 126, 128)     2432      \n",
      "_________________________________________________________________\n",
      "max_pooling2d (MaxPooling2D) (None, 63, 63, 128)       0         \n",
      "_________________________________________________________________\n",
      "conv2d_1 (Conv2D)            (None, 61, 61, 128)       147584    \n",
      "_________________________________________________________________\n",
      "max_pooling2d_1 (MaxPooling2 (None, 30, 30, 128)       0         \n",
      "_________________________________________________________________\n",
      "flatten (Flatten)            (None, 115200)            0         \n",
      "_________________________________________________________________\n",
      "dense (Dense)                (None, 256)               29491456  \n",
      "_________________________________________________________________\n",
      "dropout (Dropout)            (None, 256)               0         \n",
      "_________________________________________________________________\n",
      "dense_1 (Dense)              (None, 256)               65792     \n",
      "_________________________________________________________________\n",
      "dropout_1 (Dropout)          (None, 256)               0         \n",
      "_________________________________________________________________\n",
      "dense_2 (Dense)              (None, 128)               32896     \n",
      "_________________________________________________________________\n",
      "dropout_2 (Dropout)          (None, 128)               0         \n",
      "_________________________________________________________________\n",
      "dense_3 (Dense)              (None, 128)               16512     \n",
      "_________________________________________________________________\n",
      "dropout_3 (Dropout)          (None, 128)               0         \n",
      "_________________________________________________________________\n",
      "dense_4 (Dense)              (None, 3)                 387       \n",
      "=================================================================\n",
      "Total params: 29,757,059\n",
      "Trainable params: 29,757,059\n",
      "Non-trainable params: 0\n",
      "_________________________________________________________________\n"
     ]
    }
   ],
   "source": [
    "model=Sequential()\n",
    "\n",
    "model.add(Conv2D(128, kernel_size=3, activation='relu',input_shape=(128,128,2)))\n",
    "model.add(MaxPooling2D((2,2)))\n",
    "\n",
    "model.add(Conv2D(128, kernel_size=3, activation='relu'))\n",
    "model.add(MaxPooling2D((2,2)))\n",
    "\n",
    "# model.add(Conv2D(128, kernel_size=3, activation='relu'))\n",
    "# model.add(MaxPooling2D((2,2)))\n",
    "\n",
    "model.add(Flatten())\n",
    "# model.add(BatchNormalization())\n",
    "model.add(Dense(256, activation='relu'))\n",
    "model.add(Dropout(0.3))\n",
    "model.add(Dense(256, activation='relu'))\n",
    "model.add(Dropout(0.2))\n",
    "model.add(Dense(128,activation='relu'))\n",
    "model.add(Dropout(0.2))\n",
    "model.add(Dense(128,activation='relu'))\n",
    "# model.add(Activation('sigmoid'))\n",
    "model.add(Dropout(0.2))\n",
    "model.add(Dense(num_class, activation='softmax'))\n",
    "model.summary()\n",
    "# CNN configuration "
   ]
  },
  {
   "cell_type": "code",
   "execution_count": 17,
   "metadata": {},
   "outputs": [
    {
     "name": "stdout",
     "output_type": "stream",
     "text": [
      "Epoch 1/15\n",
      "7/7 [==============================] - 5s 707ms/step - loss: 0.9888 - accuracy: 0.5100 - val_loss: 0.6544 - val_accuracy: 0.8431\n",
      "Epoch 2/15\n",
      "7/7 [==============================] - 5s 684ms/step - loss: 0.6757 - accuracy: 0.7550 - val_loss: 0.3876 - val_accuracy: 0.8824\n",
      "Epoch 3/15\n",
      "7/7 [==============================] - 5s 702ms/step - loss: 0.3909 - accuracy: 0.8650 - val_loss: 0.2652 - val_accuracy: 0.9412\n",
      "Epoch 4/15\n",
      "7/7 [==============================] - 5s 703ms/step - loss: 0.3120 - accuracy: 0.8650 - val_loss: 0.2861 - val_accuracy: 0.8824\n",
      "Epoch 5/15\n",
      "7/7 [==============================] - 5s 712ms/step - loss: 0.3530 - accuracy: 0.8450 - val_loss: 0.2097 - val_accuracy: 0.9216\n",
      "Epoch 6/15\n",
      "7/7 [==============================] - 5s 712ms/step - loss: 0.2630 - accuracy: 0.9200 - val_loss: 0.2069 - val_accuracy: 0.9412\n",
      "Epoch 7/15\n",
      "7/7 [==============================] - 5s 710ms/step - loss: 0.2231 - accuracy: 0.9050 - val_loss: 0.2969 - val_accuracy: 0.8627\n",
      "Epoch 8/15\n",
      "7/7 [==============================] - 5s 717ms/step - loss: 0.1717 - accuracy: 0.9400 - val_loss: 0.1935 - val_accuracy: 0.9412\n",
      "Epoch 9/15\n",
      "7/7 [==============================] - 5s 719ms/step - loss: 0.1114 - accuracy: 0.9500 - val_loss: 0.1850 - val_accuracy: 0.9412\n",
      "Epoch 10/15\n",
      "7/7 [==============================] - 5s 738ms/step - loss: 0.0782 - accuracy: 0.9750 - val_loss: 0.2293 - val_accuracy: 0.9216\n",
      "Epoch 11/15\n",
      "7/7 [==============================] - 5s 771ms/step - loss: 0.1529 - accuracy: 0.9400 - val_loss: 0.2367 - val_accuracy: 0.9020\n",
      "Epoch 12/15\n",
      "7/7 [==============================] - 5s 715ms/step - loss: 0.0830 - accuracy: 0.9600 - val_loss: 0.1515 - val_accuracy: 0.9412\n",
      "Epoch 13/15\n",
      "7/7 [==============================] - 5s 713ms/step - loss: 0.0596 - accuracy: 0.9850 - val_loss: 0.1805 - val_accuracy: 0.9608\n",
      "Epoch 14/15\n",
      "7/7 [==============================] - 5s 723ms/step - loss: 0.0965 - accuracy: 0.9700 - val_loss: 0.2040 - val_accuracy: 0.9216\n",
      "Epoch 15/15\n",
      "7/7 [==============================] - 5s 720ms/step - loss: 0.0598 - accuracy: 0.9750 - val_loss: 0.1845 - val_accuracy: 0.9216\n",
      "CPU times: user 7min 51s, sys: 1min 51s, total: 9min 43s\n",
      "Wall time: 1min 29s\n"
     ]
    }
   ],
   "source": [
    "%%time\n",
    "opt = keras.optimizers.Adam(learning_rate=0.0001)\n",
    "# opt = SGD(learning_rate=0.0001)\n",
    "\n",
    "# es=EarlyStopping(monitor='val_accuracy',mode='min',verbose=1,patience=50)\n",
    "model.compile(loss='categorical_crossentropy',optimizer=opt, metrics=['accuracy'])\n",
    "history=model.fit(X_train,y_train,validation_data=(X_test,y_test), epochs=15, shuffle=True)\n",
    "#Fitting the model to the data\n",
    "\n"
   ]
  },
  {
   "cell_type": "code",
   "execution_count": 18,
   "metadata": {},
   "outputs": [],
   "source": [
    "y_pred=model.predict(X_testt)"
   ]
  },
  {
   "cell_type": "code",
   "execution_count": null,
   "metadata": {},
   "outputs": [],
   "source": []
  },
  {
   "cell_type": "code",
   "execution_count": 19,
   "metadata": {},
   "outputs": [
    {
     "name": "stdout",
     "output_type": "stream",
     "text": [
      "TB\n",
      "TB\n",
      "Normal\n",
      "TB\n",
      "TB\n",
      "Pneumonia\n",
      "Pneumonia\n",
      "Normal\n",
      "Pneumonia\n",
      "Normal\n",
      "Pneumonia\n",
      "Normal\n",
      "Pneumonia\n",
      "Normal\n",
      "Pneumonia\n",
      "Pneumonia\n",
      "TB\n",
      "Normal\n",
      "TB\n",
      "Pneumonia\n",
      "TB\n",
      "TB\n",
      "Pneumonia\n",
      "TB\n",
      "TB\n",
      "TB\n",
      "TB\n",
      "TB\n",
      "TB\n",
      "TB\n",
      "TB\n",
      "TB\n",
      "TB\n",
      "TB\n",
      "TB\n",
      "TB\n",
      "TB\n",
      "TB\n",
      "TB\n",
      "TB\n",
      "Pneumonia\n",
      "Normal\n",
      "Normal\n",
      "Normal\n",
      "Normal\n",
      "Normal\n",
      "Pneumonia\n",
      "Pneumonia\n",
      "Pneumonia\n",
      "TB\n",
      "Normal\n",
      "Normal\n",
      "Pneumonia\n",
      "Normal\n",
      "Normal\n",
      "Pneumonia\n",
      "Pneumonia\n",
      "TB\n",
      "Pneumonia\n",
      "Normal\n",
      "Pneumonia\n",
      "Pneumonia\n",
      "Normal\n",
      "Pneumonia\n",
      "Pneumonia\n",
      "Pneumonia\n",
      "CPU times: user 1.28 ms, sys: 759 µs, total: 2.04 ms\n",
      "Wall time: 1.47 ms\n"
     ]
    }
   ],
   "source": [
    "%%time\n",
    "classes= ['Normal', 'Pneumonia','TB']\n",
    "tt=[]\n",
    "for i in y_pred:\n",
    "   xx=np.argmax(i)\n",
    "   tt.append(classes[xx])\n",
    "yy=[14,15,9,17,16,8,12,13,11,10,3,2,0,1,5,4,6,18,19,7,28,29,39,38,21,35,34,20,36,22,23,37,33,27,26,32,24,30,31,25,63,62,60,48,49,61,59,65,64,58,42,56,57,43,55,41,40,54,50,44,45,51,47,53,52,46]\n",
    "for i in yy:\n",
    "    print (tt[i])\n",
    "#predicting the labels for the test set"
   ]
  },
  {
   "cell_type": "code",
   "execution_count": 20,
   "metadata": {},
   "outputs": [
    {
     "data": {
      "text/plain": [
       "{'loss': [0.9888035655021667,\n",
       "  0.6756885051727295,\n",
       "  0.3908952474594116,\n",
       "  0.3120002746582031,\n",
       "  0.3529985845088959,\n",
       "  0.2629569172859192,\n",
       "  0.2230573147535324,\n",
       "  0.17165055871009827,\n",
       "  0.1113826185464859,\n",
       "  0.07815152406692505,\n",
       "  0.15290901064872742,\n",
       "  0.0829678550362587,\n",
       "  0.05955612286925316,\n",
       "  0.09645931422710419,\n",
       "  0.059843409806489944],\n",
       " 'accuracy': [0.5099999904632568,\n",
       "  0.7549999952316284,\n",
       "  0.8650000095367432,\n",
       "  0.8650000095367432,\n",
       "  0.8450000286102295,\n",
       "  0.9200000166893005,\n",
       "  0.9049999713897705,\n",
       "  0.9399999976158142,\n",
       "  0.949999988079071,\n",
       "  0.9750000238418579,\n",
       "  0.9399999976158142,\n",
       "  0.9599999785423279,\n",
       "  0.9850000143051147,\n",
       "  0.9700000286102295,\n",
       "  0.9750000238418579],\n",
       " 'val_loss': [0.6544054746627808,\n",
       "  0.3876352608203888,\n",
       "  0.265205979347229,\n",
       "  0.2860654890537262,\n",
       "  0.20974820852279663,\n",
       "  0.20688176155090332,\n",
       "  0.2969267666339874,\n",
       "  0.1934560090303421,\n",
       "  0.18496376276016235,\n",
       "  0.22925595939159393,\n",
       "  0.23672255873680115,\n",
       "  0.15145492553710938,\n",
       "  0.18051256239414215,\n",
       "  0.20403285324573517,\n",
       "  0.18446466326713562],\n",
       " 'val_accuracy': [0.843137264251709,\n",
       "  0.8823529481887817,\n",
       "  0.9411764740943909,\n",
       "  0.8823529481887817,\n",
       "  0.9215686321258545,\n",
       "  0.9411764740943909,\n",
       "  0.8627451062202454,\n",
       "  0.9411764740943909,\n",
       "  0.9411764740943909,\n",
       "  0.9215686321258545,\n",
       "  0.9019607901573181,\n",
       "  0.9411764740943909,\n",
       "  0.9607843160629272,\n",
       "  0.9215686321258545,\n",
       "  0.9215686321258545]}"
      ]
     },
     "execution_count": 20,
     "metadata": {},
     "output_type": "execute_result"
    }
   ],
   "source": [
    "history.history"
   ]
  },
  {
   "cell_type": "code",
   "execution_count": 21,
   "metadata": {},
   "outputs": [],
   "source": [
    "acc=history.history['accuracy']\n",
    "val_acc=history.history['val_accuracy']"
   ]
  },
  {
   "cell_type": "code",
   "execution_count": 22,
   "metadata": {},
   "outputs": [],
   "source": [
    "acc1=np.array(acc)\n",
    "val_acc=np.array(val_acc)"
   ]
  },
  {
   "cell_type": "code",
   "execution_count": 26,
   "metadata": {},
   "outputs": [
    {
     "data": {
      "text/plain": [
       "<matplotlib.legend.Legend at 0x1a604c2290>"
      ]
     },
     "execution_count": 26,
     "metadata": {},
     "output_type": "execute_result"
    },
    {
     "data": {
      "image/png": "[encoded data removed]",
      "text/plain": [
       "<Figure size 432x288 with 1 Axes>"
      ]
     },
     "metadata": {
      "needs_background": "light"
     },
     "output_type": "display_data"
    }
   ],
   "source": [
    "plt.plot(history.history['accuracy'])\n",
    "plt.plot(history.history['val_accuracy'])\n",
    "plt.title('Model accuracy')\n",
    "plt.ylabel('Accuracy')\n",
    "plt.xlabel('val_accuracy')\n",
    "plt.legend(['accuracy', 'val_accuracy'], loc='upper left')\n",
    "#plotting the graph of validation accuracy vs accuracy"
   ]
  },
  {
   "cell_type": "code",
   "execution_count": 24,
   "metadata": {},
   "outputs": [
    {
     "data": {
      "text/plain": [
       "<matplotlib.legend.Legend at 0x123833bd0>"
      ]
     },
     "execution_count": 24,
     "metadata": {},
     "output_type": "execute_result"
    },
    {
     "data": {
      "image/png": "[encoded data removed]",
      "text/plain": [
       "<Figure size 432x288 with 1 Axes>"
      ]
     },
     "metadata": {
      "needs_background": "light"
     },
     "output_type": "display_data"
    }
   ],
   "source": [
    "plt.plot(history.history['loss'])\n",
    "plt.plot(history.history['val_loss'])\n",
    "plt.title('loss vs val_loss')\n",
    "plt.ylabel('loss')\n",
    "plt.xlabel('val_loss')\n",
    "plt.legend(['loss', 'val_loss'], loc='upper left')\n",
    "#plotting graph of loss vs validation loss "
   ]
  },
  {
   "cell_type": "code",
   "execution_count": null,
   "metadata": {},
   "outputs": [],
   "source": []
  },
  {
   "cell_type": "code",
   "execution_count": null,
   "metadata": {},
   "outputs": [],
   "source": []
  },
  {
   "cell_type": "code",
   "execution_count": null,
   "metadata": {},
   "outputs": [],
   "source": []
  },
  {
   "cell_type": "code",
   "execution_count": null,
   "metadata": {},
   "outputs": [],
   "source": []
  },
  {
   "cell_type": "code",
   "execution_count": null,
   "metadata": {},
   "outputs": [],
   "source": []
  },
  {
   "cell_type": "code",
   "execution_count": null,
   "metadata": {},
   "outputs": [],
   "source": []
  },
  {
   "cell_type": "code",
   "execution_count": null,
   "metadata": {},
   "outputs": [],
   "source": []
  },
  {
   "cell_type": "code",
   "execution_count": null,
   "metadata": {},
   "outputs": [],
   "source": []
  }
 ],
 "metadata": {
  "kernelspec": {
   "display_name": "Python 3",
   "language": "python",
   "name": "python3"
  },
  "language_info": {
   "codemirror_mode": {
    "name": "ipython",
    "version": 3
   },
   "file_extension": ".py",
   "mimetype": "text/x-python",
   "name": "python",
   "nbconvert_exporter": "python",
   "pygments_lexer": "ipython3",
   "version": "3.7.6"
  }
 },
 "nbformat": 4,
 "nbformat_minor": 4
}
