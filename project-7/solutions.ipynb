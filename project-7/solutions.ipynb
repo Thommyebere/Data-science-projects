{
 "cells": [
  {
   "cell_type": "code",
   "execution_count": 1,
   "metadata": {},
   "outputs": [],
   "source": [
    "import numpy as np\n",
    "import pandas as pd\n",
    "import keras \n",
    "import tensorflow as tf\n",
    "from keras.datasets import mnist\n",
    "from keras.models import Sequential,Input, Model \n",
    "from keras.layers import Dense, Activation \n",
    "from keras.layers import Conv2D, MaxPooling2D\n",
    "from keras.layers.normalization import BatchNormalization\n",
    "from keras.utils import np_utils\n",
    "from keras.optimizers import SGD\n",
    "from keras.layers import Dropout,Dropout, Flatten\n",
    "from keras.layers.advanced_activations import LeakyReLU\n",
    "import random\n",
    "from matplotlib import pyplot as plt"
   ]
  },
  {
   "cell_type": "code",
   "execution_count": 2,
   "metadata": {},
   "outputs": [],
   "source": [
    "(X_train, y_train), (X_test, y_test)=tf.keras.datasets.cifar10.load_data()#Loading dataset and splitting dataset into test and train"
   ]
  },
  {
   "cell_type": "code",
   "execution_count": 3,
   "metadata": {},
   "outputs": [
    {
     "data": {
      "text/plain": [
       "(50000, 32, 32, 3)"
      ]
     },
     "execution_count": 3,
     "metadata": {},
     "output_type": "execute_result"
    }
   ],
   "source": [
    "X_train.shape#Checking the shape of the train set"
   ]
  },
  {
   "cell_type": "code",
   "execution_count": 4,
   "metadata": {},
   "outputs": [
    {
     "data": {
      "text/plain": [
       "0"
      ]
     },
     "execution_count": 4,
     "metadata": {},
     "output_type": "execute_result"
    }
   ],
   "source": [
    "np.isnan(X_train).sum()#Checking for Null values"
   ]
  },
  {
   "cell_type": "code",
   "execution_count": 5,
   "metadata": {},
   "outputs": [
    {
     "data": {
      "text/plain": [
       "0"
      ]
     },
     "execution_count": 5,
     "metadata": {},
     "output_type": "execute_result"
    }
   ],
   "source": [
    "np.isnan(X_test).sum()#Checking for Null values"
   ]
  },
  {
   "cell_type": "code",
   "execution_count": 6,
   "metadata": {},
   "outputs": [
    {
     "data": {
      "text/plain": [
       "0"
      ]
     },
     "execution_count": 6,
     "metadata": {},
     "output_type": "execute_result"
    }
   ],
   "source": [
    "np.isnan(y_train).sum()#Checking for Null values"
   ]
  },
  {
   "cell_type": "code",
   "execution_count": 7,
   "metadata": {},
   "outputs": [
    {
     "data": {
      "text/plain": [
       "0"
      ]
     },
     "execution_count": 7,
     "metadata": {},
     "output_type": "execute_result"
    }
   ],
   "source": [
    "np.isnan(y_test).sum()#Checking for Null values"
   ]
  },
  {
   "cell_type": "code",
   "execution_count": 8,
   "metadata": {},
   "outputs": [
    {
     "data": {
      "text/plain": [
       "(50000, 32, 32, 3)"
      ]
     },
     "execution_count": 8,
     "metadata": {},
     "output_type": "execute_result"
    }
   ],
   "source": [
    "X_train.shape "
   ]
  },
  {
   "cell_type": "code",
   "execution_count": 9,
   "metadata": {},
   "outputs": [],
   "source": [
    "#Performing Normalization\n",
    "X_train=X_train.astype('float32')\n",
    "X_test=X_test.astype('float32')\n",
    "X_train=X_train/255\n",
    "X_test=X_test/255"
   ]
  },
  {
   "cell_type": "code",
   "execution_count": 10,
   "metadata": {},
   "outputs": [
    {
     "data": {
      "text/plain": [
       "(10000, 32, 32, 3)"
      ]
     },
     "execution_count": 10,
     "metadata": {},
     "output_type": "execute_result"
    }
   ],
   "source": [
    "X_test.shape"
   ]
  },
  {
   "cell_type": "code",
   "execution_count": 11,
   "metadata": {},
   "outputs": [],
   "source": [
    "#Encoding the labels of the dataset\n",
    "y_train_hot=tf.keras.utils.to_categorical(y_train,num_classes=10 )\n",
    "y_test_hot=tf.keras.utils.to_categorical(y_test,num_classes=10)"
   ]
  },
  {
   "cell_type": "code",
   "execution_count": 12,
   "metadata": {},
   "outputs": [
    {
     "data": {
      "text/plain": [
       "(50000, 10)"
      ]
     },
     "execution_count": 12,
     "metadata": {},
     "output_type": "execute_result"
    }
   ],
   "source": [
    "y_train_hot.shape"
   ]
  },
  {
   "cell_type": "code",
   "execution_count": 13,
   "metadata": {},
   "outputs": [
    {
     "data": {
      "image/png": "[encoded data removed]",
      "text/plain": [
       "<Figure size 432x288 with 1 Axes>"
      ]
     },
     "metadata": {
      "needs_background": "light"
     },
     "output_type": "display_data"
    }
   ],
   "source": [
    "import matplotlib.pyplot as plt\n",
    "plt.imshow(X_train[12], cmap='Greys')\n",
    "plt.show()"
   ]
  },
  {
   "cell_type": "code",
   "execution_count": 14,
   "metadata": {},
   "outputs": [
    {
     "data": {
      "text/plain": [
       "(10000, 10)"
      ]
     },
     "execution_count": 14,
     "metadata": {},
     "output_type": "execute_result"
    }
   ],
   "source": [
    "y_test_hot.shape"
   ]
  },
  {
   "cell_type": "code",
   "execution_count": 15,
   "metadata": {},
   "outputs": [],
   "source": [
    "#Splitting the dataset\n",
    "from sklearn.model_selection import  train_test_split\n",
    "X_new_train, X_new_test, y_new_train, y_new_test=train_test_split(X_train,y_train_hot, test_size=0.8, random_state=42)"
   ]
  },
  {
   "cell_type": "code",
   "execution_count": 16,
   "metadata": {},
   "outputs": [
    {
     "data": {
      "text/plain": [
       "((10000, 32, 32, 3), (40000, 32, 32, 3), (10000, 10), (40000, 10))"
      ]
     },
     "execution_count": 16,
     "metadata": {},
     "output_type": "execute_result"
    }
   ],
   "source": [
    "X_new_train.shape, X_new_test.shape, y_new_train.shape, y_new_test.shape"
   ]
  },
  {
   "cell_type": "code",
   "execution_count": 17,
   "metadata": {},
   "outputs": [],
   "source": [
    "#Defining layer parameters\n",
    "batch_size=32\n",
    "epochs=50\n",
    "activations='sigmoid'\n",
    "num_classes=10"
   ]
  },
  {
   "cell_type": "code",
   "execution_count": 18,
   "metadata": {},
   "outputs": [],
   "source": [
    "model=Sequential()\n",
    "model.add(Flatten())\n",
    "model.add(Dense(512, input_shape=(32,32,3)))\n",
    "model.add(Activation('sigmoid'))\n",
    "\n",
    "\n",
    "model.add(Dense(512,))\n",
    "model.add(Activation('sigmoid'))\n",
    "\n",
    "model.add(Dense(1024,))\n",
    "model.add(Activation('sigmoid'))\n",
    "\n",
    "model.add(Dense(1024,))\n",
    "model.add(Activation('sigmoid'))\n",
    "\n",
    "model.add(Dense(num_classes))\n",
    "model.add(Activation('softmax'))\n",
    "\n"
   ]
  },
  {
   "cell_type": "code",
   "execution_count": 19,
   "metadata": {},
   "outputs": [
    {
     "name": "stdout",
     "output_type": "stream",
     "text": [
      "Epoch 1/50\n",
      "313/313 [==============================] - 5s 15ms/step - loss: 2.3042 - accuracy: 0.1277 - val_loss: 2.1662 - val_accuracy: 0.1493\n",
      "Epoch 2/50\n",
      "313/313 [==============================] - 5s 16ms/step - loss: 2.1498 - accuracy: 0.1678 - val_loss: 2.1514 - val_accuracy: 0.1800\n",
      "Epoch 3/50\n",
      "313/313 [==============================] - 5s 16ms/step - loss: 2.1029 - accuracy: 0.1867 - val_loss: 2.0795 - val_accuracy: 0.1844\n",
      "Epoch 4/50\n",
      "313/313 [==============================] - 5s 16ms/step - loss: 2.0744 - accuracy: 0.2146 - val_loss: 2.1311 - val_accuracy: 0.2059\n",
      "Epoch 5/50\n",
      "313/313 [==============================] - 5s 15ms/step - loss: 2.0345 - accuracy: 0.2212 - val_loss: 2.0143 - val_accuracy: 0.2450\n",
      "Epoch 6/50\n",
      "313/313 [==============================] - 5s 16ms/step - loss: 2.0013 - accuracy: 0.2365 - val_loss: 2.0209 - val_accuracy: 0.2379\n",
      "Epoch 7/50\n",
      "313/313 [==============================] - 5s 16ms/step - loss: 1.9882 - accuracy: 0.2433 - val_loss: 1.9611 - val_accuracy: 0.2565\n",
      "Epoch 8/50\n",
      "313/313 [==============================] - 5s 16ms/step - loss: 1.9548 - accuracy: 0.2576 - val_loss: 1.9753 - val_accuracy: 0.2478\n",
      "Epoch 9/50\n",
      "313/313 [==============================] - 6s 18ms/step - loss: 1.9402 - accuracy: 0.2617 - val_loss: 1.9376 - val_accuracy: 0.2708\n",
      "Epoch 10/50\n",
      "313/313 [==============================] - 6s 18ms/step - loss: 1.9282 - accuracy: 0.2660 - val_loss: 1.9082 - val_accuracy: 0.2773\n",
      "Epoch 11/50\n",
      "313/313 [==============================] - 5s 17ms/step - loss: 1.9019 - accuracy: 0.2792 - val_loss: 1.9126 - val_accuracy: 0.2553\n",
      "Epoch 12/50\n",
      "313/313 [==============================] - 5s 17ms/step - loss: 1.8855 - accuracy: 0.2927 - val_loss: 1.9392 - val_accuracy: 0.2691\n",
      "Epoch 13/50\n",
      "313/313 [==============================] - 6s 18ms/step - loss: 1.8753 - accuracy: 0.2948 - val_loss: 1.8994 - val_accuracy: 0.3001\n",
      "Epoch 14/50\n",
      "313/313 [==============================] - 5s 16ms/step - loss: 1.8453 - accuracy: 0.3061 - val_loss: 1.8639 - val_accuracy: 0.3085\n",
      "Epoch 15/50\n",
      "313/313 [==============================] - 5s 16ms/step - loss: 1.8323 - accuracy: 0.3180 - val_loss: 1.8412 - val_accuracy: 0.3255\n",
      "Epoch 16/50\n",
      "313/313 [==============================] - 5s 17ms/step - loss: 1.8132 - accuracy: 0.3224 - val_loss: 1.8524 - val_accuracy: 0.3037\n",
      "Epoch 17/50\n",
      "313/313 [==============================] - 5s 17ms/step - loss: 1.8030 - accuracy: 0.3312 - val_loss: 1.8480 - val_accuracy: 0.3169\n",
      "Epoch 18/50\n",
      "313/313 [==============================] - 5s 17ms/step - loss: 1.8007 - accuracy: 0.3346 - val_loss: 1.8673 - val_accuracy: 0.3118\n",
      "Epoch 19/50\n",
      "313/313 [==============================] - 5s 17ms/step - loss: 1.7869 - accuracy: 0.3337 - val_loss: 1.8653 - val_accuracy: 0.3036\n",
      "Epoch 20/50\n",
      "313/313 [==============================] - 5s 17ms/step - loss: 1.7720 - accuracy: 0.3415 - val_loss: 1.8343 - val_accuracy: 0.3298\n",
      "Epoch 21/50\n",
      "313/313 [==============================] - 5s 17ms/step - loss: 1.7494 - accuracy: 0.3438 - val_loss: 1.8468 - val_accuracy: 0.3236\n",
      "Epoch 22/50\n",
      "313/313 [==============================] - 5s 17ms/step - loss: 1.7472 - accuracy: 0.3573 - val_loss: 1.8344 - val_accuracy: 0.3273\n",
      "Epoch 23/50\n",
      "313/313 [==============================] - 6s 19ms/step - loss: 1.7276 - accuracy: 0.3622 - val_loss: 1.8322 - val_accuracy: 0.3174\n",
      "Epoch 24/50\n",
      "313/313 [==============================] - 5s 16ms/step - loss: 1.7226 - accuracy: 0.3598 - val_loss: 1.8460 - val_accuracy: 0.3254\n",
      "Epoch 25/50\n",
      "313/313 [==============================] - 5s 18ms/step - loss: 1.7184 - accuracy: 0.3620 - val_loss: 1.8004 - val_accuracy: 0.3459\n",
      "Epoch 26/50\n",
      "313/313 [==============================] - 6s 19ms/step - loss: 1.7030 - accuracy: 0.3638 - val_loss: 1.8309 - val_accuracy: 0.3246\n",
      "Epoch 27/50\n",
      "313/313 [==============================] - 6s 19ms/step - loss: 1.7011 - accuracy: 0.3718 - val_loss: 1.7966 - val_accuracy: 0.3324\n",
      "Epoch 28/50\n",
      "313/313 [==============================] - 6s 20ms/step - loss: 1.6877 - accuracy: 0.3799 - val_loss: 1.7819 - val_accuracy: 0.3534\n",
      "Epoch 29/50\n",
      "313/313 [==============================] - 7s 21ms/step - loss: 1.6570 - accuracy: 0.3879 - val_loss: 1.8044 - val_accuracy: 0.3417\n",
      "Epoch 30/50\n",
      "313/313 [==============================] - 6s 19ms/step - loss: 1.6509 - accuracy: 0.3922 - val_loss: 1.7890 - val_accuracy: 0.3543\n",
      "Epoch 31/50\n",
      "313/313 [==============================] - 6s 20ms/step - loss: 1.6321 - accuracy: 0.3988 - val_loss: 1.8094 - val_accuracy: 0.3252\n",
      "Epoch 32/50\n",
      "313/313 [==============================] - 6s 19ms/step - loss: 1.6459 - accuracy: 0.3955 - val_loss: 1.7676 - val_accuracy: 0.3585\n",
      "Epoch 33/50\n",
      "313/313 [==============================] - 5s 16ms/step - loss: 1.6107 - accuracy: 0.4077 - val_loss: 1.7862 - val_accuracy: 0.3606\n",
      "Epoch 34/50\n",
      "313/313 [==============================] - 5s 17ms/step - loss: 1.6068 - accuracy: 0.4115 - val_loss: 1.7834 - val_accuracy: 0.3644\n",
      "Epoch 35/50\n",
      "313/313 [==============================] - 5s 17ms/step - loss: 1.6209 - accuracy: 0.4061 - val_loss: 1.7622 - val_accuracy: 0.3545\n",
      "Epoch 36/50\n",
      "313/313 [==============================] - 6s 18ms/step - loss: 1.6046 - accuracy: 0.4170 - val_loss: 1.7589 - val_accuracy: 0.3650\n",
      "Epoch 37/50\n",
      "313/313 [==============================] - 6s 18ms/step - loss: 1.5994 - accuracy: 0.4138 - val_loss: 1.7605 - val_accuracy: 0.3724\n",
      "Epoch 38/50\n",
      "313/313 [==============================] - 6s 18ms/step - loss: 1.5775 - accuracy: 0.4262 - val_loss: 1.7726 - val_accuracy: 0.3674\n",
      "Epoch 39/50\n",
      "313/313 [==============================] - 6s 18ms/step - loss: 1.5809 - accuracy: 0.4190 - val_loss: 1.7948 - val_accuracy: 0.3523\n",
      "Epoch 40/50\n",
      "313/313 [==============================] - 6s 18ms/step - loss: 1.5665 - accuracy: 0.4234 - val_loss: 1.7988 - val_accuracy: 0.3621\n",
      "Epoch 41/50\n",
      "313/313 [==============================] - 6s 19ms/step - loss: 1.5562 - accuracy: 0.4282 - val_loss: 1.7610 - val_accuracy: 0.3691\n",
      "Epoch 42/50\n",
      "313/313 [==============================] - 5s 17ms/step - loss: 1.5408 - accuracy: 0.4378 - val_loss: 1.7607 - val_accuracy: 0.3667\n",
      "Epoch 43/50\n",
      "313/313 [==============================] - 5s 16ms/step - loss: 1.5397 - accuracy: 0.4363 - val_loss: 1.7578 - val_accuracy: 0.3685\n",
      "Epoch 44/50\n",
      "313/313 [==============================] - 5s 16ms/step - loss: 1.5120 - accuracy: 0.4471 - val_loss: 1.7934 - val_accuracy: 0.3659\n",
      "Epoch 45/50\n",
      "313/313 [==============================] - 5s 17ms/step - loss: 1.5244 - accuracy: 0.4393 - val_loss: 1.7996 - val_accuracy: 0.3745\n",
      "Epoch 46/50\n",
      "313/313 [==============================] - 5s 17ms/step - loss: 1.5078 - accuracy: 0.4446 - val_loss: 1.7718 - val_accuracy: 0.3827\n",
      "Epoch 47/50\n",
      "313/313 [==============================] - 5s 17ms/step - loss: 1.4927 - accuracy: 0.4476 - val_loss: 1.7854 - val_accuracy: 0.3665\n",
      "Epoch 48/50\n",
      "313/313 [==============================] - 5s 15ms/step - loss: 1.4838 - accuracy: 0.4494 - val_loss: 1.7807 - val_accuracy: 0.3670\n",
      "Epoch 49/50\n",
      "313/313 [==============================] - 5s 15ms/step - loss: 1.4835 - accuracy: 0.4575 - val_loss: 1.7743 - val_accuracy: 0.3709\n",
      "Epoch 50/50\n",
      "313/313 [==============================] - 5s 16ms/step - loss: 1.4876 - accuracy: 0.4499 - val_loss: 1.7851 - val_accuracy: 0.3670\n"
     ]
    }
   ],
   "source": [
    "#Compiling the model\n",
    "model.compile(loss='categorical_crossentropy', optimizer='adam', metrics=['accuracy'])\n",
    "history=model.fit(X_new_train, y_new_train, batch_size=batch_size, epochs=epochs, verbose=1,\\\n",
    "         validation_data=(X_test, y_test_hot))          "
   ]
  },
  {
   "cell_type": "code",
   "execution_count": 20,
   "metadata": {},
   "outputs": [
    {
     "data": {
      "text/plain": [
       "{'loss': [2.304161787033081,\n",
       "  2.149817943572998,\n",
       "  2.102918863296509,\n",
       "  2.0743696689605713,\n",
       "  2.0345261096954346,\n",
       "  2.001326560974121,\n",
       "  1.9881713390350342,\n",
       "  1.9547709226608276,\n",
       "  1.9402096271514893,\n",
       "  1.9282132387161255,\n",
       "  1.9018594026565552,\n",
       "  1.885478138923645,\n",
       "  1.8752968311309814,\n",
       "  1.8452695608139038,\n",
       "  1.8322815895080566,\n",
       "  1.813153862953186,\n",
       "  1.8030295372009277,\n",
       "  1.8006978034973145,\n",
       "  1.7868924140930176,\n",
       "  1.7720118761062622,\n",
       "  1.7493929862976074,\n",
       "  1.747170090675354,\n",
       "  1.7275724411010742,\n",
       "  1.7226495742797852,\n",
       "  1.7184042930603027,\n",
       "  1.7030479907989502,\n",
       "  1.7010555267333984,\n",
       "  1.687745451927185,\n",
       "  1.657022476196289,\n",
       "  1.6508758068084717,\n",
       "  1.6321133375167847,\n",
       "  1.6458991765975952,\n",
       "  1.610656976699829,\n",
       "  1.606765866279602,\n",
       "  1.620874285697937,\n",
       "  1.604605793952942,\n",
       "  1.5993901491165161,\n",
       "  1.5775479078292847,\n",
       "  1.5809458494186401,\n",
       "  1.5664582252502441,\n",
       "  1.556227207183838,\n",
       "  1.5408090353012085,\n",
       "  1.5396941900253296,\n",
       "  1.511972188949585,\n",
       "  1.524439811706543,\n",
       "  1.5077998638153076,\n",
       "  1.4926600456237793,\n",
       "  1.4838372468948364,\n",
       "  1.4835460186004639,\n",
       "  1.4875984191894531],\n",
       " 'accuracy': [0.12770000100135803,\n",
       "  0.16779999434947968,\n",
       "  0.1867000013589859,\n",
       "  0.21459999680519104,\n",
       "  0.22120000422000885,\n",
       "  0.23649999499320984,\n",
       "  0.24330000579357147,\n",
       "  0.25760000944137573,\n",
       "  0.26170000433921814,\n",
       "  0.26600000262260437,\n",
       "  0.2791999876499176,\n",
       "  0.29269999265670776,\n",
       "  0.2948000133037567,\n",
       "  0.3061000108718872,\n",
       "  0.3179999887943268,\n",
       "  0.3224000036716461,\n",
       "  0.3312000036239624,\n",
       "  0.3346000015735626,\n",
       "  0.3337000012397766,\n",
       "  0.34150001406669617,\n",
       "  0.34380000829696655,\n",
       "  0.3573000133037567,\n",
       "  0.362199991941452,\n",
       "  0.3598000109195709,\n",
       "  0.3619999885559082,\n",
       "  0.3637999892234802,\n",
       "  0.3718000054359436,\n",
       "  0.3799000084400177,\n",
       "  0.3878999948501587,\n",
       "  0.3921999931335449,\n",
       "  0.39879998564720154,\n",
       "  0.3955000042915344,\n",
       "  0.4077000021934509,\n",
       "  0.4115000069141388,\n",
       "  0.40610000491142273,\n",
       "  0.4169999957084656,\n",
       "  0.4138000011444092,\n",
       "  0.4262000024318695,\n",
       "  0.4189999997615814,\n",
       "  0.42340001463890076,\n",
       "  0.42820000648498535,\n",
       "  0.43779999017715454,\n",
       "  0.43630000948905945,\n",
       "  0.4471000134944916,\n",
       "  0.439300000667572,\n",
       "  0.444599986076355,\n",
       "  0.44760000705718994,\n",
       "  0.44940000772476196,\n",
       "  0.45750001072883606,\n",
       "  0.4499000012874603],\n",
       " 'val_loss': [2.166180372238159,\n",
       "  2.1513960361480713,\n",
       "  2.07953143119812,\n",
       "  2.131124973297119,\n",
       "  2.01426362991333,\n",
       "  2.020930290222168,\n",
       "  1.9610564708709717,\n",
       "  1.975280523300171,\n",
       "  1.9376212358474731,\n",
       "  1.9082168340682983,\n",
       "  1.912644386291504,\n",
       "  1.9392040967941284,\n",
       "  1.8993853330612183,\n",
       "  1.8638910055160522,\n",
       "  1.8411846160888672,\n",
       "  1.8523573875427246,\n",
       "  1.8480058908462524,\n",
       "  1.8673431873321533,\n",
       "  1.8652634620666504,\n",
       "  1.8342695236206055,\n",
       "  1.846781849861145,\n",
       "  1.834439992904663,\n",
       "  1.8322306871414185,\n",
       "  1.8459529876708984,\n",
       "  1.8003917932510376,\n",
       "  1.8309085369110107,\n",
       "  1.7965760231018066,\n",
       "  1.7818719148635864,\n",
       "  1.8044146299362183,\n",
       "  1.789001703262329,\n",
       "  1.8094429969787598,\n",
       "  1.7675861120224,\n",
       "  1.7862037420272827,\n",
       "  1.7833768129348755,\n",
       "  1.7622486352920532,\n",
       "  1.7589081525802612,\n",
       "  1.7604577541351318,\n",
       "  1.7726049423217773,\n",
       "  1.7948304414749146,\n",
       "  1.7988035678863525,\n",
       "  1.7609989643096924,\n",
       "  1.760710597038269,\n",
       "  1.7578271627426147,\n",
       "  1.793382167816162,\n",
       "  1.7996132373809814,\n",
       "  1.7717643976211548,\n",
       "  1.7854065895080566,\n",
       "  1.7806965112686157,\n",
       "  1.7743488550186157,\n",
       "  1.7850630283355713],\n",
       " 'val_accuracy': [0.1492999941110611,\n",
       "  0.18000000715255737,\n",
       "  0.18440000712871552,\n",
       "  0.20589999854564667,\n",
       "  0.24500000476837158,\n",
       "  0.2379000037908554,\n",
       "  0.2565000057220459,\n",
       "  0.24779999256134033,\n",
       "  0.27079999446868896,\n",
       "  0.27730000019073486,\n",
       "  0.25529998540878296,\n",
       "  0.26910001039505005,\n",
       "  0.3000999987125397,\n",
       "  0.3084999918937683,\n",
       "  0.3255000114440918,\n",
       "  0.3037000000476837,\n",
       "  0.31690001487731934,\n",
       "  0.3118000030517578,\n",
       "  0.303600013256073,\n",
       "  0.329800009727478,\n",
       "  0.32359999418258667,\n",
       "  0.3273000121116638,\n",
       "  0.3174000084400177,\n",
       "  0.3253999948501587,\n",
       "  0.3458999991416931,\n",
       "  0.3246000111103058,\n",
       "  0.33239999413490295,\n",
       "  0.35339999198913574,\n",
       "  0.3416999876499176,\n",
       "  0.35429999232292175,\n",
       "  0.32519999146461487,\n",
       "  0.35850000381469727,\n",
       "  0.36059999465942383,\n",
       "  0.3643999993801117,\n",
       "  0.3544999957084656,\n",
       "  0.36500000953674316,\n",
       "  0.3723999857902527,\n",
       "  0.36739999055862427,\n",
       "  0.3522999882698059,\n",
       "  0.3621000051498413,\n",
       "  0.36910000443458557,\n",
       "  0.3666999936103821,\n",
       "  0.3684999942779541,\n",
       "  0.3659000098705292,\n",
       "  0.37450000643730164,\n",
       "  0.38269999623298645,\n",
       "  0.36649999022483826,\n",
       "  0.367000013589859,\n",
       "  0.3709000051021576,\n",
       "  0.367000013589859]}"
      ]
     },
     "execution_count": 20,
     "metadata": {},
     "output_type": "execute_result"
    }
   ],
   "source": [
    "history.history"
   ]
  },
  {
   "cell_type": "code",
   "execution_count": 21,
   "metadata": {},
   "outputs": [
    {
     "name": "stdout",
     "output_type": "stream",
     "text": [
      "313/313 [==============================] - 1s 3ms/step - loss: 1.7851 - accuracy: 0.3670\n"
     ]
    },
    {
     "data": {
      "text/plain": [
       "[1.7850630283355713, 0.367000013589859]"
      ]
     },
     "execution_count": 21,
     "metadata": {},
     "output_type": "execute_result"
    }
   ],
   "source": [
    "model.evaluate(X_test, y_test_hot)#Model test evaluation"
   ]
  },
  {
   "cell_type": "code",
   "execution_count": 22,
   "metadata": {},
   "outputs": [
    {
     "data": {
      "image/png": "[encoded data removed]",
      "text/plain": [
       "<Figure size 432x288 with 1 Axes>"
      ]
     },
     "metadata": {
      "needs_background": "light"
     },
     "output_type": "display_data"
    }
   ],
   "source": [
    "#Plotting graph of the accuracies of the MLP VS the Validation Accuracies\n",
    "epoch_range=range(1, epochs+1)\n",
    "plt.plot(epoch_range, history.history['accuracy'])\n",
    "plt.plot(epoch_range, history.history['val_accuracy'])\n",
    "plt.title('Model accuracy')\n",
    "plt.ylabel('Accuracy')\n",
    "plt.xlabel('Epoch')\n",
    "plt.legend(['Train', 'val'], loc='upper left')\n",
    "plt.show()\n",
    "\n",
    "\n",
    "\n",
    "\n",
    "\n"
   ]
  },
  {
   "cell_type": "code",
   "execution_count": 23,
   "metadata": {},
   "outputs": [
    {
     "data": {
      "text/plain": [
       "[0.12770000100135803,\n",
       " 0.16779999434947968,\n",
       " 0.1867000013589859,\n",
       " 0.21459999680519104,\n",
       " 0.22120000422000885,\n",
       " 0.23649999499320984,\n",
       " 0.24330000579357147,\n",
       " 0.25760000944137573,\n",
       " 0.26170000433921814,\n",
       " 0.26600000262260437,\n",
       " 0.2791999876499176,\n",
       " 0.29269999265670776,\n",
       " 0.2948000133037567,\n",
       " 0.3061000108718872,\n",
       " 0.3179999887943268,\n",
       " 0.3224000036716461,\n",
       " 0.3312000036239624,\n",
       " 0.3346000015735626,\n",
       " 0.3337000012397766,\n",
       " 0.34150001406669617,\n",
       " 0.34380000829696655,\n",
       " 0.3573000133037567,\n",
       " 0.362199991941452,\n",
       " 0.3598000109195709,\n",
       " 0.3619999885559082,\n",
       " 0.3637999892234802,\n",
       " 0.3718000054359436,\n",
       " 0.3799000084400177,\n",
       " 0.3878999948501587,\n",
       " 0.3921999931335449,\n",
       " 0.39879998564720154,\n",
       " 0.3955000042915344,\n",
       " 0.4077000021934509,\n",
       " 0.4115000069141388,\n",
       " 0.40610000491142273,\n",
       " 0.4169999957084656,\n",
       " 0.4138000011444092,\n",
       " 0.4262000024318695,\n",
       " 0.4189999997615814,\n",
       " 0.42340001463890076,\n",
       " 0.42820000648498535,\n",
       " 0.43779999017715454,\n",
       " 0.43630000948905945,\n",
       " 0.4471000134944916,\n",
       " 0.439300000667572,\n",
       " 0.444599986076355,\n",
       " 0.44760000705718994,\n",
       " 0.44940000772476196,\n",
       " 0.45750001072883606,\n",
       " 0.4499000012874603]"
      ]
     },
     "execution_count": 23,
     "metadata": {},
     "output_type": "execute_result"
    }
   ],
   "source": [
    "history.history['accuracy']#history accuracy"
   ]
  },
  {
   "cell_type": "code",
   "execution_count": 24,
   "metadata": {},
   "outputs": [
    {
     "data": {
      "text/plain": [
       "[0.1492999941110611,\n",
       " 0.18000000715255737,\n",
       " 0.18440000712871552,\n",
       " 0.20589999854564667,\n",
       " 0.24500000476837158,\n",
       " 0.2379000037908554,\n",
       " 0.2565000057220459,\n",
       " 0.24779999256134033,\n",
       " 0.27079999446868896,\n",
       " 0.27730000019073486,\n",
       " 0.25529998540878296,\n",
       " 0.26910001039505005,\n",
       " 0.3000999987125397,\n",
       " 0.3084999918937683,\n",
       " 0.3255000114440918,\n",
       " 0.3037000000476837,\n",
       " 0.31690001487731934,\n",
       " 0.3118000030517578,\n",
       " 0.303600013256073,\n",
       " 0.329800009727478,\n",
       " 0.32359999418258667,\n",
       " 0.3273000121116638,\n",
       " 0.3174000084400177,\n",
       " 0.3253999948501587,\n",
       " 0.3458999991416931,\n",
       " 0.3246000111103058,\n",
       " 0.33239999413490295,\n",
       " 0.35339999198913574,\n",
       " 0.3416999876499176,\n",
       " 0.35429999232292175,\n",
       " 0.32519999146461487,\n",
       " 0.35850000381469727,\n",
       " 0.36059999465942383,\n",
       " 0.3643999993801117,\n",
       " 0.3544999957084656,\n",
       " 0.36500000953674316,\n",
       " 0.3723999857902527,\n",
       " 0.36739999055862427,\n",
       " 0.3522999882698059,\n",
       " 0.3621000051498413,\n",
       " 0.36910000443458557,\n",
       " 0.3666999936103821,\n",
       " 0.3684999942779541,\n",
       " 0.3659000098705292,\n",
       " 0.37450000643730164,\n",
       " 0.38269999623298645,\n",
       " 0.36649999022483826,\n",
       " 0.367000013589859,\n",
       " 0.3709000051021576,\n",
       " 0.367000013589859]"
      ]
     },
     "execution_count": 24,
     "metadata": {},
     "output_type": "execute_result"
    }
   ],
   "source": [
    "history.history['val_accuracy']#val_accuracy"
   ]
  },
  {
   "cell_type": "code",
   "execution_count": 25,
   "metadata": {},
   "outputs": [],
   "source": [
    "model_CNN1=Sequential()"
   ]
  },
  {
   "cell_type": "code",
   "execution_count": 26,
   "metadata": {},
   "outputs": [],
   "source": [
    "model_CNN1.add(Conv2D(64, kernel_size=(3,3,), activation='relu', input_shape=(32,32,3), padding='same'))"
   ]
  },
  {
   "cell_type": "code",
   "execution_count": 27,
   "metadata": {},
   "outputs": [],
   "source": [
    "model_CNN1.add(Conv2D(64, kernel_size=(3,3,), activation='relu', padding='same'))"
   ]
  },
  {
   "cell_type": "code",
   "execution_count": 28,
   "metadata": {},
   "outputs": [],
   "source": [
    "model_CNN1.add(Dense(512,))\n",
    "model_CNN1.add(Activation('sigmoid'))"
   ]
  },
  {
   "cell_type": "code",
   "execution_count": 29,
   "metadata": {},
   "outputs": [],
   "source": [
    "model_CNN1.add(Dense(512,))\n",
    "model_CNN1.add(Activation('sigmoid'))"
   ]
  },
  {
   "cell_type": "code",
   "execution_count": 30,
   "metadata": {},
   "outputs": [],
   "source": [
    "model_CNN1.add(Flatten())"
   ]
  },
  {
   "cell_type": "code",
   "execution_count": 31,
   "metadata": {},
   "outputs": [],
   "source": [
    "model_CNN1.add(Dense(num_classes, activation='softmax'))"
   ]
  },
  {
   "cell_type": "code",
   "execution_count": 32,
   "metadata": {},
   "outputs": [],
   "source": [
    "model_CNN1.compile(loss=keras.losses.categorical_crossentropy, optimizer=keras.optimizers.Adam(),metrics=['accuracy'])\n"
   ]
  },
  {
   "cell_type": "code",
   "execution_count": 33,
   "metadata": {},
   "outputs": [
    {
     "name": "stdout",
     "output_type": "stream",
     "text": [
      "Epoch 1/50\n",
      "313/313 [==============================] - 160s 510ms/step - loss: 10.5467 - accuracy: 0.1011 - val_loss: 2.3029 - val_accuracy: 0.1000\n",
      "Epoch 2/50\n",
      "313/313 [==============================] - 162s 516ms/step - loss: 2.3027 - accuracy: 0.0935 - val_loss: 2.3027 - val_accuracy: 0.0955\n",
      "Epoch 3/50\n",
      "313/313 [==============================] - 162s 518ms/step - loss: 2.3025 - accuracy: 0.1024 - val_loss: 2.3028 - val_accuracy: 0.1031\n",
      "Epoch 4/50\n",
      "313/313 [==============================] - 162s 519ms/step - loss: 2.3024 - accuracy: 0.1040 - val_loss: 2.3027 - val_accuracy: 0.1033\n",
      "Epoch 5/50\n",
      "313/313 [==============================] - 165s 526ms/step - loss: 2.3022 - accuracy: 0.1043 - val_loss: 2.3024 - val_accuracy: 0.1051\n",
      "Epoch 6/50\n",
      "313/313 [==============================] - 160s 512ms/step - loss: 2.3019 - accuracy: 0.1043 - val_loss: 2.3019 - val_accuracy: 0.1060\n",
      "Epoch 7/50\n",
      "313/313 [==============================] - 161s 513ms/step - loss: 2.3012 - accuracy: 0.1142 - val_loss: 2.3007 - val_accuracy: 0.1186\n",
      "Epoch 8/50\n",
      "313/313 [==============================] - 162s 516ms/step - loss: 2.2964 - accuracy: 0.1407 - val_loss: 2.2814 - val_accuracy: 0.1531\n",
      "Epoch 9/50\n",
      "313/313 [==============================] - 161s 515ms/step - loss: 2.2404 - accuracy: 0.1654 - val_loss: 2.2008 - val_accuracy: 0.1880\n",
      "Epoch 10/50\n",
      "313/313 [==============================] - 158s 506ms/step - loss: 2.0824 - accuracy: 0.2418 - val_loss: 1.9966 - val_accuracy: 0.2933\n",
      "Epoch 11/50\n",
      "313/313 [==============================] - 159s 509ms/step - loss: 1.8707 - accuracy: 0.3159 - val_loss: 1.8072 - val_accuracy: 0.3384\n",
      "Epoch 12/50\n",
      "313/313 [==============================] - 156s 499ms/step - loss: 1.7483 - accuracy: 0.3695 - val_loss: 1.7776 - val_accuracy: 0.3520\n",
      "Epoch 13/50\n",
      "313/313 [==============================] - 157s 503ms/step - loss: 1.6622 - accuracy: 0.4024 - val_loss: 1.7559 - val_accuracy: 0.3720\n",
      "Epoch 14/50\n",
      "313/313 [==============================] - 159s 510ms/step - loss: 1.5834 - accuracy: 0.4274 - val_loss: 1.7362 - val_accuracy: 0.3608\n",
      "Epoch 15/50\n",
      "313/313 [==============================] - 159s 508ms/step - loss: 1.5061 - accuracy: 0.4576 - val_loss: 1.6959 - val_accuracy: 0.3867\n",
      "Epoch 16/50\n",
      "313/313 [==============================] - 159s 508ms/step - loss: 1.4461 - accuracy: 0.4821 - val_loss: 1.7154 - val_accuracy: 0.3749\n",
      "Epoch 17/50\n",
      "313/313 [==============================] - 159s 508ms/step - loss: 1.3897 - accuracy: 0.5037 - val_loss: 1.7354 - val_accuracy: 0.3909\n",
      "Epoch 18/50\n",
      "313/313 [==============================] - 159s 507ms/step - loss: 1.3322 - accuracy: 0.5255 - val_loss: 1.8685 - val_accuracy: 0.3782\n",
      "Epoch 19/50\n",
      "313/313 [==============================] - 159s 507ms/step - loss: 1.2666 - accuracy: 0.5537 - val_loss: 1.8312 - val_accuracy: 0.3879\n",
      "Epoch 20/50\n",
      "313/313 [==============================] - 159s 508ms/step - loss: 1.1738 - accuracy: 0.5851 - val_loss: 1.8223 - val_accuracy: 0.3626\n",
      "Epoch 21/50\n",
      "313/313 [==============================] - 161s 513ms/step - loss: 1.0530 - accuracy: 0.6294 - val_loss: 1.9866 - val_accuracy: 0.3857\n",
      "Epoch 22/50\n",
      "313/313 [==============================] - 157s 501ms/step - loss: 0.8850 - accuracy: 0.6927 - val_loss: 2.0582 - val_accuracy: 0.3758\n",
      "Epoch 23/50\n",
      "313/313 [==============================] - 158s 504ms/step - loss: 0.7294 - accuracy: 0.7522 - val_loss: 2.2305 - val_accuracy: 0.3773\n",
      "Epoch 24/50\n",
      "313/313 [==============================] - 158s 506ms/step - loss: 0.5699 - accuracy: 0.8133 - val_loss: 2.6255 - val_accuracy: 0.3651\n",
      "Epoch 25/50\n",
      "313/313 [==============================] - 159s 509ms/step - loss: 0.4323 - accuracy: 0.8667 - val_loss: 2.9057 - val_accuracy: 0.3644\n",
      "Epoch 26/50\n",
      "313/313 [==============================] - 160s 511ms/step - loss: 0.3262 - accuracy: 0.9020 - val_loss: 3.1939 - val_accuracy: 0.3552\n",
      "Epoch 27/50\n",
      "313/313 [==============================] - 161s 515ms/step - loss: 0.2474 - accuracy: 0.9343 - val_loss: 3.3122 - val_accuracy: 0.3570\n",
      "Epoch 28/50\n",
      "313/313 [==============================] - 180s 574ms/step - loss: 0.1879 - accuracy: 0.9522 - val_loss: 3.5928 - val_accuracy: 0.3491\n",
      "Epoch 29/50\n",
      "313/313 [==============================] - 164s 525ms/step - loss: 0.1348 - accuracy: 0.9677 - val_loss: 3.7412 - val_accuracy: 0.3478\n",
      "Epoch 30/50\n",
      "313/313 [==============================] - 183s 586ms/step - loss: 0.1073 - accuracy: 0.9785 - val_loss: 4.1644 - val_accuracy: 0.3561\n",
      "Epoch 31/50\n",
      "313/313 [==============================] - 165s 527ms/step - loss: 0.0857 - accuracy: 0.9845 - val_loss: 4.5956 - val_accuracy: 0.3566\n",
      "Epoch 32/50\n",
      "313/313 [==============================] - 162s 517ms/step - loss: 0.0694 - accuracy: 0.9873 - val_loss: 4.5542 - val_accuracy: 0.3548\n",
      "Epoch 33/50\n",
      "313/313 [==============================] - 177s 566ms/step - loss: 0.0539 - accuracy: 0.9910 - val_loss: 4.6630 - val_accuracy: 0.3599\n",
      "Epoch 34/50\n",
      "313/313 [==============================] - 179s 571ms/step - loss: 0.0416 - accuracy: 0.9944 - val_loss: 4.5835 - val_accuracy: 0.3542\n",
      "Epoch 35/50\n",
      "313/313 [==============================] - 162s 518ms/step - loss: 0.0428 - accuracy: 0.9931 - val_loss: 4.8451 - val_accuracy: 0.3590\n",
      "Epoch 36/50\n",
      "313/313 [==============================] - 163s 520ms/step - loss: 0.0588 - accuracy: 0.9884 - val_loss: 4.5965 - val_accuracy: 0.3461\n",
      "Epoch 37/50\n",
      "313/313 [==============================] - 162s 517ms/step - loss: 0.0425 - accuracy: 0.9925 - val_loss: 5.2301 - val_accuracy: 0.3493\n",
      "Epoch 38/50\n",
      "313/313 [==============================] - 162s 517ms/step - loss: 0.0238 - accuracy: 0.9969 - val_loss: 4.8843 - val_accuracy: 0.3585\n",
      "Epoch 39/50\n",
      "313/313 [==============================] - 160s 512ms/step - loss: 0.0129 - accuracy: 0.9991 - val_loss: 5.6505 - val_accuracy: 0.3580\n",
      "Epoch 40/50\n",
      "313/313 [==============================] - 159s 508ms/step - loss: 0.0087 - accuracy: 0.9993 - val_loss: 6.2479 - val_accuracy: 0.3576\n",
      "Epoch 41/50\n",
      "313/313 [==============================] - 160s 513ms/step - loss: 0.0066 - accuracy: 0.9997 - val_loss: 6.2788 - val_accuracy: 0.3574\n",
      "Epoch 42/50\n",
      "313/313 [==============================] - 162s 518ms/step - loss: 0.0051 - accuracy: 0.9999 - val_loss: 6.3729 - val_accuracy: 0.3580\n",
      "Epoch 43/50\n",
      "313/313 [==============================] - 162s 516ms/step - loss: 0.0041 - accuracy: 1.0000 - val_loss: 6.4965 - val_accuracy: 0.3572\n",
      "Epoch 44/50\n",
      "313/313 [==============================] - 165s 527ms/step - loss: 0.0034 - accuracy: 1.0000 - val_loss: 6.6908 - val_accuracy: 0.3570\n",
      "Epoch 45/50\n",
      "313/313 [==============================] - 163s 520ms/step - loss: 0.0043 - accuracy: 1.0000 - val_loss: 6.7974 - val_accuracy: 0.3518\n",
      "Epoch 46/50\n",
      "313/313 [==============================] - 165s 527ms/step - loss: 0.1182 - accuracy: 0.9646 - val_loss: 5.0005 - val_accuracy: 0.3417\n",
      "Epoch 47/50\n",
      "313/313 [==============================] - 165s 528ms/step - loss: 0.1208 - accuracy: 0.9649 - val_loss: 5.7018 - val_accuracy: 0.3488\n",
      "Epoch 48/50\n",
      "313/313 [==============================] - 164s 524ms/step - loss: 0.0288 - accuracy: 0.9938 - val_loss: 5.6802 - val_accuracy: 0.3531\n",
      "Epoch 49/50\n",
      "313/313 [==============================] - 166s 532ms/step - loss: 0.0082 - accuracy: 0.9994 - val_loss: 6.3989 - val_accuracy: 0.3566\n",
      "Epoch 50/50\n",
      "313/313 [==============================] - 160s 512ms/step - loss: 0.0033 - accuracy: 1.0000 - val_loss: 6.6319 - val_accuracy: 0.3565\n"
     ]
    }
   ],
   "source": [
    "history=model_CNN1.fit(X_new_train, y_new_train, batch_size=batch_size,epochs=epochs,verbose=1,\\\n",
    "                      validation_data=(X_test, y_test_hot))\n"
   ]
  },
  {
   "cell_type": "code",
   "execution_count": 34,
   "metadata": {},
   "outputs": [
    {
     "name": "stdout",
     "output_type": "stream",
     "text": [
      "313/313 [==============================] - 42s 134ms/step - loss: 6.6319 - accuracy: 0.3565\n"
     ]
    },
    {
     "data": {
      "text/plain": [
       "[6.63186502456665, 0.3564999997615814]"
      ]
     },
     "execution_count": 34,
     "metadata": {},
     "output_type": "execute_result"
    }
   ],
   "source": [
    "model_CNN1.evaluate(X_test, y_test_hot)"
   ]
  },
  {
   "cell_type": "code",
   "execution_count": 35,
   "metadata": {},
   "outputs": [
    {
     "data": {
      "text/plain": [
       "{'loss': [10.54673957824707,\n",
       "  2.302729845046997,\n",
       "  2.302497148513794,\n",
       "  2.302381992340088,\n",
       "  2.302227735519409,\n",
       "  2.301877021789551,\n",
       "  2.3012170791625977,\n",
       "  2.2963926792144775,\n",
       "  2.2404088973999023,\n",
       "  2.082395076751709,\n",
       "  1.8706761598587036,\n",
       "  1.748293161392212,\n",
       "  1.6622394323349,\n",
       "  1.5833812952041626,\n",
       "  1.506142258644104,\n",
       "  1.4460502862930298,\n",
       "  1.3896796703338623,\n",
       "  1.3321750164031982,\n",
       "  1.2666493654251099,\n",
       "  1.1737985610961914,\n",
       "  1.0529522895812988,\n",
       "  0.8849974870681763,\n",
       "  0.7294132113456726,\n",
       "  0.5699196457862854,\n",
       "  0.4323030710220337,\n",
       "  0.3262101411819458,\n",
       "  0.24741564691066742,\n",
       "  0.18793536722660065,\n",
       "  0.13480441272258759,\n",
       "  0.10730632394552231,\n",
       "  0.08572341501712799,\n",
       "  0.06936019659042358,\n",
       "  0.053851328790187836,\n",
       "  0.04155128449201584,\n",
       "  0.042754966765642166,\n",
       "  0.05881498381495476,\n",
       "  0.04247959703207016,\n",
       "  0.023765671998262405,\n",
       "  0.012855732813477516,\n",
       "  0.008709102869033813,\n",
       "  0.0065773543901741505,\n",
       "  0.005109292920678854,\n",
       "  0.004143252037465572,\n",
       "  0.00335515895858407,\n",
       "  0.00433473102748394,\n",
       "  0.1182454451918602,\n",
       "  0.12078417092561722,\n",
       "  0.028806069865822792,\n",
       "  0.008167226798832417,\n",
       "  0.0033159530721604824],\n",
       " 'accuracy': [0.10109999775886536,\n",
       "  0.09350000321865082,\n",
       "  0.10239999741315842,\n",
       "  0.10400000214576721,\n",
       "  0.10429999977350235,\n",
       "  0.10429999977350235,\n",
       "  0.11420000344514847,\n",
       "  0.14069999754428864,\n",
       "  0.16539999842643738,\n",
       "  0.241799995303154,\n",
       "  0.3158999979496002,\n",
       "  0.3695000112056732,\n",
       "  0.4023999869823456,\n",
       "  0.42739999294281006,\n",
       "  0.4575999975204468,\n",
       "  0.4821000099182129,\n",
       "  0.5037000179290771,\n",
       "  0.5254999995231628,\n",
       "  0.5536999702453613,\n",
       "  0.585099995136261,\n",
       "  0.6294000148773193,\n",
       "  0.6927000284194946,\n",
       "  0.7522000074386597,\n",
       "  0.8133000135421753,\n",
       "  0.8666999936103821,\n",
       "  0.9020000100135803,\n",
       "  0.9343000054359436,\n",
       "  0.9521999955177307,\n",
       "  0.9677000045776367,\n",
       "  0.9785000085830688,\n",
       "  0.984499990940094,\n",
       "  0.9872999787330627,\n",
       "  0.9909999966621399,\n",
       "  0.9944000244140625,\n",
       "  0.9930999875068665,\n",
       "  0.9883999824523926,\n",
       "  0.9925000071525574,\n",
       "  0.9969000220298767,\n",
       "  0.9991000294685364,\n",
       "  0.9993000030517578,\n",
       "  0.9997000098228455,\n",
       "  0.9998999834060669,\n",
       "  1.0,\n",
       "  1.0,\n",
       "  1.0,\n",
       "  0.9646000266075134,\n",
       "  0.964900016784668,\n",
       "  0.9937999844551086,\n",
       "  0.9994000196456909,\n",
       "  1.0],\n",
       " 'val_loss': [2.302888870239258,\n",
       "  2.302724599838257,\n",
       "  2.3027679920196533,\n",
       "  2.3027267456054688,\n",
       "  2.3024039268493652,\n",
       "  2.3019328117370605,\n",
       "  2.3007125854492188,\n",
       "  2.281430244445801,\n",
       "  2.200752019882202,\n",
       "  1.9966027736663818,\n",
       "  1.80721914768219,\n",
       "  1.7775517702102661,\n",
       "  1.7558813095092773,\n",
       "  1.7361749410629272,\n",
       "  1.695865273475647,\n",
       "  1.7154179811477661,\n",
       "  1.7353943586349487,\n",
       "  1.8684970140457153,\n",
       "  1.8312363624572754,\n",
       "  1.82228422164917,\n",
       "  1.98661470413208,\n",
       "  2.0582327842712402,\n",
       "  2.230537176132202,\n",
       "  2.625460147857666,\n",
       "  2.9056506156921387,\n",
       "  3.193899393081665,\n",
       "  3.3121602535247803,\n",
       "  3.5928187370300293,\n",
       "  3.741206645965576,\n",
       "  4.164411544799805,\n",
       "  4.59561014175415,\n",
       "  4.554217338562012,\n",
       "  4.663014888763428,\n",
       "  4.583512783050537,\n",
       "  4.845083236694336,\n",
       "  4.596460342407227,\n",
       "  5.2301201820373535,\n",
       "  4.884269714355469,\n",
       "  5.650539875030518,\n",
       "  6.247865200042725,\n",
       "  6.278812885284424,\n",
       "  6.372919082641602,\n",
       "  6.496470928192139,\n",
       "  6.690761089324951,\n",
       "  6.797433376312256,\n",
       "  5.000489234924316,\n",
       "  5.701791763305664,\n",
       "  5.680220603942871,\n",
       "  6.398864269256592,\n",
       "  6.63186502456665],\n",
       " 'val_accuracy': [0.10000000149011612,\n",
       "  0.09549999982118607,\n",
       "  0.1031000018119812,\n",
       "  0.10329999774694443,\n",
       "  0.10509999841451645,\n",
       "  0.10599999874830246,\n",
       "  0.11860000342130661,\n",
       "  0.15309999883174896,\n",
       "  0.18799999356269836,\n",
       "  0.29330000281333923,\n",
       "  0.3384000062942505,\n",
       "  0.35199999809265137,\n",
       "  0.3720000088214874,\n",
       "  0.36079999804496765,\n",
       "  0.38670000433921814,\n",
       "  0.3749000132083893,\n",
       "  0.39089998602867126,\n",
       "  0.3781999945640564,\n",
       "  0.3878999948501587,\n",
       "  0.3625999987125397,\n",
       "  0.385699987411499,\n",
       "  0.3758000135421753,\n",
       "  0.3772999942302704,\n",
       "  0.3650999963283539,\n",
       "  0.3643999993801117,\n",
       "  0.35519999265670776,\n",
       "  0.3569999933242798,\n",
       "  0.3490999937057495,\n",
       "  0.34779998660087585,\n",
       "  0.3560999929904938,\n",
       "  0.35659998655319214,\n",
       "  0.3547999858856201,\n",
       "  0.35989999771118164,\n",
       "  0.35420000553131104,\n",
       "  0.35899999737739563,\n",
       "  0.34610000252723694,\n",
       "  0.34929999709129333,\n",
       "  0.35850000381469727,\n",
       "  0.3580000102519989,\n",
       "  0.35760000348091125,\n",
       "  0.35740000009536743,\n",
       "  0.3580000102519989,\n",
       "  0.3571999967098236,\n",
       "  0.3569999933242798,\n",
       "  0.35179999470710754,\n",
       "  0.3416999876499176,\n",
       "  0.34880000352859497,\n",
       "  0.3531000018119812,\n",
       "  0.35659998655319214,\n",
       "  0.3564999997615814]}"
      ]
     },
     "execution_count": 35,
     "metadata": {},
     "output_type": "execute_result"
    }
   ],
   "source": [
    "history.history"
   ]
  },
  {
   "cell_type": "code",
   "execution_count": 37,
   "metadata": {},
   "outputs": [
    {
     "data": {
      "image/png": "[encoded data removed]",
      "text/plain": [
       "<Figure size 432x288 with 1 Axes>"
      ]
     },
     "metadata": {
      "needs_background": "light"
     },
     "output_type": "display_data"
    }
   ],
   "source": [
    "epoch_range=range(1, epochs+1)\n",
    "plt.plot(epoch_range, history.history['accuracy'])\n",
    "plt.plot(epoch_range,history.history['val_accuracy'])\n",
    "plt.title('Model accuracy of CNN1')\n",
    "plt.ylabel('Accuracy')\n",
    "plt.xlabel('Epoch')\n",
    "plt.legend(['Train', 'val'], loc='upper left')\n",
    "plt.show()"
   ]
  },
  {
   "cell_type": "code",
   "execution_count": 38,
   "metadata": {},
   "outputs": [
    {
     "name": "stdout",
     "output_type": "stream",
     "text": [
      "Epoch 1/50\n",
      "313/313 [==============================] - 25s 80ms/step - loss: 2.7078 - accuracy: 0.1000 - val_loss: 2.3020 - val_accuracy: 0.0978\n",
      "Epoch 2/50\n",
      "313/313 [==============================] - 26s 83ms/step - loss: 2.2568 - accuracy: 0.1301 - val_loss: 2.0945 - val_accuracy: 0.2201\n",
      "Epoch 3/50\n",
      "313/313 [==============================] - 27s 85ms/step - loss: 1.9558 - accuracy: 0.2812 - val_loss: 1.9432 - val_accuracy: 0.2802\n",
      "Epoch 4/50\n",
      "313/313 [==============================] - 27s 86ms/step - loss: 1.8532 - accuracy: 0.3206 - val_loss: 1.8320 - val_accuracy: 0.3439\n",
      "Epoch 5/50\n",
      "313/313 [==============================] - 27s 86ms/step - loss: 1.7877 - accuracy: 0.3498 - val_loss: 1.7320 - val_accuracy: 0.3684\n",
      "Epoch 6/50\n",
      "313/313 [==============================] - 27s 85ms/step - loss: 1.7077 - accuracy: 0.3789 - val_loss: 1.6386 - val_accuracy: 0.4045\n",
      "Epoch 7/50\n",
      "313/313 [==============================] - 28s 88ms/step - loss: 1.6150 - accuracy: 0.4112 - val_loss: 1.6202 - val_accuracy: 0.4206\n",
      "Epoch 8/50\n",
      "313/313 [==============================] - 28s 88ms/step - loss: 1.5432 - accuracy: 0.4436 - val_loss: 1.4875 - val_accuracy: 0.4623\n",
      "Epoch 9/50\n",
      "313/313 [==============================] - 27s 87ms/step - loss: 1.4882 - accuracy: 0.4639 - val_loss: 1.4506 - val_accuracy: 0.4786\n",
      "Epoch 10/50\n",
      "313/313 [==============================] - 27s 87ms/step - loss: 1.4439 - accuracy: 0.4809 - val_loss: 1.4209 - val_accuracy: 0.4904\n",
      "Epoch 11/50\n",
      "313/313 [==============================] - 27s 86ms/step - loss: 1.3819 - accuracy: 0.5042 - val_loss: 1.5506 - val_accuracy: 0.4660\n",
      "Epoch 12/50\n",
      "313/313 [==============================] - 26s 82ms/step - loss: 1.3441 - accuracy: 0.5227 - val_loss: 1.3802 - val_accuracy: 0.4979\n",
      "Epoch 13/50\n",
      "313/313 [==============================] - 26s 83ms/step - loss: 1.3053 - accuracy: 0.5333 - val_loss: 1.3499 - val_accuracy: 0.5166\n",
      "Epoch 14/50\n",
      "313/313 [==============================] - 28s 88ms/step - loss: 1.2655 - accuracy: 0.5562 - val_loss: 1.3147 - val_accuracy: 0.5346\n",
      "Epoch 15/50\n",
      "313/313 [==============================] - 28s 88ms/step - loss: 1.2381 - accuracy: 0.5611 - val_loss: 1.2978 - val_accuracy: 0.5380\n",
      "Epoch 16/50\n",
      "313/313 [==============================] - 27s 88ms/step - loss: 1.1813 - accuracy: 0.5846 - val_loss: 1.3307 - val_accuracy: 0.5328\n",
      "Epoch 17/50\n",
      "313/313 [==============================] - 27s 87ms/step - loss: 1.1382 - accuracy: 0.6063 - val_loss: 1.2981 - val_accuracy: 0.5402\n",
      "Epoch 18/50\n",
      "313/313 [==============================] - 28s 89ms/step - loss: 1.0966 - accuracy: 0.6162 - val_loss: 1.3153 - val_accuracy: 0.5424\n",
      "Epoch 19/50\n",
      "313/313 [==============================] - 27s 88ms/step - loss: 1.0650 - accuracy: 0.6260 - val_loss: 1.2651 - val_accuracy: 0.5537\n",
      "Epoch 20/50\n",
      "313/313 [==============================] - 27s 87ms/step - loss: 1.0259 - accuracy: 0.6352 - val_loss: 1.2707 - val_accuracy: 0.5543\n",
      "Epoch 21/50\n",
      "313/313 [==============================] - 26s 84ms/step - loss: 0.9642 - accuracy: 0.6611 - val_loss: 1.3560 - val_accuracy: 0.5504\n",
      "Epoch 22/50\n",
      "313/313 [==============================] - 27s 85ms/step - loss: 0.9214 - accuracy: 0.6759 - val_loss: 1.3173 - val_accuracy: 0.5415\n",
      "Epoch 23/50\n",
      "313/313 [==============================] - 27s 86ms/step - loss: 0.8772 - accuracy: 0.6892 - val_loss: 1.2672 - val_accuracy: 0.5677\n",
      "Epoch 24/50\n",
      "313/313 [==============================] - 28s 89ms/step - loss: 0.8279 - accuracy: 0.7071 - val_loss: 1.3196 - val_accuracy: 0.5631\n",
      "Epoch 25/50\n",
      "313/313 [==============================] - 29s 92ms/step - loss: 0.7909 - accuracy: 0.7166 - val_loss: 1.4436 - val_accuracy: 0.5376\n",
      "Epoch 26/50\n",
      "313/313 [==============================] - 28s 89ms/step - loss: 0.7494 - accuracy: 0.7310 - val_loss: 1.4036 - val_accuracy: 0.5545\n",
      "Epoch 27/50\n",
      "313/313 [==============================] - 28s 90ms/step - loss: 0.6939 - accuracy: 0.7537 - val_loss: 1.3801 - val_accuracy: 0.5567\n",
      "Epoch 28/50\n",
      "313/313 [==============================] - 27s 88ms/step - loss: 0.6500 - accuracy: 0.7681 - val_loss: 1.3808 - val_accuracy: 0.5596\n",
      "Epoch 29/50\n",
      "313/313 [==============================] - 26s 82ms/step - loss: 0.5903 - accuracy: 0.7929 - val_loss: 1.4343 - val_accuracy: 0.5476\n",
      "Epoch 30/50\n",
      "313/313 [==============================] - 25s 81ms/step - loss: 0.5680 - accuracy: 0.7984 - val_loss: 1.4839 - val_accuracy: 0.5530\n",
      "Epoch 31/50\n",
      "313/313 [==============================] - 26s 84ms/step - loss: 0.5237 - accuracy: 0.8126 - val_loss: 1.5249 - val_accuracy: 0.5550\n",
      "Epoch 32/50\n",
      "313/313 [==============================] - 27s 85ms/step - loss: 0.4665 - accuracy: 0.8320 - val_loss: 1.5468 - val_accuracy: 0.5558\n",
      "Epoch 33/50\n",
      "313/313 [==============================] - 27s 86ms/step - loss: 0.4394 - accuracy: 0.8416 - val_loss: 1.6881 - val_accuracy: 0.5448\n",
      "Epoch 34/50\n",
      "313/313 [==============================] - 27s 87ms/step - loss: 0.3943 - accuracy: 0.8630 - val_loss: 1.7053 - val_accuracy: 0.5427\n",
      "Epoch 35/50\n",
      "313/313 [==============================] - 27s 87ms/step - loss: 0.3647 - accuracy: 0.8731 - val_loss: 1.7019 - val_accuracy: 0.5492\n",
      "Epoch 36/50\n",
      "313/313 [==============================] - 27s 88ms/step - loss: 0.3248 - accuracy: 0.8893 - val_loss: 1.7149 - val_accuracy: 0.5498\n",
      "Epoch 37/50\n",
      "313/313 [==============================] - 27s 87ms/step - loss: 0.2972 - accuracy: 0.8945 - val_loss: 2.0131 - val_accuracy: 0.5415\n",
      "Epoch 38/50\n",
      "313/313 [==============================] - 27s 87ms/step - loss: 0.2685 - accuracy: 0.9066 - val_loss: 1.9077 - val_accuracy: 0.5460\n",
      "Epoch 39/50\n",
      "313/313 [==============================] - 27s 87ms/step - loss: 0.2517 - accuracy: 0.9122 - val_loss: 2.0636 - val_accuracy: 0.5447\n",
      "Epoch 40/50\n",
      "313/313 [==============================] - 26s 83ms/step - loss: 0.2259 - accuracy: 0.9238 - val_loss: 1.9868 - val_accuracy: 0.5434\n",
      "Epoch 41/50\n",
      "313/313 [==============================] - 26s 84ms/step - loss: 0.2051 - accuracy: 0.9325 - val_loss: 2.2492 - val_accuracy: 0.5432\n",
      "Epoch 42/50\n",
      "313/313 [==============================] - 27s 85ms/step - loss: 0.1862 - accuracy: 0.9377 - val_loss: 2.0311 - val_accuracy: 0.5418\n",
      "Epoch 43/50\n",
      "313/313 [==============================] - 27s 87ms/step - loss: 0.1926 - accuracy: 0.9339 - val_loss: 1.9754 - val_accuracy: 0.5431\n",
      "Epoch 44/50\n",
      "313/313 [==============================] - 27s 87ms/step - loss: 0.1649 - accuracy: 0.9453 - val_loss: 2.1053 - val_accuracy: 0.5406\n",
      "Epoch 45/50\n",
      "313/313 [==============================] - 27s 87ms/step - loss: 0.1524 - accuracy: 0.9471 - val_loss: 2.1977 - val_accuracy: 0.5457\n",
      "Epoch 46/50\n",
      "313/313 [==============================] - 27s 88ms/step - loss: 0.1284 - accuracy: 0.9607 - val_loss: 2.2612 - val_accuracy: 0.5450\n",
      "Epoch 47/50\n",
      "313/313 [==============================] - 26s 83ms/step - loss: 0.1393 - accuracy: 0.9568 - val_loss: 2.6041 - val_accuracy: 0.5350\n",
      "Epoch 48/50\n",
      "313/313 [==============================] - 27s 87ms/step - loss: 0.1208 - accuracy: 0.9619 - val_loss: 2.2901 - val_accuracy: 0.5420\n",
      "Epoch 49/50\n",
      "313/313 [==============================] - 25s 80ms/step - loss: 0.1184 - accuracy: 0.9624 - val_loss: 2.4331 - val_accuracy: 0.5364\n",
      "Epoch 50/50\n",
      "313/313 [==============================] - 27s 85ms/step - loss: 0.1155 - accuracy: 0.9603 - val_loss: 2.4103 - val_accuracy: 0.5397\n"
     ]
    }
   ],
   "source": [
    "model_CNN2=Sequential()\n",
    "model_CNN2.add(Conv2D(64, kernel_size=(3,3,), activation='relu', input_shape=(32,32,3), padding='same'))\n",
    "model_CNN2.add(MaxPooling2D((2, 2),padding='same'))\n",
    "model_CNN2.add(Conv2D(64, kernel_size=(3,3,), activation='relu', input_shape=(32,32,3), padding='same'))\n",
    "model_CNN2.add(MaxPooling2D((2, 2),padding='same'))\n",
    "model_CNN2.add(Dense(512,))\n",
    "model_CNN2.add(Activation('sigmoid'))\n",
    "model_CNN2.add(Dropout(0.22))\n",
    "model_CNN2.add(Dense(512,))\n",
    "model_CNN2.add(Activation('sigmoid'))\n",
    "model_CNN2.add(Dropout(0.22))\n",
    "model_CNN2.add(Flatten())\n",
    "model_CNN2.add(Dense(num_classes, activation='softmax'))\n",
    "model_CNN2.compile(loss=keras.losses.categorical_crossentropy, optimizer=keras.optimizers.Adam(),metrics=['accuracy'])\n",
    "history=model_CNN2.fit(X_new_train, y_new_train, batch_size=batch_size,epochs=epochs,verbose=1,validation_data=(X_test, y_test_hot))\n",
    "\n",
    "\n",
    "\n",
    "\n",
    "\n",
    "\n",
    "\n"
   ]
  },
  {
   "cell_type": "code",
   "execution_count": 39,
   "metadata": {},
   "outputs": [
    {
     "name": "stdout",
     "output_type": "stream",
     "text": [
      "313/313 [==============================] - 5s 15ms/step - loss: 2.4103 - accuracy: 0.5397\n"
     ]
    },
    {
     "data": {
      "text/plain": [
       "[2.4102957248687744, 0.5396999716758728]"
      ]
     },
     "execution_count": 39,
     "metadata": {},
     "output_type": "execute_result"
    }
   ],
   "source": [
    "model_CNN2.evaluate(X_test, y_test_hot)"
   ]
  },
  {
   "cell_type": "code",
   "execution_count": 40,
   "metadata": {},
   "outputs": [
    {
     "data": {
      "text/plain": [
       "{'loss': [2.7078423500061035,\n",
       "  2.2568273544311523,\n",
       "  1.9557888507843018,\n",
       "  1.8532236814498901,\n",
       "  1.787723183631897,\n",
       "  1.7077134847640991,\n",
       "  1.6150082349777222,\n",
       "  1.5431610345840454,\n",
       "  1.4882428646087646,\n",
       "  1.443949580192566,\n",
       "  1.381867527961731,\n",
       "  1.3440721035003662,\n",
       "  1.3052841424942017,\n",
       "  1.2654815912246704,\n",
       "  1.238112211227417,\n",
       "  1.181269645690918,\n",
       "  1.1381733417510986,\n",
       "  1.0965783596038818,\n",
       "  1.065002202987671,\n",
       "  1.0258904695510864,\n",
       "  0.9641913175582886,\n",
       "  0.9213930368423462,\n",
       "  0.8771642446517944,\n",
       "  0.8279038071632385,\n",
       "  0.7909221053123474,\n",
       "  0.7494259476661682,\n",
       "  0.6938828825950623,\n",
       "  0.6500276923179626,\n",
       "  0.5903455018997192,\n",
       "  0.5680471658706665,\n",
       "  0.5237314701080322,\n",
       "  0.46652230620384216,\n",
       "  0.43935897946357727,\n",
       "  0.3943037688732147,\n",
       "  0.36466097831726074,\n",
       "  0.3247933089733124,\n",
       "  0.297176331281662,\n",
       "  0.2684909701347351,\n",
       "  0.2516925632953644,\n",
       "  0.22590024769306183,\n",
       "  0.2050592303276062,\n",
       "  0.1861691176891327,\n",
       "  0.1926041692495346,\n",
       "  0.16494041681289673,\n",
       "  0.15241965651512146,\n",
       "  0.1283566951751709,\n",
       "  0.1393098086118698,\n",
       "  0.12076253443956375,\n",
       "  0.11838237196207047,\n",
       "  0.11548459529876709],\n",
       " 'accuracy': [0.10000000149011612,\n",
       "  0.13009999692440033,\n",
       "  0.28119999170303345,\n",
       "  0.3206000030040741,\n",
       "  0.3497999906539917,\n",
       "  0.3788999915122986,\n",
       "  0.41119998693466187,\n",
       "  0.44359999895095825,\n",
       "  0.46389999985694885,\n",
       "  0.48089998960494995,\n",
       "  0.5041999816894531,\n",
       "  0.5227000117301941,\n",
       "  0.53329998254776,\n",
       "  0.5562000274658203,\n",
       "  0.5611000061035156,\n",
       "  0.5845999717712402,\n",
       "  0.6062999963760376,\n",
       "  0.6161999702453613,\n",
       "  0.6259999871253967,\n",
       "  0.635200023651123,\n",
       "  0.6610999703407288,\n",
       "  0.6758999824523926,\n",
       "  0.6891999840736389,\n",
       "  0.707099974155426,\n",
       "  0.7166000008583069,\n",
       "  0.7310000061988831,\n",
       "  0.7537000179290771,\n",
       "  0.7681000232696533,\n",
       "  0.792900025844574,\n",
       "  0.7983999848365784,\n",
       "  0.8126000165939331,\n",
       "  0.8320000171661377,\n",
       "  0.8416000008583069,\n",
       "  0.8629999756813049,\n",
       "  0.8730999827384949,\n",
       "  0.8892999887466431,\n",
       "  0.8945000171661377,\n",
       "  0.9065999984741211,\n",
       "  0.9121999740600586,\n",
       "  0.923799991607666,\n",
       "  0.9325000047683716,\n",
       "  0.9376999735832214,\n",
       "  0.933899998664856,\n",
       "  0.9452999830245972,\n",
       "  0.9470999836921692,\n",
       "  0.9606999754905701,\n",
       "  0.9567999839782715,\n",
       "  0.961899995803833,\n",
       "  0.9624000191688538,\n",
       "  0.9603000283241272],\n",
       " 'val_loss': [2.3020246028900146,\n",
       "  2.094498634338379,\n",
       "  1.9431743621826172,\n",
       "  1.8319945335388184,\n",
       "  1.7320189476013184,\n",
       "  1.6386452913284302,\n",
       "  1.6201657056808472,\n",
       "  1.4874846935272217,\n",
       "  1.4505525827407837,\n",
       "  1.4208965301513672,\n",
       "  1.5505586862564087,\n",
       "  1.3802247047424316,\n",
       "  1.3499056100845337,\n",
       "  1.314707636833191,\n",
       "  1.2977995872497559,\n",
       "  1.3306666612625122,\n",
       "  1.2980749607086182,\n",
       "  1.3152765035629272,\n",
       "  1.2651463747024536,\n",
       "  1.2706944942474365,\n",
       "  1.355989694595337,\n",
       "  1.3172876834869385,\n",
       "  1.2672014236450195,\n",
       "  1.3195738792419434,\n",
       "  1.4435513019561768,\n",
       "  1.4035742282867432,\n",
       "  1.380142092704773,\n",
       "  1.3807570934295654,\n",
       "  1.4342668056488037,\n",
       "  1.4839051961898804,\n",
       "  1.524918794631958,\n",
       "  1.546758770942688,\n",
       "  1.6881486177444458,\n",
       "  1.7053302526474,\n",
       "  1.701892614364624,\n",
       "  1.7148915529251099,\n",
       "  2.013122797012329,\n",
       "  1.9077234268188477,\n",
       "  2.0635883808135986,\n",
       "  1.9867993593215942,\n",
       "  2.2492494583129883,\n",
       "  2.0310699939727783,\n",
       "  1.9753512144088745,\n",
       "  2.105319023132324,\n",
       "  2.19771146774292,\n",
       "  2.261183500289917,\n",
       "  2.6041018962860107,\n",
       "  2.2900547981262207,\n",
       "  2.433084011077881,\n",
       "  2.4102957248687744],\n",
       " 'val_accuracy': [0.09780000150203705,\n",
       "  0.22010000050067902,\n",
       "  0.2802000045776367,\n",
       "  0.34389999508857727,\n",
       "  0.3684000074863434,\n",
       "  0.40450000762939453,\n",
       "  0.4205999970436096,\n",
       "  0.46230000257492065,\n",
       "  0.47859999537467957,\n",
       "  0.4903999865055084,\n",
       "  0.4659999907016754,\n",
       "  0.49790000915527344,\n",
       "  0.5166000127792358,\n",
       "  0.534600019454956,\n",
       "  0.5379999876022339,\n",
       "  0.532800018787384,\n",
       "  0.5401999950408936,\n",
       "  0.5424000024795532,\n",
       "  0.5536999702453613,\n",
       "  0.5543000102043152,\n",
       "  0.5504000186920166,\n",
       "  0.5414999723434448,\n",
       "  0.5677000284194946,\n",
       "  0.5630999803543091,\n",
       "  0.5375999808311462,\n",
       "  0.5544999837875366,\n",
       "  0.5566999912261963,\n",
       "  0.5595999956130981,\n",
       "  0.5475999712944031,\n",
       "  0.5529999732971191,\n",
       "  0.5550000071525574,\n",
       "  0.5558000206947327,\n",
       "  0.5447999835014343,\n",
       "  0.5426999926567078,\n",
       "  0.5491999983787537,\n",
       "  0.5497999787330627,\n",
       "  0.5414999723434448,\n",
       "  0.5460000038146973,\n",
       "  0.544700026512146,\n",
       "  0.54339998960495,\n",
       "  0.5432000160217285,\n",
       "  0.5418000221252441,\n",
       "  0.5430999994277954,\n",
       "  0.5406000018119812,\n",
       "  0.5457000136375427,\n",
       "  0.5450000166893005,\n",
       "  0.5350000262260437,\n",
       "  0.5419999957084656,\n",
       "  0.5364000201225281,\n",
       "  0.5396999716758728]}"
      ]
     },
     "execution_count": 40,
     "metadata": {},
     "output_type": "execute_result"
    }
   ],
   "source": [
    "history.history"
   ]
  },
  {
   "cell_type": "code",
   "execution_count": 41,
   "metadata": {},
   "outputs": [
    {
     "data": {
      "image/png": "[encoded data removed]",
      "text/plain": [
       "<Figure size 432x288 with 1 Axes>"
      ]
     },
     "metadata": {
      "needs_background": "light"
     },
     "output_type": "display_data"
    }
   ],
   "source": [
    "epoch_range=range(1, epochs+1)\n",
    "plt.plot(epoch_range, history.history['accuracy'])\n",
    "plt.plot(epoch_range,history.history['val_accuracy'])\n",
    "plt.title('Model accuracy')\n",
    "plt.ylabel('Accuracy')\n",
    "plt.xlabel('Epoch')\n",
    "plt.legend(['Train', 'val'], loc='upper left')\n",
    "plt.show()"
   ]
  },
  {
   "cell_type": "code",
   "execution_count": null,
   "metadata": {},
   "outputs": [],
   "source": []
  }
 ],
 "metadata": {
  "kernelspec": {
   "display_name": "Python 3",
   "language": "python",
   "name": "python3"
  },
  "language_info": {
   "codemirror_mode": {
    "name": "ipython",
    "version": 3
   },
   "file_extension": ".py",
   "mimetype": "text/x-python",
   "name": "python",
   "nbconvert_exporter": "python",
   "pygments_lexer": "ipython3",
   "version": "3.7.6"
  }
 },
 "nbformat": 4,
 "nbformat_minor": 4
}
