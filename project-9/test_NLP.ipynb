{
 "cells": [
  {
   "cell_type": "code",
   "execution_count": 1,
   "metadata": {},
   "outputs": [
    {
     "name": "stdout",
     "output_type": "stream",
     "text": [
      "WARNING:tensorflow:Model was constructed with shape (None, 100) for input Tensor(\"input_1:0\", shape=(None, 100), dtype=float32), but it was called on an input with incompatible shape (None, 2).\n",
      "WARNING:tensorflow:Model was constructed with shape (None, 100) for input Tensor(\"input_1:0\", shape=(None, 100), dtype=float32), but it was called on an input with incompatible shape (None, 2).\n",
      "[0.12165463715791702, 0.9983999729156494]\n"
     ]
    }
   ],
   "source": [
    "#importing necessary libraries\n",
    "import keras\n",
    "from tensorflow.keras.preprocessing.text import one_hot\n",
    "from tensorflow.keras.layers import Embedding,LSTM,Dropout,Dense\n",
    "from tensorflow.keras .preprocessing.sequence import pad_sequences \n",
    "from tensorflow.keras.models import Sequential \n",
    "import numpy as np\n",
    "\n",
    "#Loading the IMDB file \n",
    "if __name__ == \"__main__\":\n",
    "    import urllib.request as req\n",
    "    import tarfile\n",
    "    import os\n",
    "\n",
    "    imdb_url = \"http://ai.stanford.edu/~amaas/data/sentiment/aclImdb_v1.tar.gz\"\n",
    "\n",
    "    save_filename = \"aclImdb_v1.tar.gz\"\n",
    "    if not os.path.exists(save_filename):\n",
    "        req.urlretrieve(imdb_url, save_filename)\n",
    "\n",
    "    imdb_folder = \"aclImdb\"\n",
    "    if not os.path.exists(imdb_folder):\n",
    "        with tarfile.open(save_filename) as tar:\n",
    "            tar.extractall()\n",
    "    loaded_model_NLP= keras.models.load_model(\"20868189_NLP_model\")\n",
    "    import numpy as np\n",
    "    import re\n",
    "#loading the test set into a test file alongside its reviews\n",
    "    def get_test_file(data_folder=\"/test\"):\n",
    "        reviews = []\n",
    "        labels = []\n",
    "        for index,sentiment in enumerate([\"/neg/\", \"/pos/\"]):\n",
    "            path = imdb_folder + data_folder + sentiment\n",
    "            for filename in sorted(os.listdir(path)):\n",
    "                with open(path + filename, 'r') as f:\n",
    "                    review = f.read()\n",
    "                    review = review.lower()\n",
    "                    review = review.replace(\"<br />\", \" \")\n",
    "                    review = re.sub(r\"[^a-z ]\", \" \", review)\n",
    "                    review = re.sub(r\" +\", \" \", review)\n",
    "                    reviews.append(review)\n",
    "\n",
    "                    label = [0,0]\n",
    "                    label[index] = 1\n",
    "                    labels.append(label)\n",
    "\n",
    "        return reviews, np.array(labels)\n",
    "    voc_size=10000 #vocabulary size\n",
    "    sent_len=100 #sentence length\n",
    "    test_reviews, test_labels=get_test_file()#loading my test set into test_review and test_label sets\n",
    "    onehot_reptt=[one_hot(words, voc_size) for words in test_reviews] #vectorization of my train reviews\n",
    "    test_reviews=pad_sequences(onehot_reptt , maxlen=sent_len) #padding the test reviews to be equal to the sentence length\n",
    "    y_pred=loaded_model_NLP.predict(test_reviews) #Performing prediction with the test review set\n",
    "    score=loaded_model_NLP.evaluate(test_labels, y_pred,verbose=False)#Evaluating the model with the actual labels vs predicted labels\n",
    "    print(score)#Printing the evaluation score\n",
    "\n",
    "\n",
    "\n"
   ]
  },
  {
   "cell_type": "code",
   "execution_count": null,
   "metadata": {},
   "outputs": [],
   "source": []
  }
 ],
 "metadata": {
  "kernelspec": {
   "display_name": "Python 3",
   "language": "python",
   "name": "python3"
  },
  "language_info": {
   "codemirror_mode": {
    "name": "ipython",
    "version": 3
   },
   "file_extension": ".py",
   "mimetype": "text/x-python",
   "name": "python",
   "nbconvert_exporter": "python",
   "pygments_lexer": "ipython3",
   "version": "3.7.6"
  }
 },
 "nbformat": 4,
 "nbformat_minor": 4
}
