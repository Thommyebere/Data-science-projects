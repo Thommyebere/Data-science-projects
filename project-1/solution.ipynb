{
 "cells": [
  {
   "cell_type": "code",
   "execution_count": 16,
   "metadata": {},
   "outputs": [],
   "source": [
    "import numpy as np\n",
    "import matplotlib.pyplot as plt\n",
    "import pandas as pd"
   ]
  },
  {
   "cell_type": "code",
   "execution_count": 17,
   "metadata": {},
   "outputs": [],
   "source": [
    "# Importing the csv file\n",
    "data1 = pd.read_csv('DataA.csv',index_col = 0) "
   ]
  },
  {
   "cell_type": "code",
   "execution_count": 18,
   "metadata": {},
   "outputs": [
    {
     "data": {
      "text/html": [
       "<div>\n",
       "<style scoped>\n",
       "    .dataframe tbody tr th:only-of-type {\n",
       "        vertical-align: middle;\n",
       "    }\n",
       "\n",
       "    .dataframe tbody tr th {\n",
       "        vertical-align: top;\n",
       "    }\n",
       "\n",
       "    .dataframe thead th {\n",
       "        text-align: right;\n",
       "    }\n",
       "</style>\n",
       "<table border=\"1\" class=\"dataframe\">\n",
       "  <thead>\n",
       "    <tr style=\"text-align: right;\">\n",
       "      <th></th>\n",
       "      <th>fea.1</th>\n",
       "      <th>fea.2</th>\n",
       "      <th>fea.3</th>\n",
       "      <th>fea.4</th>\n",
       "      <th>fea.5</th>\n",
       "      <th>fea.6</th>\n",
       "      <th>fea.7</th>\n",
       "      <th>fea.8</th>\n",
       "      <th>fea.9</th>\n",
       "      <th>fea.10</th>\n",
       "      <th>...</th>\n",
       "      <th>fea.72</th>\n",
       "      <th>fea.73</th>\n",
       "      <th>fea.74</th>\n",
       "      <th>fea.75</th>\n",
       "      <th>fea.76</th>\n",
       "      <th>fea.77</th>\n",
       "      <th>fea.78</th>\n",
       "      <th>fea.79</th>\n",
       "      <th>fea.80</th>\n",
       "      <th>fea.81</th>\n",
       "    </tr>\n",
       "  </thead>\n",
       "  <tbody>\n",
       "    <tr>\n",
       "      <th>1</th>\n",
       "      <td>-153.0</td>\n",
       "      <td>414.0</td>\n",
       "      <td>939.0</td>\n",
       "      <td>-161.0</td>\n",
       "      <td>1007.0</td>\n",
       "      <td>99.0</td>\n",
       "      <td>-210.0</td>\n",
       "      <td>948.0</td>\n",
       "      <td>333.0</td>\n",
       "      <td>-19.0</td>\n",
       "      <td>...</td>\n",
       "      <td>655.0</td>\n",
       "      <td>-316.0</td>\n",
       "      <td>-302.0</td>\n",
       "      <td>-617.0</td>\n",
       "      <td>-955.0</td>\n",
       "      <td>-264.0</td>\n",
       "      <td>23.0</td>\n",
       "      <td>-29.0</td>\n",
       "      <td>36.0</td>\n",
       "      <td>24.0</td>\n",
       "    </tr>\n",
       "    <tr>\n",
       "      <th>2</th>\n",
       "      <td>-150.0</td>\n",
       "      <td>420.0</td>\n",
       "      <td>939.0</td>\n",
       "      <td>-177.0</td>\n",
       "      <td>1008.0</td>\n",
       "      <td>103.0</td>\n",
       "      <td>-207.0</td>\n",
       "      <td>939.0</td>\n",
       "      <td>316.0</td>\n",
       "      <td>9.0</td>\n",
       "      <td>...</td>\n",
       "      <td>655.0</td>\n",
       "      <td>-309.0</td>\n",
       "      <td>-304.0</td>\n",
       "      <td>-619.0</td>\n",
       "      <td>-955.0</td>\n",
       "      <td>-265.0</td>\n",
       "      <td>19.0</td>\n",
       "      <td>-31.0</td>\n",
       "      <td>47.0</td>\n",
       "      <td>3.0</td>\n",
       "    </tr>\n",
       "    <tr>\n",
       "      <th>3</th>\n",
       "      <td>-160.0</td>\n",
       "      <td>432.0</td>\n",
       "      <td>941.0</td>\n",
       "      <td>-162.0</td>\n",
       "      <td>982.0</td>\n",
       "      <td>98.0</td>\n",
       "      <td>-198.0</td>\n",
       "      <td>936.0</td>\n",
       "      <td>315.0</td>\n",
       "      <td>-10.0</td>\n",
       "      <td>...</td>\n",
       "      <td>655.0</td>\n",
       "      <td>-302.0</td>\n",
       "      <td>-308.0</td>\n",
       "      <td>-621.0</td>\n",
       "      <td>-966.0</td>\n",
       "      <td>-270.0</td>\n",
       "      <td>10.0</td>\n",
       "      <td>-38.0</td>\n",
       "      <td>20.0</td>\n",
       "      <td>0.0</td>\n",
       "    </tr>\n",
       "    <tr>\n",
       "      <th>4</th>\n",
       "      <td>-171.0</td>\n",
       "      <td>432.0</td>\n",
       "      <td>911.0</td>\n",
       "      <td>-174.0</td>\n",
       "      <td>999.0</td>\n",
       "      <td>115.0</td>\n",
       "      <td>-187.0</td>\n",
       "      <td>918.0</td>\n",
       "      <td>338.0</td>\n",
       "      <td>34.0</td>\n",
       "      <td>...</td>\n",
       "      <td>655.0</td>\n",
       "      <td>-293.0</td>\n",
       "      <td>-312.0</td>\n",
       "      <td>-622.0</td>\n",
       "      <td>-964.0</td>\n",
       "      <td>-269.0</td>\n",
       "      <td>14.0</td>\n",
       "      <td>-51.0</td>\n",
       "      <td>33.0</td>\n",
       "      <td>-1.0</td>\n",
       "    </tr>\n",
       "    <tr>\n",
       "      <th>5</th>\n",
       "      <td>-171.0</td>\n",
       "      <td>NaN</td>\n",
       "      <td>929.0</td>\n",
       "      <td>-189.0</td>\n",
       "      <td>1004.0</td>\n",
       "      <td>104.0</td>\n",
       "      <td>-198.0</td>\n",
       "      <td>939.0</td>\n",
       "      <td>350.0</td>\n",
       "      <td>60.0</td>\n",
       "      <td>...</td>\n",
       "      <td>655.0</td>\n",
       "      <td>-284.0</td>\n",
       "      <td>-318.0</td>\n",
       "      <td>-624.0</td>\n",
       "      <td>-966.0</td>\n",
       "      <td>-262.0</td>\n",
       "      <td>24.0</td>\n",
       "      <td>-40.0</td>\n",
       "      <td>1.0</td>\n",
       "      <td>4.0</td>\n",
       "    </tr>\n",
       "    <tr>\n",
       "      <th>6</th>\n",
       "      <td>-171.0</td>\n",
       "      <td>432.0</td>\n",
       "      <td>924.0</td>\n",
       "      <td>-179.0</td>\n",
       "      <td>1011.0</td>\n",
       "      <td>85.0</td>\n",
       "      <td>-204.0</td>\n",
       "      <td>945.0</td>\n",
       "      <td>336.0</td>\n",
       "      <td>94.0</td>\n",
       "      <td>...</td>\n",
       "      <td>655.0</td>\n",
       "      <td>-274.0</td>\n",
       "      <td>-323.0</td>\n",
       "      <td>-626.0</td>\n",
       "      <td>-969.0</td>\n",
       "      <td>-267.0</td>\n",
       "      <td>27.0</td>\n",
       "      <td>-36.0</td>\n",
       "      <td>32.0</td>\n",
       "      <td>9.0</td>\n",
       "    </tr>\n",
       "    <tr>\n",
       "      <th>7</th>\n",
       "      <td>-169.0</td>\n",
       "      <td>429.0</td>\n",
       "      <td>949.0</td>\n",
       "      <td>-175.0</td>\n",
       "      <td>1007.0</td>\n",
       "      <td>102.0</td>\n",
       "      <td>-188.0</td>\n",
       "      <td>914.0</td>\n",
       "      <td>322.0</td>\n",
       "      <td>154.0</td>\n",
       "      <td>...</td>\n",
       "      <td>655.0</td>\n",
       "      <td>-263.0</td>\n",
       "      <td>-331.0</td>\n",
       "      <td>-627.0</td>\n",
       "      <td>-975.0</td>\n",
       "      <td>-273.0</td>\n",
       "      <td>17.0</td>\n",
       "      <td>-27.0</td>\n",
       "      <td>28.0</td>\n",
       "      <td>3.0</td>\n",
       "    </tr>\n",
       "    <tr>\n",
       "      <th>8</th>\n",
       "      <td>-160.0</td>\n",
       "      <td>423.0</td>\n",
       "      <td>927.0</td>\n",
       "      <td>-195.0</td>\n",
       "      <td>996.0</td>\n",
       "      <td>123.0</td>\n",
       "      <td>-213.0</td>\n",
       "      <td>925.0</td>\n",
       "      <td>302.0</td>\n",
       "      <td>128.0</td>\n",
       "      <td>...</td>\n",
       "      <td>655.0</td>\n",
       "      <td>-251.0</td>\n",
       "      <td>-337.0</td>\n",
       "      <td>-628.0</td>\n",
       "      <td>-955.0</td>\n",
       "      <td>-275.0</td>\n",
       "      <td>8.0</td>\n",
       "      <td>-40.0</td>\n",
       "      <td>22.0</td>\n",
       "      <td>32.0</td>\n",
       "    </tr>\n",
       "    <tr>\n",
       "      <th>9</th>\n",
       "      <td>-163.0</td>\n",
       "      <td>432.0</td>\n",
       "      <td>929.0</td>\n",
       "      <td>-178.0</td>\n",
       "      <td>994.0</td>\n",
       "      <td>101.0</td>\n",
       "      <td>-186.0</td>\n",
       "      <td>946.0</td>\n",
       "      <td>296.0</td>\n",
       "      <td>166.0</td>\n",
       "      <td>...</td>\n",
       "      <td>654.0</td>\n",
       "      <td>-239.0</td>\n",
       "      <td>-343.0</td>\n",
       "      <td>-630.0</td>\n",
       "      <td>-967.0</td>\n",
       "      <td>-267.0</td>\n",
       "      <td>15.0</td>\n",
       "      <td>-34.0</td>\n",
       "      <td>-7.0</td>\n",
       "      <td>15.0</td>\n",
       "    </tr>\n",
       "    <tr>\n",
       "      <th>10</th>\n",
       "      <td>-156.0</td>\n",
       "      <td>415.0</td>\n",
       "      <td>936.0</td>\n",
       "      <td>-186.0</td>\n",
       "      <td>1014.0</td>\n",
       "      <td>111.0</td>\n",
       "      <td>-195.0</td>\n",
       "      <td>960.0</td>\n",
       "      <td>280.0</td>\n",
       "      <td>202.0</td>\n",
       "      <td>...</td>\n",
       "      <td>653.0</td>\n",
       "      <td>-228.0</td>\n",
       "      <td>-351.0</td>\n",
       "      <td>-631.0</td>\n",
       "      <td>-964.0</td>\n",
       "      <td>-264.0</td>\n",
       "      <td>7.0</td>\n",
       "      <td>-29.0</td>\n",
       "      <td>6.0</td>\n",
       "      <td>15.0</td>\n",
       "    </tr>\n",
       "  </tbody>\n",
       "</table>\n",
       "<p>10 rows × 81 columns</p>\n",
       "</div>"
      ],
      "text/plain": [
       "    fea.1  fea.2  fea.3  fea.4   fea.5  fea.6  fea.7  fea.8  fea.9  fea.10  \\\n",
       "1  -153.0  414.0  939.0 -161.0  1007.0   99.0 -210.0  948.0  333.0   -19.0   \n",
       "2  -150.0  420.0  939.0 -177.0  1008.0  103.0 -207.0  939.0  316.0     9.0   \n",
       "3  -160.0  432.0  941.0 -162.0   982.0   98.0 -198.0  936.0  315.0   -10.0   \n",
       "4  -171.0  432.0  911.0 -174.0   999.0  115.0 -187.0  918.0  338.0    34.0   \n",
       "5  -171.0    NaN  929.0 -189.0  1004.0  104.0 -198.0  939.0  350.0    60.0   \n",
       "6  -171.0  432.0  924.0 -179.0  1011.0   85.0 -204.0  945.0  336.0    94.0   \n",
       "7  -169.0  429.0  949.0 -175.0  1007.0  102.0 -188.0  914.0  322.0   154.0   \n",
       "8  -160.0  423.0  927.0 -195.0   996.0  123.0 -213.0  925.0  302.0   128.0   \n",
       "9  -163.0  432.0  929.0 -178.0   994.0  101.0 -186.0  946.0  296.0   166.0   \n",
       "10 -156.0  415.0  936.0 -186.0  1014.0  111.0 -195.0  960.0  280.0   202.0   \n",
       "\n",
       "    ...  fea.72  fea.73  fea.74  fea.75  fea.76  fea.77  fea.78  fea.79  \\\n",
       "1   ...   655.0  -316.0  -302.0  -617.0  -955.0  -264.0    23.0   -29.0   \n",
       "2   ...   655.0  -309.0  -304.0  -619.0  -955.0  -265.0    19.0   -31.0   \n",
       "3   ...   655.0  -302.0  -308.0  -621.0  -966.0  -270.0    10.0   -38.0   \n",
       "4   ...   655.0  -293.0  -312.0  -622.0  -964.0  -269.0    14.0   -51.0   \n",
       "5   ...   655.0  -284.0  -318.0  -624.0  -966.0  -262.0    24.0   -40.0   \n",
       "6   ...   655.0  -274.0  -323.0  -626.0  -969.0  -267.0    27.0   -36.0   \n",
       "7   ...   655.0  -263.0  -331.0  -627.0  -975.0  -273.0    17.0   -27.0   \n",
       "8   ...   655.0  -251.0  -337.0  -628.0  -955.0  -275.0     8.0   -40.0   \n",
       "9   ...   654.0  -239.0  -343.0  -630.0  -967.0  -267.0    15.0   -34.0   \n",
       "10  ...   653.0  -228.0  -351.0  -631.0  -964.0  -264.0     7.0   -29.0   \n",
       "\n",
       "    fea.80  fea.81  \n",
       "1     36.0    24.0  \n",
       "2     47.0     3.0  \n",
       "3     20.0     0.0  \n",
       "4     33.0    -1.0  \n",
       "5      1.0     4.0  \n",
       "6     32.0     9.0  \n",
       "7     28.0     3.0  \n",
       "8     22.0    32.0  \n",
       "9     -7.0    15.0  \n",
       "10     6.0    15.0  \n",
       "\n",
       "[10 rows x 81 columns]"
      ]
     },
     "execution_count": 18,
     "metadata": {},
     "output_type": "execute_result"
    }
   ],
   "source": [
    "# Checking the first ten data frames \n",
    "data1.head(10)"
   ]
  },
  {
   "cell_type": "code",
   "execution_count": 19,
   "metadata": {},
   "outputs": [],
   "source": [
    "# Removing the columns with null data and the first column 'un-named'\n",
    "Data2 = data1.drop(['fea.34','fea.35','fea.36'], axis = 1)"
   ]
  },
  {
   "cell_type": "code",
   "execution_count": 20,
   "metadata": {},
   "outputs": [
    {
     "data": {
      "text/plain": [
       "Index(['fea.1', 'fea.2', 'fea.3', 'fea.4', 'fea.5', 'fea.6', 'fea.7', 'fea.8',\n",
       "       'fea.9', 'fea.10', 'fea.11', 'fea.12', 'fea.13', 'fea.14', 'fea.15',\n",
       "       'fea.16', 'fea.17', 'fea.18', 'fea.19', 'fea.20', 'fea.21', 'fea.22',\n",
       "       'fea.23', 'fea.24', 'fea.25', 'fea.26', 'fea.27', 'fea.28', 'fea.29',\n",
       "       'fea.30', 'fea.31', 'fea.32', 'fea.33', 'fea.37', 'fea.38', 'fea.39',\n",
       "       'fea.40', 'fea.41', 'fea.42', 'fea.43', 'fea.44', 'fea.45', 'fea.46',\n",
       "       'fea.47', 'fea.48', 'fea.49', 'fea.50', 'fea.51', 'fea.52', 'fea.53',\n",
       "       'fea.54', 'fea.55', 'fea.56', 'fea.57', 'fea.58', 'fea.59', 'fea.60',\n",
       "       'fea.61', 'fea.62', 'fea.63', 'fea.64', 'fea.65', 'fea.66', 'fea.67',\n",
       "       'fea.68', 'fea.69', 'fea.70', 'fea.71', 'fea.72', 'fea.73', 'fea.74',\n",
       "       'fea.75', 'fea.76', 'fea.77', 'fea.78', 'fea.79', 'fea.80', 'fea.81'],\n",
       "      dtype='object')"
      ]
     },
     "execution_count": 20,
     "metadata": {},
     "output_type": "execute_result"
    }
   ],
   "source": [
    "Data2.columns"
   ]
  },
  {
   "cell_type": "code",
   "execution_count": 21,
   "metadata": {},
   "outputs": [],
   "source": [
    "# Removing any row null values \n",
    "Data34 = Data2.dropna(how ='any')"
   ]
  },
  {
   "cell_type": "code",
   "execution_count": 22,
   "metadata": {},
   "outputs": [
    {
     "data": {
      "text/plain": [
       "Index(['fea.1', 'fea.2', 'fea.3', 'fea.4', 'fea.5', 'fea.6', 'fea.7', 'fea.8',\n",
       "       'fea.9', 'fea.10', 'fea.11', 'fea.12', 'fea.13', 'fea.14', 'fea.15',\n",
       "       'fea.16', 'fea.17', 'fea.18', 'fea.19', 'fea.20', 'fea.21', 'fea.22',\n",
       "       'fea.23', 'fea.24', 'fea.25', 'fea.26', 'fea.27', 'fea.28', 'fea.29',\n",
       "       'fea.30', 'fea.31', 'fea.32', 'fea.33', 'fea.37', 'fea.38', 'fea.39',\n",
       "       'fea.40', 'fea.41', 'fea.42', 'fea.43', 'fea.44', 'fea.45', 'fea.46',\n",
       "       'fea.47', 'fea.48', 'fea.49', 'fea.50', 'fea.51', 'fea.52', 'fea.53',\n",
       "       'fea.54', 'fea.55', 'fea.56', 'fea.57', 'fea.58', 'fea.59', 'fea.60',\n",
       "       'fea.61', 'fea.62', 'fea.63', 'fea.64', 'fea.65', 'fea.66', 'fea.67',\n",
       "       'fea.68', 'fea.69', 'fea.70', 'fea.71', 'fea.72', 'fea.73', 'fea.74',\n",
       "       'fea.75', 'fea.76', 'fea.77', 'fea.78', 'fea.79', 'fea.80', 'fea.81'],\n",
       "      dtype='object')"
      ]
     },
     "execution_count": 22,
     "metadata": {},
     "output_type": "execute_result"
    }
   ],
   "source": [
    "Data34.columns "
   ]
  },
  {
   "cell_type": "code",
   "execution_count": 23,
   "metadata": {},
   "outputs": [
    {
     "data": {
      "text/plain": [
       "fea.1      80393.181431\n",
       "fea.2     141083.802180\n",
       "fea.3     154445.965435\n",
       "fea.4      33373.439156\n",
       "fea.5      37532.008068\n",
       "              ...      \n",
       "fea.77    138033.789214\n",
       "fea.78     62181.519916\n",
       "fea.79    559456.794735\n",
       "fea.80    178130.212049\n",
       "fea.81    195901.505454\n",
       "Length: 78, dtype: float64"
      ]
     },
     "execution_count": 23,
     "metadata": {},
     "output_type": "execute_result"
    }
   ],
   "source": [
    "np.var(Data34)"
   ]
  },
  {
   "cell_type": "code",
   "execution_count": 24,
   "metadata": {},
   "outputs": [],
   "source": [
    "# Performing min-max normalization \n",
    "from sklearn.preprocessing import MinMaxScaler \n",
    "scaler = MinMaxScaler()\n",
    "scaler.fit(Data34)\n",
    "New_data = scaler.transform(Data34)"
   ]
  },
  {
   "cell_type": "code",
   "execution_count": 25,
   "metadata": {},
   "outputs": [
    {
     "data": {
      "text/plain": [
       "array([[0.52973721, 0.3747785 , 0.61027837, ..., 0.48753915, 0.26054952,\n",
       "        0.34659603],\n",
       "       [0.53042877, 0.3765505 , 0.61027837, ..., 0.48740297, 0.26149106,\n",
       "        0.34422904],\n",
       "       [0.52812356, 0.38009451, 0.6106677 , ..., 0.48692632, 0.25918001,\n",
       "        0.34389089],\n",
       "       ...,\n",
       "       [0.56523744, 0.54548139, 0.46661476, ..., 0.48726678, 0.26534281,\n",
       "        0.34039675],\n",
       "       [0.56477639, 0.58741878, 0.47459607, ..., 0.49536974, 0.26200462,\n",
       "        0.34377818],\n",
       "       [0.56500692, 0.25251034, 0.42748686, ..., 0.49931908, 0.262347  ,\n",
       "        0.34524346]])"
      ]
     },
     "execution_count": 25,
     "metadata": {},
     "output_type": "execute_result"
    }
   ],
   "source": [
    "New_data"
   ]
  },
  {
   "cell_type": "code",
   "execution_count": 26,
   "metadata": {},
   "outputs": [],
   "source": [
    "# Performing Z-score Normalization \n",
    "New_dataZscore = (New_data - New_data.mean()) / New_data.std() "
   ]
  },
  {
   "cell_type": "code",
   "execution_count": 27,
   "metadata": {},
   "outputs": [
    {
     "data": {
      "text/plain": [
       "array([[ 0.12159763, -0.76834632,  0.58415391, ..., -0.12075018,\n",
       "        -1.42437523, -0.93020115],\n",
       "       [ 0.12556934, -0.75816952,  0.58415391, ..., -0.12153229,\n",
       "        -1.41896787, -0.94379506],\n",
       "       [ 0.11233028, -0.73781594,  0.58638988, ..., -0.12426971,\n",
       "        -1.43224047, -0.94573705],\n",
       "       ...,\n",
       "       [ 0.32547914,  0.21201813, -0.24092116, ..., -0.12231441,\n",
       "        -1.39684687, -0.96580425],\n",
       "       [ 0.32283132,  0.45286891, -0.19508366, ..., -0.0757783 ,\n",
       "        -1.41601841, -0.94638438],\n",
       "       [ 0.32415523, -1.47054507, -0.46563673, ..., -0.05309683,\n",
       "        -1.41405209, -0.9379691 ]])"
      ]
     },
     "execution_count": 27,
     "metadata": {},
     "output_type": "execute_result"
    }
   ],
   "source": [
    "New_dataZscore"
   ]
  },
  {
   "cell_type": "code",
   "execution_count": 28,
   "metadata": {
    "scrolled": false
   },
   "outputs": [
    {
     "name": "stderr",
     "output_type": "stream",
     "text": [
      "/opt/anaconda3/lib/python3.7/site-packages/numpy/lib/histograms.py:839: RuntimeWarning: invalid value encountered in greater_equal\n",
      "  keep = (tmp_a >= first_edge)\n",
      "/opt/anaconda3/lib/python3.7/site-packages/numpy/lib/histograms.py:840: RuntimeWarning: invalid value encountered in less_equal\n",
      "  keep &= (tmp_a <= last_edge)\n"
     ]
    },
    {
     "data": {
      "image/png": "[encoded data removed]",
      "text/plain": [
       "<Figure size 576x576 with 1 Axes>"
      ]
     },
     "metadata": {
      "needs_background": "light"
     },
     "output_type": "display_data"
    }
   ],
   "source": [
    "# Plotting the histogram before normalization\n",
    "fig,ax = plt.subplots(figsize = (8,8))\n",
    "plt.hist(data1.iloc[:,9])\n",
    "ax.set_title('Histogram of feature 9 before Normalization', fontsize=20)\n",
    "plt.show()"
   ]
  },
  {
   "cell_type": "code",
   "execution_count": 29,
   "metadata": {},
   "outputs": [
    {
     "data": {
      "image/png": "[encoded data removed]",
      "text/plain": [
       "<Figure size 576x432 with 1 Axes>"
      ]
     },
     "metadata": {
      "needs_background": "light"
     },
     "output_type": "display_data"
    }
   ],
   "source": [
    "#Plotting histogram using the Z-score values\n",
    "fig,ax=plt.subplots(figsize=(8,6))\n",
    "plt.hist(New_dataZscore[:,9])\n",
    "ax.set_title('Plot of Z-Score for Feature 9', fontsize=20)\n",
    "plt.show()"
   ]
  },
  {
   "cell_type": "code",
   "execution_count": 30,
   "metadata": {},
   "outputs": [
    {
     "data": {
      "image/png": "[encoded data removed]",
      "text/plain": [
       "<Figure size 576x576 with 1 Axes>"
      ]
     },
     "metadata": {
      "needs_background": "light"
     },
     "output_type": "display_data"
    }
   ],
   "source": [
    "#Plotting the histogram before normalization\n",
    "fig,ax = plt.subplots(figsize = (8,8))\n",
    "plt.hist(data1.iloc[:,24])\n",
    "ax.set_title('Histogram of feature 24 before Normalization', fontsize=20)\n",
    "plt.show()"
   ]
  },
  {
   "cell_type": "code",
   "execution_count": 31,
   "metadata": {},
   "outputs": [
    {
     "data": {
      "image/png": "[encoded data removed]",
      "text/plain": [
       "<Figure size 576x432 with 1 Axes>"
      ]
     },
     "metadata": {
      "needs_background": "light"
     },
     "output_type": "display_data"
    }
   ],
   "source": [
    "#Plotting histogram using the Z-score values\n",
    "fig,ax = plt.subplots(figsize = (8,6))\n",
    "plt.hist(New_dataZscore[:,24])\n",
    "ax.set_title('Plot of Z-Score for Feature 24', fontsize=20)\n",
    "plt.show()"
   ]
  }
 ],
 "metadata": {
  "kernelspec": {
   "display_name": "Python 3",
   "language": "python",
   "name": "python3"
  },
  "language_info": {
   "codemirror_mode": {
    "name": "ipython",
    "version": 3
   },
   "file_extension": ".py",
   "mimetype": "text/x-python",
   "name": "python",
   "nbconvert_exporter": "python",
   "pygments_lexer": "ipython3",
   "version": "3.7.6"
  }
 },
 "nbformat": 4,
 "nbformat_minor": 4
}
