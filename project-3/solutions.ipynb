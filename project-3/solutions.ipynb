{
 "cells": [
  {
   "cell_type": "code",
   "execution_count": 1,
   "metadata": {},
   "outputs": [],
   "source": [
    "import numpy as np\n",
    "import matplotlib.pyplot as plt\n",
    "import pandas as pd"
   ]
  },
  {
   "cell_type": "code",
   "execution_count": 2,
   "metadata": {},
   "outputs": [],
   "source": [
    "# Importing the data set\n",
    "dataset = pd.read_csv('DataB.csv', index_col = 0)\n",
    "X = dataset.iloc[:,:-1].values \n",
    "y = dataset.iloc[:,-1].values "
   ]
  },
  {
   "cell_type": "code",
   "execution_count": 3,
   "metadata": {},
   "outputs": [
    {
     "data": {
      "text/html": [
       "<div>\n",
       "<style scoped>\n",
       "    .dataframe tbody tr th:only-of-type {\n",
       "        vertical-align: middle;\n",
       "    }\n",
       "\n",
       "    .dataframe tbody tr th {\n",
       "        vertical-align: top;\n",
       "    }\n",
       "\n",
       "    .dataframe thead th {\n",
       "        text-align: right;\n",
       "    }\n",
       "</style>\n",
       "<table border=\"1\" class=\"dataframe\">\n",
       "  <thead>\n",
       "    <tr style=\"text-align: right;\">\n",
       "      <th></th>\n",
       "      <th>fea.1</th>\n",
       "      <th>fea.2</th>\n",
       "      <th>fea.3</th>\n",
       "      <th>fea.4</th>\n",
       "      <th>fea.5</th>\n",
       "      <th>fea.6</th>\n",
       "      <th>fea.7</th>\n",
       "      <th>fea.8</th>\n",
       "      <th>fea.9</th>\n",
       "      <th>fea.10</th>\n",
       "      <th>...</th>\n",
       "      <th>fea.776</th>\n",
       "      <th>fea.777</th>\n",
       "      <th>fea.778</th>\n",
       "      <th>fea.779</th>\n",
       "      <th>fea.780</th>\n",
       "      <th>fea.781</th>\n",
       "      <th>fea.782</th>\n",
       "      <th>fea.783</th>\n",
       "      <th>fea.784</th>\n",
       "      <th>gnd</th>\n",
       "    </tr>\n",
       "  </thead>\n",
       "  <tbody>\n",
       "    <tr>\n",
       "      <th>1</th>\n",
       "      <td>4</td>\n",
       "      <td>4</td>\n",
       "      <td>3</td>\n",
       "      <td>0</td>\n",
       "      <td>0</td>\n",
       "      <td>4</td>\n",
       "      <td>2</td>\n",
       "      <td>1</td>\n",
       "      <td>4</td>\n",
       "      <td>1</td>\n",
       "      <td>...</td>\n",
       "      <td>1</td>\n",
       "      <td>3</td>\n",
       "      <td>0</td>\n",
       "      <td>4</td>\n",
       "      <td>2</td>\n",
       "      <td>1</td>\n",
       "      <td>1</td>\n",
       "      <td>4</td>\n",
       "      <td>5</td>\n",
       "      <td>0</td>\n",
       "    </tr>\n",
       "    <tr>\n",
       "      <th>2</th>\n",
       "      <td>5</td>\n",
       "      <td>1</td>\n",
       "      <td>4</td>\n",
       "      <td>3</td>\n",
       "      <td>1</td>\n",
       "      <td>3</td>\n",
       "      <td>5</td>\n",
       "      <td>1</td>\n",
       "      <td>4</td>\n",
       "      <td>4</td>\n",
       "      <td>...</td>\n",
       "      <td>1</td>\n",
       "      <td>1</td>\n",
       "      <td>3</td>\n",
       "      <td>3</td>\n",
       "      <td>1</td>\n",
       "      <td>3</td>\n",
       "      <td>3</td>\n",
       "      <td>5</td>\n",
       "      <td>4</td>\n",
       "      <td>0</td>\n",
       "    </tr>\n",
       "    <tr>\n",
       "      <th>3</th>\n",
       "      <td>1</td>\n",
       "      <td>3</td>\n",
       "      <td>0</td>\n",
       "      <td>3</td>\n",
       "      <td>1</td>\n",
       "      <td>1</td>\n",
       "      <td>0</td>\n",
       "      <td>1</td>\n",
       "      <td>0</td>\n",
       "      <td>2</td>\n",
       "      <td>...</td>\n",
       "      <td>3</td>\n",
       "      <td>0</td>\n",
       "      <td>2</td>\n",
       "      <td>4</td>\n",
       "      <td>2</td>\n",
       "      <td>2</td>\n",
       "      <td>1</td>\n",
       "      <td>2</td>\n",
       "      <td>4</td>\n",
       "      <td>0</td>\n",
       "    </tr>\n",
       "    <tr>\n",
       "      <th>4</th>\n",
       "      <td>5</td>\n",
       "      <td>3</td>\n",
       "      <td>2</td>\n",
       "      <td>3</td>\n",
       "      <td>5</td>\n",
       "      <td>2</td>\n",
       "      <td>2</td>\n",
       "      <td>0</td>\n",
       "      <td>4</td>\n",
       "      <td>5</td>\n",
       "      <td>...</td>\n",
       "      <td>5</td>\n",
       "      <td>4</td>\n",
       "      <td>5</td>\n",
       "      <td>1</td>\n",
       "      <td>4</td>\n",
       "      <td>4</td>\n",
       "      <td>2</td>\n",
       "      <td>4</td>\n",
       "      <td>4</td>\n",
       "      <td>0</td>\n",
       "    </tr>\n",
       "    <tr>\n",
       "      <th>5</th>\n",
       "      <td>3</td>\n",
       "      <td>5</td>\n",
       "      <td>3</td>\n",
       "      <td>3</td>\n",
       "      <td>0</td>\n",
       "      <td>4</td>\n",
       "      <td>1</td>\n",
       "      <td>1</td>\n",
       "      <td>4</td>\n",
       "      <td>3</td>\n",
       "      <td>...</td>\n",
       "      <td>1</td>\n",
       "      <td>3</td>\n",
       "      <td>3</td>\n",
       "      <td>3</td>\n",
       "      <td>1</td>\n",
       "      <td>2</td>\n",
       "      <td>4</td>\n",
       "      <td>1</td>\n",
       "      <td>1</td>\n",
       "      <td>0</td>\n",
       "    </tr>\n",
       "  </tbody>\n",
       "</table>\n",
       "<p>5 rows × 785 columns</p>\n",
       "</div>"
      ],
      "text/plain": [
       "   fea.1  fea.2  fea.3  fea.4  fea.5  fea.6  fea.7  fea.8  fea.9  fea.10  ...  \\\n",
       "1      4      4      3      0      0      4      2      1      4       1  ...   \n",
       "2      5      1      4      3      1      3      5      1      4       4  ...   \n",
       "3      1      3      0      3      1      1      0      1      0       2  ...   \n",
       "4      5      3      2      3      5      2      2      0      4       5  ...   \n",
       "5      3      5      3      3      0      4      1      1      4       3  ...   \n",
       "\n",
       "   fea.776  fea.777  fea.778  fea.779  fea.780  fea.781  fea.782  fea.783  \\\n",
       "1        1        3        0        4        2        1        1        4   \n",
       "2        1        1        3        3        1        3        3        5   \n",
       "3        3        0        2        4        2        2        1        2   \n",
       "4        5        4        5        1        4        4        2        4   \n",
       "5        1        3        3        3        1        2        4        1   \n",
       "\n",
       "   fea.784  gnd  \n",
       "1        5    0  \n",
       "2        4    0  \n",
       "3        4    0  \n",
       "4        4    0  \n",
       "5        1    0  \n",
       "\n",
       "[5 rows x 785 columns]"
      ]
     },
     "execution_count": 3,
     "metadata": {},
     "output_type": "execute_result"
    }
   ],
   "source": [
    "dataset.head()"
   ]
  },
  {
   "cell_type": "code",
   "execution_count": 4,
   "metadata": {},
   "outputs": [],
   "source": [
    "# Persorming scaling\n",
    "from sklearn.preprocessing import StandardScaler\n",
    "sc = StandardScaler()\n",
    "X = sc.fit_transform(X)"
   ]
  },
  {
   "cell_type": "code",
   "execution_count": 5,
   "metadata": {},
   "outputs": [
    {
     "name": "stdout",
     "output_type": "stream",
     "text": [
      "[[ 1.01007711  0.96678184  0.35959365 ... -1.03428476  1.04733254\n",
      "   1.64964331]\n",
      " [ 1.68717617 -1.02992387  1.02648816 ...  0.30710401  1.70203421\n",
      "   0.98463588]\n",
      " [-1.02122007  0.30121327 -1.64108987 ... -1.03428476 -0.2620708\n",
      "   0.98463588]\n",
      " ...\n",
      " [-0.34412101  0.30121327 -0.30730086 ... -1.03428476 -0.91677248\n",
      "   0.31962845]\n",
      " [ 1.68717617 -0.3643553   1.02648816 ...  0.9777984   0.39263087\n",
      "   0.98463588]\n",
      " [ 0.33297805  0.30121327 -0.97419536 ... -1.03428476  0.39263087\n",
      "  -1.01038641]]\n"
     ]
    }
   ],
   "source": [
    "print(X)"
   ]
  },
  {
   "cell_type": "code",
   "execution_count": 6,
   "metadata": {},
   "outputs": [],
   "source": [
    "# Applying the PCA transformation\n",
    "from sklearn.decomposition import PCA\n",
    "pca = PCA()\n",
    "XX = pca.fit_transform(X)"
   ]
  },
  {
   "cell_type": "code",
   "execution_count": 7,
   "metadata": {},
   "outputs": [
    {
     "data": {
      "text/plain": [
       "(2066, 2)"
      ]
     },
     "execution_count": 7,
     "metadata": {},
     "output_type": "execute_result"
    }
   ],
   "source": [
    "X2 = XX[:,:2]\n",
    "X2.shape"
   ]
  },
  {
   "cell_type": "code",
   "execution_count": 8,
   "metadata": {},
   "outputs": [
    {
     "data": {
      "text/html": [
       "<div>\n",
       "<style scoped>\n",
       "    .dataframe tbody tr th:only-of-type {\n",
       "        vertical-align: middle;\n",
       "    }\n",
       "\n",
       "    .dataframe tbody tr th {\n",
       "        vertical-align: top;\n",
       "    }\n",
       "\n",
       "    .dataframe thead th {\n",
       "        text-align: right;\n",
       "    }\n",
       "</style>\n",
       "<table border=\"1\" class=\"dataframe\">\n",
       "  <thead>\n",
       "    <tr style=\"text-align: right;\">\n",
       "      <th></th>\n",
       "      <th>gnd</th>\n",
       "    </tr>\n",
       "  </thead>\n",
       "  <tbody>\n",
       "    <tr>\n",
       "      <th>1</th>\n",
       "      <td>0</td>\n",
       "    </tr>\n",
       "    <tr>\n",
       "      <th>2</th>\n",
       "      <td>0</td>\n",
       "    </tr>\n",
       "    <tr>\n",
       "      <th>3</th>\n",
       "      <td>0</td>\n",
       "    </tr>\n",
       "    <tr>\n",
       "      <th>4</th>\n",
       "      <td>0</td>\n",
       "    </tr>\n",
       "    <tr>\n",
       "      <th>5</th>\n",
       "      <td>0</td>\n",
       "    </tr>\n",
       "    <tr>\n",
       "      <th>...</th>\n",
       "      <td>...</td>\n",
       "    </tr>\n",
       "    <tr>\n",
       "      <th>2062</th>\n",
       "      <td>4</td>\n",
       "    </tr>\n",
       "    <tr>\n",
       "      <th>2063</th>\n",
       "      <td>4</td>\n",
       "    </tr>\n",
       "    <tr>\n",
       "      <th>2064</th>\n",
       "      <td>4</td>\n",
       "    </tr>\n",
       "    <tr>\n",
       "      <th>2065</th>\n",
       "      <td>4</td>\n",
       "    </tr>\n",
       "    <tr>\n",
       "      <th>2066</th>\n",
       "      <td>4</td>\n",
       "    </tr>\n",
       "  </tbody>\n",
       "</table>\n",
       "<p>2066 rows × 1 columns</p>\n",
       "</div>"
      ],
      "text/plain": [
       "      gnd\n",
       "1       0\n",
       "2       0\n",
       "3       0\n",
       "4       0\n",
       "5       0\n",
       "...   ...\n",
       "2062    4\n",
       "2063    4\n",
       "2064    4\n",
       "2065    4\n",
       "2066    4\n",
       "\n",
       "[2066 rows x 1 columns]"
      ]
     },
     "execution_count": 8,
     "metadata": {},
     "output_type": "execute_result"
    }
   ],
   "source": [
    "dataset[['gnd']]"
   ]
  },
  {
   "cell_type": "code",
   "execution_count": 9,
   "metadata": {},
   "outputs": [
    {
     "data": {
      "text/html": [
       "<div>\n",
       "<style scoped>\n",
       "    .dataframe tbody tr th:only-of-type {\n",
       "        vertical-align: middle;\n",
       "    }\n",
       "\n",
       "    .dataframe tbody tr th {\n",
       "        vertical-align: top;\n",
       "    }\n",
       "\n",
       "    .dataframe thead th {\n",
       "        text-align: right;\n",
       "    }\n",
       "</style>\n",
       "<table border=\"1\" class=\"dataframe\">\n",
       "  <thead>\n",
       "    <tr style=\"text-align: right;\">\n",
       "      <th></th>\n",
       "      <th>pc1</th>\n",
       "      <th>pc2</th>\n",
       "      <th>gnd</th>\n",
       "    </tr>\n",
       "  </thead>\n",
       "  <tbody>\n",
       "    <tr>\n",
       "      <th>1</th>\n",
       "      <td>9.970692</td>\n",
       "      <td>-6.181722</td>\n",
       "      <td>0</td>\n",
       "    </tr>\n",
       "    <tr>\n",
       "      <th>2</th>\n",
       "      <td>11.416000</td>\n",
       "      <td>-6.941587</td>\n",
       "      <td>0</td>\n",
       "    </tr>\n",
       "    <tr>\n",
       "      <th>3</th>\n",
       "      <td>3.690119</td>\n",
       "      <td>-4.693097</td>\n",
       "      <td>0</td>\n",
       "    </tr>\n",
       "    <tr>\n",
       "      <th>4</th>\n",
       "      <td>7.312408</td>\n",
       "      <td>-6.042886</td>\n",
       "      <td>0</td>\n",
       "    </tr>\n",
       "    <tr>\n",
       "      <th>5</th>\n",
       "      <td>18.061520</td>\n",
       "      <td>-1.862436</td>\n",
       "      <td>0</td>\n",
       "    </tr>\n",
       "    <tr>\n",
       "      <th>...</th>\n",
       "      <td>...</td>\n",
       "      <td>...</td>\n",
       "      <td>...</td>\n",
       "    </tr>\n",
       "    <tr>\n",
       "      <th>2062</th>\n",
       "      <td>-1.917926</td>\n",
       "      <td>-0.397488</td>\n",
       "      <td>4</td>\n",
       "    </tr>\n",
       "    <tr>\n",
       "      <th>2063</th>\n",
       "      <td>0.525752</td>\n",
       "      <td>2.646714</td>\n",
       "      <td>4</td>\n",
       "    </tr>\n",
       "    <tr>\n",
       "      <th>2064</th>\n",
       "      <td>-0.349422</td>\n",
       "      <td>-0.933681</td>\n",
       "      <td>4</td>\n",
       "    </tr>\n",
       "    <tr>\n",
       "      <th>2065</th>\n",
       "      <td>-3.115263</td>\n",
       "      <td>-2.090474</td>\n",
       "      <td>4</td>\n",
       "    </tr>\n",
       "    <tr>\n",
       "      <th>2066</th>\n",
       "      <td>-5.644094</td>\n",
       "      <td>0.246167</td>\n",
       "      <td>4</td>\n",
       "    </tr>\n",
       "  </tbody>\n",
       "</table>\n",
       "<p>2066 rows × 3 columns</p>\n",
       "</div>"
      ],
      "text/plain": [
       "            pc1       pc2  gnd\n",
       "1      9.970692 -6.181722    0\n",
       "2     11.416000 -6.941587    0\n",
       "3      3.690119 -4.693097    0\n",
       "4      7.312408 -6.042886    0\n",
       "5     18.061520 -1.862436    0\n",
       "...         ...       ...  ...\n",
       "2062  -1.917926 -0.397488    4\n",
       "2063   0.525752  2.646714    4\n",
       "2064  -0.349422 -0.933681    4\n",
       "2065  -3.115263 -2.090474    4\n",
       "2066  -5.644094  0.246167    4\n",
       "\n",
       "[2066 rows x 3 columns]"
      ]
     },
     "execution_count": 9,
     "metadata": {},
     "output_type": "execute_result"
    }
   ],
   "source": [
    "prin2 = pd.DataFrame(X2, columns=['pc1','pc2'], index = range(1,2067))\n",
    "prin2_gnd = pd.concat([prin2,dataset[['gnd']]], axis = 1)\n",
    "prin2_gnd"
   ]
  },
  {
   "cell_type": "code",
   "execution_count": 10,
   "metadata": {},
   "outputs": [],
   "source": [
    "data0 = prin2_gnd[prin2_gnd['gnd']==0]\n",
    "data1 = prin2_gnd[prin2_gnd['gnd']==1]\n",
    "data2 = prin2_gnd[prin2_gnd['gnd']==2]\n",
    "data3 = prin2_gnd[prin2_gnd['gnd']==3]\n",
    "data4 = prin2_gnd[prin2_gnd['gnd']==4]"
   ]
  },
  {
   "cell_type": "code",
   "execution_count": 11,
   "metadata": {},
   "outputs": [
    {
     "data": {
      "text/plain": [
       "Text(0, 0.5, 'Second PCA Component')"
      ]
     },
     "execution_count": 11,
     "metadata": {},
     "output_type": "execute_result"
    },
    {
     "data": {
      "image/png": "[encoded data removed]",
      "text/plain": [
       "<Figure size 576x432 with 1 Axes>"
      ]
     },
     "metadata": {
      "needs_background": "light"
     },
     "output_type": "display_data"
    }
   ],
   "source": [
    "plt.figure(figsize=(8,6))\n",
    "\n",
    "plt.scatter(data0['pc1'],data0['pc2'],label = 0)\n",
    "plt.scatter(data1['pc1'],data1['pc2'],label = 1)\n",
    "plt.scatter(data2['pc1'],data2['pc2'],label = 2)\n",
    "plt.scatter(data3['pc1'],data3['pc2'],label = 3)\n",
    "plt.scatter(data4['pc1'],data4['pc2'],label = 4)\n",
    "plt.legend()\n",
    "plt.xlabel('First PCA Component')\n",
    "plt.ylabel('Second PCA Component')"
   ]
  },
  {
   "cell_type": "code",
   "execution_count": 12,
   "metadata": {},
   "outputs": [
    {
     "data": {
      "text/plain": [
       "(2066, 2)"
      ]
     },
     "execution_count": 12,
     "metadata": {},
     "output_type": "execute_result"
    }
   ],
   "source": [
    "X3 = XX[:,[5,6]]\n",
    "X3.shape"
   ]
  },
  {
   "cell_type": "code",
   "execution_count": 13,
   "metadata": {},
   "outputs": [
    {
     "data": {
      "text/html": [
       "<div>\n",
       "<style scoped>\n",
       "    .dataframe tbody tr th:only-of-type {\n",
       "        vertical-align: middle;\n",
       "    }\n",
       "\n",
       "    .dataframe tbody tr th {\n",
       "        vertical-align: top;\n",
       "    }\n",
       "\n",
       "    .dataframe thead th {\n",
       "        text-align: right;\n",
       "    }\n",
       "</style>\n",
       "<table border=\"1\" class=\"dataframe\">\n",
       "  <thead>\n",
       "    <tr style=\"text-align: right;\">\n",
       "      <th></th>\n",
       "      <th>pc5</th>\n",
       "      <th>pc6</th>\n",
       "      <th>gnd</th>\n",
       "    </tr>\n",
       "  </thead>\n",
       "  <tbody>\n",
       "    <tr>\n",
       "      <th>1</th>\n",
       "      <td>-2.844761</td>\n",
       "      <td>1.276232</td>\n",
       "      <td>0</td>\n",
       "    </tr>\n",
       "    <tr>\n",
       "      <th>2</th>\n",
       "      <td>-0.146431</td>\n",
       "      <td>1.683401</td>\n",
       "      <td>0</td>\n",
       "    </tr>\n",
       "    <tr>\n",
       "      <th>3</th>\n",
       "      <td>-3.226107</td>\n",
       "      <td>3.662990</td>\n",
       "      <td>0</td>\n",
       "    </tr>\n",
       "    <tr>\n",
       "      <th>4</th>\n",
       "      <td>-5.523882</td>\n",
       "      <td>3.971637</td>\n",
       "      <td>0</td>\n",
       "    </tr>\n",
       "    <tr>\n",
       "      <th>5</th>\n",
       "      <td>4.443076</td>\n",
       "      <td>-2.186078</td>\n",
       "      <td>0</td>\n",
       "    </tr>\n",
       "    <tr>\n",
       "      <th>...</th>\n",
       "      <td>...</td>\n",
       "      <td>...</td>\n",
       "      <td>...</td>\n",
       "    </tr>\n",
       "    <tr>\n",
       "      <th>2062</th>\n",
       "      <td>-2.309800</td>\n",
       "      <td>-3.861676</td>\n",
       "      <td>4</td>\n",
       "    </tr>\n",
       "    <tr>\n",
       "      <th>2063</th>\n",
       "      <td>4.547903</td>\n",
       "      <td>-1.437164</td>\n",
       "      <td>4</td>\n",
       "    </tr>\n",
       "    <tr>\n",
       "      <th>2064</th>\n",
       "      <td>-2.822867</td>\n",
       "      <td>-3.678327</td>\n",
       "      <td>4</td>\n",
       "    </tr>\n",
       "    <tr>\n",
       "      <th>2065</th>\n",
       "      <td>-2.586437</td>\n",
       "      <td>-2.099663</td>\n",
       "      <td>4</td>\n",
       "    </tr>\n",
       "    <tr>\n",
       "      <th>2066</th>\n",
       "      <td>-3.198489</td>\n",
       "      <td>2.975116</td>\n",
       "      <td>4</td>\n",
       "    </tr>\n",
       "  </tbody>\n",
       "</table>\n",
       "<p>2066 rows × 3 columns</p>\n",
       "</div>"
      ],
      "text/plain": [
       "           pc5       pc6  gnd\n",
       "1    -2.844761  1.276232    0\n",
       "2    -0.146431  1.683401    0\n",
       "3    -3.226107  3.662990    0\n",
       "4    -5.523882  3.971637    0\n",
       "5     4.443076 -2.186078    0\n",
       "...        ...       ...  ...\n",
       "2062 -2.309800 -3.861676    4\n",
       "2063  4.547903 -1.437164    4\n",
       "2064 -2.822867 -3.678327    4\n",
       "2065 -2.586437 -2.099663    4\n",
       "2066 -3.198489  2.975116    4\n",
       "\n",
       "[2066 rows x 3 columns]"
      ]
     },
     "execution_count": 13,
     "metadata": {},
     "output_type": "execute_result"
    }
   ],
   "source": [
    "prin3 = pd.DataFrame(X3, columns=['pc5','pc6'], index = range(1,2067))\n",
    "prin3_gnd = pd.concat([prin3,dataset[['gnd']]], axis = 1)\n",
    "prin3_gnd"
   ]
  },
  {
   "cell_type": "code",
   "execution_count": 14,
   "metadata": {},
   "outputs": [],
   "source": [
    "data5 = prin3_gnd[prin3_gnd['gnd']==0]\n",
    "data6 = prin3_gnd[prin3_gnd['gnd']==1]\n",
    "data7 = prin3_gnd[prin3_gnd['gnd']==2]\n",
    "data8 = prin3_gnd[prin3_gnd['gnd']==3]\n",
    "data9 = prin3_gnd[prin3_gnd['gnd']==4]"
   ]
  },
  {
   "cell_type": "code",
   "execution_count": 15,
   "metadata": {},
   "outputs": [
    {
     "data": {
      "text/plain": [
       "Text(0, 0.5, 'Sixth  PCA Component')"
      ]
     },
     "execution_count": 15,
     "metadata": {},
     "output_type": "execute_result"
    },
    {
     "data": {
      "image/png": "[encoded data removed]",
      "text/plain": [
       "<Figure size 576x432 with 1 Axes>"
      ]
     },
     "metadata": {
      "needs_background": "light"
     },
     "output_type": "display_data"
    }
   ],
   "source": [
    "plt.figure(figsize = (8,6))\n",
    "\n",
    "plt.scatter(data5['pc5'],data5['pc6'],label = 0)\n",
    "plt.scatter(data6['pc5'],data6['pc6'],label = 1)\n",
    "plt.scatter(data7['pc5'],data7['pc6'],label = 2)\n",
    "plt.scatter(data8['pc5'],data8['pc6'],label = 3)\n",
    "plt.scatter(data9['pc5'],data9['pc6'],label = 4)\n",
    "plt.legend()\n",
    "plt.xlabel('Fifth PCA Component')\n",
    "plt.ylabel('Sixth  PCA Component')"
   ]
  },
  {
   "cell_type": "code",
   "execution_count": 16,
   "metadata": {},
   "outputs": [],
   "source": [
    "# To compute the eigenvalues and the eigenvectors\n",
    "from numpy import linalg\n",
    "covar = np.cov(XX.T)\n",
    "w,v = linalg.eig(covar)"
   ]
  },
  {
   "cell_type": "code",
   "execution_count": 17,
   "metadata": {},
   "outputs": [
    {
     "data": {
      "text/plain": [
       "array([5.17773194e+01, 2.88008646e+01, 2.67709105e+01, 2.39303462e+01,\n",
       "       2.15750394e+01, 1.58935251e+01, 1.38619413e+01, 1.19120888e+01,\n",
       "       1.06614183e+01, 9.82358285e+00, 9.11333621e+00, 8.28795842e+00,\n",
       "       7.47022078e+00, 7.18685689e+00, 7.01821733e+00, 6.72923900e+00,\n",
       "       6.17171361e+00, 6.03035494e+00, 5.97218819e+00, 5.74588510e+00,\n",
       "       5.56641979e+00, 5.34085526e+00, 5.30999748e+00, 5.07244463e+00,\n",
       "       4.90219996e+00, 4.74032764e+00, 4.46040954e+00, 4.43875834e+00,\n",
       "       4.37522974e+00, 4.24991493e+00, 4.19736144e+00, 4.13191195e+00,\n",
       "       4.00668370e+00, 3.89959838e+00, 3.82103747e+00, 3.75801773e+00,\n",
       "       3.70087222e+00, 3.57242695e+00, 3.53870728e+00, 3.47609288e+00,\n",
       "       3.37860197e+00, 3.27713810e+00, 3.19615121e+00, 3.18762080e+00,\n",
       "       3.09982645e+00, 3.00645131e+00, 2.95668338e+00, 2.93613238e+00,\n",
       "       2.84667418e+00, 2.80490440e+00, 2.77752432e+00, 2.73566237e+00,\n",
       "       2.73062118e+00, 2.64033670e+00, 2.60241921e+00, 2.56556417e+00,\n",
       "       2.48286895e+00, 2.46546582e+00, 2.43864084e+00, 2.41046503e+00,\n",
       "       2.38602670e+00, 2.34433526e+00, 2.31096266e+00, 2.25866184e+00,\n",
       "       2.23001715e+00, 2.19896413e+00, 2.15384123e+00, 2.14573490e+00,\n",
       "       2.09323086e+00, 2.06319336e+00, 2.05255052e+00, 2.00585330e+00,\n",
       "       1.96960581e+00, 1.95659528e+00, 1.92607287e+00, 1.90413259e+00,\n",
       "       1.88067389e+00, 1.84329634e+00, 1.83261892e+00, 1.81640559e+00,\n",
       "       1.80894894e+00, 1.80037769e+00, 1.79143455e+00, 1.77821823e+00,\n",
       "       1.75344083e+00, 1.74420633e+00, 1.73235499e+00, 1.71703221e+00,\n",
       "       1.69560958e+00, 1.67660264e+00, 1.67204995e+00, 1.66413703e+00,\n",
       "       1.65298469e+00, 1.64607810e+00, 1.62658205e+00, 1.61023500e+00,\n",
       "       1.59724824e+00, 1.59323756e+00, 1.58168294e+00, 1.56824196e+00,\n",
       "       1.55793648e+00, 1.55649266e+00, 1.55126745e+00, 1.53478544e+00,\n",
       "       1.52250847e+00, 1.51844179e+00, 1.50526693e+00, 1.50403086e+00,\n",
       "       1.49832877e+00, 1.49084155e+00, 1.48107619e+00, 1.47692460e+00,\n",
       "       1.47144049e+00, 1.46645002e+00, 1.44965194e+00, 1.44504737e+00,\n",
       "       1.44001722e+00, 1.42705114e+00, 1.42253474e+00, 1.41615253e+00,\n",
       "       1.40832241e+00, 1.40224124e+00, 1.39570127e+00, 1.38879684e+00,\n",
       "       1.37904784e+00, 1.37790604e+00, 1.36580346e+00, 1.36372072e+00,\n",
       "       1.35608476e+00, 1.34791805e+00, 1.33889606e+00, 1.33011761e+00,\n",
       "       1.32803706e+00, 1.32266875e+00, 1.31925957e+00, 1.30663444e+00,\n",
       "       1.30378173e+00, 1.29900900e+00, 1.29700677e+00, 1.29230361e+00,\n",
       "       1.28317401e+00, 1.27869566e+00, 1.27308404e+00, 1.26556014e+00,\n",
       "       1.25805205e+00, 1.25428149e+00, 1.25068531e+00, 1.24549638e+00,\n",
       "       1.24082952e+00, 1.23076321e+00, 1.22902220e+00, 1.22246312e+00,\n",
       "       1.21690294e+00, 1.21022711e+00, 1.20439342e+00, 1.19694226e+00,\n",
       "       1.19615017e+00, 1.18957391e+00, 1.18452868e+00, 1.17925785e+00,\n",
       "       1.17643009e+00, 1.16700758e+00, 1.16075509e+00, 1.15835675e+00,\n",
       "       1.15396067e+00, 1.15189969e+00, 1.14384274e+00, 1.14069187e+00,\n",
       "       1.13752338e+00, 1.13189592e+00, 1.13139929e+00, 1.12420692e+00,\n",
       "       1.11827810e+00, 1.11548770e+00, 1.11099158e+00, 1.10138952e+00,\n",
       "       1.09690924e+00, 1.08992340e+00, 1.08542061e+00, 1.08403100e+00,\n",
       "       1.07573208e+00, 1.07238949e+00, 1.07044231e+00, 1.06348505e+00,\n",
       "       1.05916097e+00, 1.05462755e+00, 1.05264302e+00, 1.04903755e+00,\n",
       "       1.04551789e+00, 1.04244336e+00, 1.03551736e+00, 1.03059287e+00,\n",
       "       1.02793382e+00, 1.02604314e+00, 1.02062715e+00, 1.01926849e+00,\n",
       "       1.01399571e+00, 1.00607692e+00, 1.00034932e+00, 9.97241064e-01,\n",
       "       9.96300176e-01, 9.92502857e-01, 9.89148104e-01, 9.87673495e-01,\n",
       "       9.85365930e-01, 9.82087722e-01, 9.73538259e-01, 9.70484740e-01,\n",
       "       9.68551405e-01, 9.62058947e-01, 9.59278503e-01, 9.54741785e-01,\n",
       "       9.48903691e-01, 9.47150028e-01, 9.44766056e-01, 9.41552921e-01,\n",
       "       9.36219160e-01, 9.33527611e-01, 9.27133401e-01, 9.19136858e-01,\n",
       "       9.15317036e-01, 9.09679002e-01, 9.06488292e-01, 9.04317723e-01,\n",
       "       9.00971593e-01, 8.95950438e-01, 8.93443276e-01, 8.87174910e-01,\n",
       "       8.86152094e-01, 8.81600833e-01, 8.75550466e-01, 8.72929296e-01,\n",
       "       8.68106216e-01, 8.66487490e-01, 8.62764770e-01, 8.56781786e-01,\n",
       "       8.56166442e-01, 8.53833841e-01, 8.49134166e-01, 8.46631609e-01,\n",
       "       8.40107090e-01, 8.32021350e-01, 8.29797511e-01, 8.29226645e-01,\n",
       "       8.24908728e-01, 8.22642837e-01, 8.19939354e-01, 8.16193388e-01,\n",
       "       8.08486815e-01, 8.07311909e-01, 8.06320457e-01, 7.97794027e-01,\n",
       "       7.97537997e-01, 7.89660249e-01, 7.88257968e-01, 7.85548813e-01,\n",
       "       7.83650861e-01, 7.79302790e-01, 7.74021021e-01, 7.66836615e-01,\n",
       "       7.65207099e-01, 7.61200709e-01, 7.55880671e-01, 7.52870953e-01,\n",
       "       7.50792004e-01, 7.49261575e-01, 7.43699754e-01, 7.40058183e-01,\n",
       "       7.36367538e-01, 7.34130334e-01, 7.29754114e-01, 7.26669554e-01,\n",
       "       7.25553750e-01, 7.21314970e-01, 7.14484346e-01, 7.14248107e-01,\n",
       "       7.09604556e-01, 7.06770113e-01, 7.03714325e-01, 7.02451208e-01,\n",
       "       6.97315619e-01, 6.91775224e-01, 6.90507958e-01, 6.87122515e-01,\n",
       "       6.83204139e-01, 6.73332752e-01, 6.72064089e-01, 6.70835940e-01,\n",
       "       6.67454324e-01, 6.65901511e-01, 6.63553634e-01, 6.59231255e-01,\n",
       "       6.56485646e-01, 6.53754314e-01, 6.49661550e-01, 6.45516988e-01,\n",
       "       6.41624530e-01, 6.39076267e-01, 6.34387727e-01, 6.31434905e-01,\n",
       "       6.28142749e-01, 6.27861213e-01, 6.22403089e-01, 6.19960786e-01,\n",
       "       6.15748915e-01, 6.11924976e-01, 6.07029625e-01, 6.06064272e-01,\n",
       "       6.00039007e-01, 5.97293586e-01, 5.94933788e-01, 5.92335669e-01,\n",
       "       5.90321641e-01, 5.86319448e-01, 5.81404702e-01, 5.76879155e-01,\n",
       "       5.76114710e-01, 5.72776378e-01, 5.69479047e-01, 5.65553499e-01,\n",
       "       5.60802097e-01, 5.59141210e-01, 5.55603060e-01, 5.54189268e-01,\n",
       "       5.45885592e-01, 5.43739258e-01, 5.41730292e-01, 5.39352315e-01,\n",
       "       5.30984709e-01, 5.30105949e-01, 5.26194708e-01, 5.22899231e-01,\n",
       "       5.21120698e-01, 5.18188155e-01, 5.16202242e-01, 5.08474561e-01,\n",
       "       5.05130550e-01, 5.01810375e-01, 4.95807021e-01, 4.93850110e-01,\n",
       "       4.87083967e-01, 4.86569634e-01, 4.82167931e-01, 4.77047875e-01,\n",
       "       4.74086648e-01, 4.68789346e-01, 4.67478001e-01, 4.61502325e-01,\n",
       "       4.58685453e-01, 4.54396038e-01, 4.53461706e-01, 4.47196566e-01,\n",
       "       4.46043328e-01, 4.43912263e-01, 4.39874259e-01, 4.36349443e-01,\n",
       "       4.31459676e-01, 4.24889939e-01, 4.24230093e-01, 4.22232361e-01,\n",
       "       4.15584708e-01, 4.12553489e-01, 4.10233937e-01, 4.08024749e-01,\n",
       "       3.98674723e-01, 3.97115929e-01, 3.89934063e-01, 3.88639612e-01,\n",
       "       3.84234632e-01, 3.80242671e-01, 3.78780838e-01, 3.76571612e-01,\n",
       "       3.72641467e-01, 3.69165473e-01, 3.65162973e-01, 3.63140044e-01,\n",
       "       3.58831277e-01, 3.56256261e-01, 3.54105607e-01, 3.49160525e-01,\n",
       "       3.47193765e-01, 3.42656953e-01, 3.38724596e-01, 3.35606682e-01,\n",
       "       3.34513248e-01, 3.28982477e-01, 3.26875218e-01, 3.22699371e-01,\n",
       "       3.20094176e-01, 3.17876932e-01, 3.14163086e-01, 3.12300518e-01,\n",
       "       3.09717107e-01, 3.05965486e-01, 3.00859731e-01, 2.98141683e-01,\n",
       "       2.95031639e-01, 2.92417286e-01, 2.89846717e-01, 2.86487995e-01,\n",
       "       2.85145365e-01, 2.81943014e-01, 2.78408600e-01, 2.76809791e-01,\n",
       "       2.75513656e-01, 2.71395101e-01, 2.66976114e-01, 2.65251468e-01,\n",
       "       2.61089787e-01, 2.59526033e-01, 2.55034747e-01, 2.50847577e-01,\n",
       "       2.49689227e-01, 2.47829747e-01, 2.45961118e-01, 2.41359515e-01,\n",
       "       2.40481006e-01, 2.38082649e-01, 2.35876613e-01, 2.33462181e-01,\n",
       "       2.31551149e-01, 2.30627456e-01, 2.28953553e-01, 2.26661754e-01,\n",
       "       2.25152106e-01, 2.21215068e-01, 2.18986055e-01, 2.16692457e-01,\n",
       "       2.15475320e-01, 2.12699437e-01, 2.11357016e-01, 2.08931187e-01,\n",
       "       2.07276926e-01, 2.06020823e-01, 2.03290460e-01, 1.99611330e-01,\n",
       "       1.98471820e-01, 1.97866190e-01, 1.93837681e-01, 1.92976597e-01,\n",
       "       1.91677989e-01, 1.88510208e-01, 1.87301759e-01, 1.85548154e-01,\n",
       "       1.83485521e-01, 1.82091069e-01, 1.80960753e-01, 1.78632196e-01,\n",
       "       1.77647580e-01, 1.75717987e-01, 1.72871118e-01, 1.72272677e-01,\n",
       "       1.71331364e-01, 1.68551529e-01, 1.67383609e-01, 1.66087245e-01,\n",
       "       1.64001010e-01, 1.62959572e-01, 1.62131713e-01, 1.61927475e-01,\n",
       "       1.58793976e-01, 1.55533784e-01, 1.55076758e-01, 1.52683321e-01,\n",
       "       1.50732422e-01, 1.50305380e-01, 1.47381014e-01, 1.46819402e-01,\n",
       "       1.45150020e-01, 1.44400138e-01, 1.43501507e-01, 1.41900402e-01,\n",
       "       1.40542945e-01, 1.39287007e-01, 1.38186242e-01, 1.35707083e-01,\n",
       "       1.34994011e-01, 1.34682290e-01, 1.33618160e-01, 1.31516890e-01,\n",
       "       1.31111114e-01, 1.29433115e-01, 1.29065504e-01, 1.28251175e-01,\n",
       "       1.26604656e-01, 1.25771243e-01, 1.24769712e-01, 1.23637568e-01,\n",
       "       1.21095969e-01, 1.19911967e-01, 1.19730852e-01, 1.19476591e-01,\n",
       "       1.18624268e-01, 1.17474995e-01, 1.16128318e-01, 1.15569544e-01,\n",
       "       1.14073460e-01, 1.13635090e-01, 1.12409932e-01, 1.10835269e-01,\n",
       "       1.09296790e-01, 1.09012053e-01, 1.07522577e-01, 1.07379870e-01,\n",
       "       1.06430100e-01, 1.05634697e-01, 1.04344425e-01, 1.03895819e-01,\n",
       "       1.02716181e-01, 1.01918387e-01, 1.01261051e-01, 1.00016444e-01,\n",
       "       9.95918258e-02, 9.86849711e-02, 9.72662314e-02, 9.59749195e-02,\n",
       "       9.56962665e-02, 9.56204314e-02, 9.46941224e-02, 9.38321429e-02,\n",
       "       9.26132724e-02, 9.23590703e-02, 9.16147812e-02, 9.06893041e-02,\n",
       "       8.95027835e-02, 8.84370923e-02, 8.77201279e-02, 8.72902537e-02,\n",
       "       8.70044651e-02, 8.64700757e-02, 8.59569739e-02, 8.40017086e-02,\n",
       "       8.38315546e-02, 8.27684972e-02, 8.24120364e-02, 8.19015698e-02,\n",
       "       8.13152113e-02, 8.02183390e-02, 7.99496365e-02, 7.90703097e-02,\n",
       "       7.90119529e-02, 7.75473171e-02, 7.75234527e-02, 7.64555071e-02,\n",
       "       7.60884809e-02, 7.56396413e-02, 7.52486183e-02, 7.44115386e-02,\n",
       "       7.39776374e-02, 7.34738511e-02, 7.30521527e-02, 7.30031184e-02,\n",
       "       7.20888012e-02, 7.14166133e-02, 7.10129231e-02, 7.01675276e-02,\n",
       "       6.96339653e-02, 6.91524368e-02, 6.86499091e-02, 6.84815711e-02,\n",
       "       6.78279910e-02, 6.65768226e-02, 6.64154703e-02, 6.54685573e-02,\n",
       "       6.52307311e-02, 6.49313582e-02, 6.40103113e-02, 6.38173827e-02,\n",
       "       6.35157398e-02, 6.29538177e-02, 6.24854806e-02, 6.21808584e-02,\n",
       "       6.12706423e-02, 6.10446346e-02, 6.07133938e-02, 6.04153253e-02,\n",
       "       5.97392837e-02, 5.91766347e-02, 5.89186821e-02, 5.84101870e-02,\n",
       "       5.81079453e-02, 5.77712617e-02, 5.76518061e-02, 5.68412903e-02,\n",
       "       5.62265295e-02, 5.60466599e-02, 5.54994483e-02, 5.52925538e-02,\n",
       "       5.47622827e-02, 5.42798615e-02, 5.40339091e-02, 5.35166013e-02,\n",
       "       5.33580911e-02, 5.27466768e-02, 5.19094853e-02, 5.17381102e-02,\n",
       "       5.11206748e-02, 5.09995363e-02, 5.05584286e-02, 5.02855429e-02,\n",
       "       4.98603957e-02, 4.93420812e-02, 4.91383694e-02, 4.87384503e-02,\n",
       "       4.83905905e-02, 4.82230419e-02, 4.79605073e-02, 4.77925592e-02,\n",
       "       4.67459736e-02, 4.66088195e-02, 4.62093948e-02, 4.55698242e-02,\n",
       "       4.55270415e-02, 4.51517821e-02, 4.47860905e-02, 4.45812991e-02,\n",
       "       4.40169979e-02, 4.37841578e-02, 4.33645804e-02, 4.29655689e-02,\n",
       "       4.28078357e-02, 4.26163913e-02, 4.20642971e-02, 4.19048229e-02,\n",
       "       4.17011860e-02, 4.12948752e-02, 4.06782667e-02, 4.05862111e-02,\n",
       "       4.05162084e-02, 4.00258084e-02, 3.99198276e-02, 3.95369551e-02,\n",
       "       3.85149257e-02, 3.82158133e-02, 3.79922830e-02, 3.77157303e-02,\n",
       "       3.75380764e-02, 3.73445686e-02, 3.72281748e-02, 3.67223394e-02,\n",
       "       3.62540599e-02, 3.60109143e-02, 3.58007915e-02, 3.57157819e-02,\n",
       "       3.53589967e-02, 3.51586346e-02, 3.46734865e-02, 3.43939298e-02,\n",
       "       3.42047572e-02, 3.38517135e-02, 3.36265712e-02, 3.35890936e-02,\n",
       "       3.32442373e-02, 3.30842952e-02, 3.26197513e-02, 3.25170230e-02,\n",
       "       3.23264251e-02, 3.21068628e-02, 3.18139552e-02, 3.14690733e-02,\n",
       "       3.11915807e-02, 3.07603437e-02, 3.06232530e-02, 3.04923418e-02,\n",
       "       3.01982378e-02, 2.96749209e-02, 2.96221792e-02, 2.95315621e-02,\n",
       "       2.90108159e-02, 2.88452743e-02, 2.85458236e-02, 2.82134229e-02,\n",
       "       2.81321689e-02, 2.79547100e-02, 2.77680664e-02, 2.75616741e-02,\n",
       "       2.74932374e-02, 2.72990830e-02, 2.69391617e-02, 2.68883330e-02,\n",
       "       2.65527684e-02, 2.63324902e-02, 2.62203192e-02, 2.59201790e-02,\n",
       "       2.56857193e-02, 2.54467493e-02, 2.53424289e-02, 2.49695989e-02,\n",
       "       2.47746319e-02, 2.46732490e-02, 2.41307523e-02, 2.39878391e-02,\n",
       "       2.38470137e-02, 2.36595171e-02, 2.34748437e-02, 2.31125457e-02,\n",
       "       2.30548370e-02, 2.28175385e-02, 2.25853884e-02, 2.25304264e-02,\n",
       "       2.24326849e-02, 2.20473726e-02, 2.16714068e-02, 2.16129301e-02,\n",
       "       2.12710252e-02, 2.11151985e-02, 2.10086462e-02, 2.06974275e-02,\n",
       "       2.05913791e-02, 2.02710347e-02, 2.01420891e-02, 2.00692306e-02,\n",
       "       1.97981614e-02, 1.94912911e-02, 1.93290883e-02, 1.91693235e-02,\n",
       "       1.90708791e-02, 1.89298080e-02, 1.88559855e-02, 1.85131345e-02,\n",
       "       1.84729470e-02, 1.83372227e-02, 1.79698710e-02, 1.79045769e-02,\n",
       "       1.78165760e-02, 1.76953947e-02, 1.73777548e-02, 1.72645039e-02,\n",
       "       1.71649898e-02, 1.67939333e-02, 1.67151921e-02, 1.66122410e-02,\n",
       "       1.63564608e-02, 1.63249513e-02, 1.60528103e-02, 1.59376580e-02,\n",
       "       1.57584247e-02, 1.56594762e-02, 1.54806987e-02, 1.53408727e-02,\n",
       "       1.50939880e-02, 1.48912318e-02, 1.47397414e-02, 1.45343097e-02,\n",
       "       1.44948392e-02, 1.42711101e-02, 1.41431281e-02, 1.39527048e-02,\n",
       "       1.36723998e-02, 1.35174614e-02, 1.34022076e-02, 1.33046542e-02,\n",
       "       1.30555115e-02, 1.29080794e-02, 1.28369117e-02, 1.27207821e-02,\n",
       "       1.26167660e-02, 1.24225729e-02, 1.22316057e-02, 1.20787835e-02,\n",
       "       1.18335915e-02, 1.16052660e-02, 1.15190236e-02, 1.13628067e-02,\n",
       "       1.12373849e-02, 1.11619155e-02, 1.09433143e-02, 1.08129008e-02,\n",
       "       1.06412158e-02, 1.01457638e-02, 1.00736363e-02, 1.00322024e-02,\n",
       "       9.69892410e-03, 9.58849106e-03, 9.31307758e-03, 9.09831448e-03,\n",
       "       8.93192486e-03, 8.82056525e-03, 8.54048562e-03, 8.34035124e-03,\n",
       "       8.14488845e-03, 7.71149989e-03, 7.43794649e-03, 7.10466561e-03])"
      ]
     },
     "execution_count": 17,
     "metadata": {},
     "output_type": "execute_result"
    }
   ],
   "source": [
    "pca.explained_variance_"
   ]
  },
  {
   "cell_type": "code",
   "execution_count": 18,
   "metadata": {},
   "outputs": [
    {
     "data": {
      "text/plain": [
       "array([5.17773194e+01, 2.88008646e+01, 2.67709105e+01, 2.39303462e+01,\n",
       "       2.15750394e+01, 1.58935251e+01, 1.38619413e+01, 1.19120888e+01,\n",
       "       1.06614183e+01, 9.82358285e+00, 9.11333621e+00, 8.28795842e+00,\n",
       "       7.47022078e+00, 7.18685689e+00, 7.01821733e+00, 6.72923900e+00,\n",
       "       6.17171361e+00, 6.03035494e+00, 5.97218819e+00, 5.74588510e+00,\n",
       "       5.56641979e+00, 5.34085526e+00, 5.30999748e+00, 5.07244463e+00,\n",
       "       4.90219996e+00, 4.74032764e+00, 4.46040954e+00, 4.43875834e+00,\n",
       "       4.37522974e+00, 4.24991493e+00, 4.19736144e+00, 4.13191195e+00,\n",
       "       4.00668370e+00, 3.89959838e+00, 3.82103747e+00, 3.75801773e+00,\n",
       "       3.70087222e+00, 3.57242695e+00, 3.53870728e+00, 3.47609288e+00,\n",
       "       3.37860197e+00, 3.27713810e+00, 3.19615121e+00, 3.18762080e+00,\n",
       "       3.09982645e+00, 3.00645131e+00, 2.95668338e+00, 2.93613238e+00,\n",
       "       2.84667418e+00, 2.80490440e+00, 2.77752432e+00, 2.73566237e+00,\n",
       "       2.73062118e+00, 2.64033670e+00, 2.60241921e+00, 2.56556417e+00,\n",
       "       2.48286895e+00, 2.46546582e+00, 2.43864084e+00, 2.41046503e+00,\n",
       "       2.38602670e+00, 2.34433526e+00, 2.31096266e+00, 2.25866184e+00,\n",
       "       2.23001715e+00, 2.19896413e+00, 2.14573490e+00, 2.15384123e+00,\n",
       "       2.09323086e+00, 2.06319336e+00, 2.05255052e+00, 2.00585330e+00,\n",
       "       1.96960581e+00, 1.95659528e+00, 1.92607287e+00, 1.90413259e+00,\n",
       "       1.88067389e+00, 1.84329634e+00, 1.83261892e+00, 1.81640559e+00,\n",
       "       1.80894894e+00, 1.80037769e+00, 1.79143455e+00, 1.77821823e+00,\n",
       "       1.75344083e+00, 1.74420633e+00, 1.73235499e+00, 1.71703221e+00,\n",
       "       1.69560958e+00, 1.67660264e+00, 1.64607810e+00, 1.67204995e+00,\n",
       "       1.65298469e+00, 1.66413703e+00, 1.61023500e+00, 1.62658205e+00,\n",
       "       1.56824196e+00, 1.58168294e+00, 1.59323756e+00, 1.59724824e+00,\n",
       "       1.55793648e+00, 1.55126745e+00, 1.53478544e+00, 1.52250847e+00,\n",
       "       1.51844179e+00, 1.55649266e+00, 1.50403086e+00, 1.50526693e+00,\n",
       "       1.49832877e+00, 1.49084155e+00, 1.48107619e+00, 1.47692460e+00,\n",
       "       1.47144049e+00, 1.46645002e+00, 1.44965194e+00, 1.44504737e+00,\n",
       "       1.44001722e+00, 1.42705114e+00, 1.42253474e+00, 1.41615253e+00,\n",
       "       1.40832241e+00, 1.40224124e+00, 1.39570127e+00, 1.38879684e+00,\n",
       "       1.37790604e+00, 1.37904784e+00, 1.36372072e+00, 1.36580346e+00,\n",
       "       1.35608476e+00, 1.34791805e+00, 1.33889606e+00, 1.32803706e+00,\n",
       "       1.33011761e+00, 1.31925957e+00, 1.32266875e+00, 1.30663444e+00,\n",
       "       1.30378173e+00, 1.29700677e+00, 1.29900900e+00, 1.29230361e+00,\n",
       "       1.28317401e+00, 1.27308404e+00, 1.27869566e+00, 1.26556014e+00,\n",
       "       1.25805205e+00, 1.25428149e+00, 1.24082952e+00, 1.24549638e+00,\n",
       "       1.25068531e+00, 1.23076321e+00, 1.22902220e+00, 1.22246312e+00,\n",
       "       1.11099158e+00, 1.21690294e+00, 1.11548770e+00, 1.11827810e+00,\n",
       "       1.12420692e+00, 1.21022711e+00, 1.20439342e+00, 1.18957391e+00,\n",
       "       1.19694226e+00, 1.19615017e+00, 1.16700758e+00, 1.17643009e+00,\n",
       "       1.17925785e+00, 1.13752338e+00, 1.14069187e+00, 1.13189592e+00,\n",
       "       1.15835675e+00, 1.15396067e+00, 1.18452868e+00, 1.13139929e+00,\n",
       "       1.14384274e+00, 1.16075509e+00, 1.15189969e+00, 9.44766056e-01,\n",
       "       1.10138952e+00, 1.09690924e+00, 1.08992340e+00, 9.47150028e-01,\n",
       "       9.48903691e-01, 1.08542061e+00, 1.08403100e+00, 9.54741785e-01,\n",
       "       9.59278503e-01, 9.62058947e-01, 1.07573208e+00, 1.07238949e+00,\n",
       "       1.07044231e+00, 1.06348505e+00, 9.68551405e-01, 1.05916097e+00,\n",
       "       9.70484740e-01, 9.73538259e-01, 1.05462755e+00, 1.03551736e+00,\n",
       "       1.05264302e+00, 1.04551789e+00, 1.04244336e+00, 9.82087722e-01,\n",
       "       1.00607692e+00, 1.01399571e+00, 1.03059287e+00, 1.00034932e+00,\n",
       "       1.04903755e+00, 1.02062715e+00, 1.02604314e+00, 9.87673495e-01,\n",
       "       9.89148104e-01, 9.85365930e-01, 1.02793382e+00, 1.01926849e+00,\n",
       "       9.92502857e-01, 9.97241064e-01, 9.96300176e-01, 8.46631609e-01,\n",
       "       8.49134166e-01, 8.53833841e-01, 8.56166442e-01, 8.56781786e-01,\n",
       "       8.62764770e-01, 8.66487490e-01, 8.72929296e-01, 8.75550466e-01,\n",
       "       9.19136858e-01, 9.27133401e-01, 9.15317036e-01, 8.81600833e-01,\n",
       "       9.09679002e-01, 9.33527611e-01, 9.36219160e-01, 9.06488292e-01,\n",
       "       9.00971593e-01, 8.93443276e-01, 8.87174910e-01, 9.04317723e-01,\n",
       "       8.68106216e-01, 8.86152094e-01, 8.95950438e-01, 9.41552921e-01,\n",
       "       7.61200709e-01, 7.65207099e-01, 7.66836615e-01, 7.74021021e-01,\n",
       "       7.79302790e-01, 7.83650861e-01, 7.88257968e-01, 7.89660249e-01,\n",
       "       8.40107090e-01, 8.16193388e-01, 8.19939354e-01, 8.32021350e-01,\n",
       "       7.97537997e-01, 8.08486815e-01, 8.22642837e-01, 8.24908728e-01,\n",
       "       8.06320457e-01, 7.97794027e-01, 8.29226645e-01, 7.85548813e-01,\n",
       "       8.29797511e-01, 8.07311909e-01, 7.55880671e-01, 7.49261575e-01,\n",
       "       7.50792004e-01, 7.43699754e-01, 7.40058183e-01, 7.52870953e-01,\n",
       "       7.36367538e-01, 7.34130334e-01, 7.29754114e-01, 7.21314970e-01,\n",
       "       7.26669554e-01, 7.25553750e-01, 6.83204139e-01, 6.97315619e-01,\n",
       "       7.02451208e-01, 6.90507958e-01, 7.06770113e-01, 7.14484346e-01,\n",
       "       7.09604556e-01, 7.14248107e-01, 6.73332752e-01, 6.87122515e-01,\n",
       "       6.72064089e-01, 7.03714325e-01, 6.91775224e-01, 6.70835940e-01,\n",
       "       6.63553634e-01, 6.65901511e-01, 6.67454324e-01, 5.01810375e-01,\n",
       "       6.59231255e-01, 6.53754314e-01, 6.56485646e-01, 5.08474561e-01,\n",
       "       6.49661550e-01, 5.16202242e-01, 5.18188155e-01, 6.41624530e-01,\n",
       "       6.45516988e-01, 5.22899231e-01, 5.26194708e-01, 6.39076267e-01,\n",
       "       5.30984709e-01, 6.34387727e-01, 6.31434905e-01, 6.19960786e-01,\n",
       "       6.15748915e-01, 6.27861213e-01, 5.39352315e-01, 6.11924976e-01,\n",
       "       5.45885592e-01, 5.43739258e-01, 6.28142749e-01, 6.06064272e-01,\n",
       "       6.07029625e-01, 5.65553499e-01, 5.69479047e-01, 5.54189268e-01,\n",
       "       5.59141210e-01, 6.00039007e-01, 5.60802097e-01, 5.97293586e-01,\n",
       "       5.81404702e-01, 5.92335669e-01, 5.76114710e-01, 5.86319448e-01,\n",
       "       5.90321641e-01, 5.41730292e-01, 5.55603060e-01, 5.94933788e-01,\n",
       "       6.22403089e-01, 5.76879155e-01, 5.72776378e-01, 3.76571612e-01,\n",
       "       3.78780838e-01, 5.30105949e-01, 3.80242671e-01, 5.05130550e-01,\n",
       "       4.95807021e-01, 3.84234632e-01, 4.93850110e-01, 3.88639612e-01,\n",
       "       3.89934063e-01, 4.82167931e-01, 4.87083967e-01, 4.86569634e-01,\n",
       "       4.74086648e-01, 5.21120698e-01, 4.67478001e-01, 3.97115929e-01,\n",
       "       3.98674723e-01, 4.68789346e-01, 4.61502325e-01, 4.77047875e-01,\n",
       "       4.58685453e-01, 4.08024749e-01, 4.54396038e-01, 4.53461706e-01,\n",
       "       4.36349443e-01, 4.39874259e-01, 4.12553489e-01, 4.10233937e-01,\n",
       "       4.15584708e-01, 4.46043328e-01, 4.47196566e-01, 4.31459676e-01,\n",
       "       4.43912263e-01, 4.22232361e-01, 4.24230093e-01, 4.24889939e-01,\n",
       "       3.54105607e-01, 3.56256261e-01, 3.58831277e-01, 3.72641467e-01,\n",
       "       3.65162973e-01, 3.69165473e-01, 3.63140044e-01, 3.49160525e-01,\n",
       "       3.47193765e-01, 3.42656953e-01, 3.38724596e-01, 3.34513248e-01,\n",
       "       3.35606682e-01, 3.28982477e-01, 3.26875218e-01, 3.22699371e-01,\n",
       "       3.00859731e-01, 2.98141683e-01, 2.95031639e-01, 3.09717107e-01,\n",
       "       3.17876932e-01, 3.14163086e-01, 3.12300518e-01, 2.71395101e-01,\n",
       "       2.81943014e-01, 2.89846717e-01, 3.20094176e-01, 2.75513656e-01,\n",
       "       2.85145365e-01, 2.78408600e-01, 2.86487995e-01, 2.76809791e-01,\n",
       "       3.05965486e-01, 2.66976114e-01, 2.65251468e-01, 2.61089787e-01,\n",
       "       2.55034747e-01, 2.59526033e-01, 2.50847577e-01, 2.92417286e-01,\n",
       "       2.45961118e-01, 2.49689227e-01, 2.47829747e-01, 2.41359515e-01,\n",
       "       2.40481006e-01, 2.33462181e-01, 2.38082649e-01, 2.35876613e-01,\n",
       "       2.31551149e-01, 2.30627456e-01, 2.25152106e-01, 2.26661754e-01,\n",
       "       2.28953553e-01, 2.21215068e-01, 2.18986055e-01, 2.11357016e-01,\n",
       "       2.12699437e-01, 2.15475320e-01, 2.16692457e-01, 2.06020823e-01,\n",
       "       2.07276926e-01, 2.08931187e-01, 1.46819402e-01, 1.47381014e-01,\n",
       "       1.50732422e-01, 1.50305380e-01, 2.03290460e-01, 1.99611330e-01,\n",
       "       1.97866190e-01, 1.98471820e-01, 1.52683321e-01, 1.92976597e-01,\n",
       "       1.91677989e-01, 1.55533784e-01, 1.55076758e-01, 1.93837681e-01,\n",
       "       1.58793976e-01, 1.85548154e-01, 1.87301759e-01, 1.88510208e-01,\n",
       "       1.83485521e-01, 1.82091069e-01, 1.75717987e-01, 1.80960753e-01,\n",
       "       1.64001010e-01, 1.62959572e-01, 1.61927475e-01, 1.62131713e-01,\n",
       "       1.68551529e-01, 1.66087245e-01, 1.72871118e-01, 1.67383609e-01,\n",
       "       1.77647580e-01, 1.72272677e-01, 1.71331364e-01, 1.78632196e-01,\n",
       "       1.34682290e-01, 1.34994011e-01, 1.35707083e-01, 1.38186242e-01,\n",
       "       1.39287007e-01, 1.45150020e-01, 1.40542945e-01, 1.44400138e-01,\n",
       "       1.41900402e-01, 1.43501507e-01, 1.13635090e-01, 1.15569544e-01,\n",
       "       1.16128318e-01, 1.33618160e-01, 1.21095969e-01, 1.17474995e-01,\n",
       "       1.18624268e-01, 1.23637568e-01, 1.26604656e-01, 1.25771243e-01,\n",
       "       1.31516890e-01, 1.31111114e-01, 1.24769712e-01, 1.19476591e-01,\n",
       "       1.29065504e-01, 1.29433115e-01, 1.28251175e-01, 1.19730852e-01,\n",
       "       1.19911967e-01, 1.14073460e-01, 1.12409932e-01, 1.10835269e-01,\n",
       "       1.09296790e-01, 1.09012053e-01, 1.07379870e-01, 1.07522577e-01,\n",
       "       1.06430100e-01, 1.05634697e-01, 1.04344425e-01, 1.03895819e-01,\n",
       "       1.02716181e-01, 1.01918387e-01, 1.01261051e-01, 1.00016444e-01,\n",
       "       9.86849711e-02, 8.64700757e-02, 9.72662314e-02, 8.95027835e-02,\n",
       "       9.06893041e-02, 8.72902537e-02, 9.95918258e-02, 9.38321429e-02,\n",
       "       9.26132724e-02, 9.59749195e-02, 8.70044651e-02, 8.77201279e-02,\n",
       "       8.84370923e-02, 9.16147812e-02, 9.46941224e-02, 9.56962665e-02,\n",
       "       9.23590703e-02, 9.56204314e-02, 8.59569739e-02, 7.10466561e-03,\n",
       "       8.38315546e-02, 8.40017086e-02, 8.19015698e-02, 8.27684972e-02,\n",
       "       8.24120364e-02, 8.13152113e-02, 7.43794649e-03, 7.71149989e-03,\n",
       "       8.02183390e-02, 7.99496365e-02, 7.90703097e-02, 7.90119529e-02,\n",
       "       7.75473171e-02, 7.75234527e-02, 7.64555071e-02, 7.60884809e-02,\n",
       "       8.14488845e-03, 7.56396413e-02, 7.52486183e-02, 7.44115386e-02,\n",
       "       7.39776374e-02, 7.34738511e-02, 8.34035124e-03, 7.20888012e-02,\n",
       "       7.30031184e-02, 7.30521527e-02, 7.10129231e-02, 7.14166133e-02,\n",
       "       7.01675276e-02, 8.82056525e-03, 8.54048562e-03, 6.96339653e-02,\n",
       "       6.91524368e-02, 6.78279910e-02, 6.86499091e-02, 6.84815711e-02,\n",
       "       6.64154703e-02, 8.93192486e-03, 6.65768226e-02, 6.52307311e-02,\n",
       "       6.54685573e-02, 6.49313582e-02, 9.09831448e-03, 9.31307758e-03,\n",
       "       9.58849106e-03, 9.69892410e-03, 1.00322024e-02, 1.00736363e-02,\n",
       "       1.01457638e-02, 1.06412158e-02, 1.08129008e-02, 1.09433143e-02,\n",
       "       1.11619155e-02, 1.13628067e-02, 1.15190236e-02, 1.12373849e-02,\n",
       "       1.16052660e-02, 6.40103113e-02, 6.35157398e-02, 6.29538177e-02,\n",
       "       6.24854806e-02, 6.38173827e-02, 6.21808584e-02, 6.12706423e-02,\n",
       "       6.10446346e-02, 5.97392837e-02, 5.91766347e-02, 6.07133938e-02,\n",
       "       5.89186821e-02, 5.81079453e-02, 5.84101870e-02, 6.04153253e-02,\n",
       "       5.77712617e-02, 5.68412903e-02, 5.76518061e-02, 5.60466599e-02,\n",
       "       5.62265295e-02, 5.47622827e-02, 5.52925538e-02, 5.54994483e-02,\n",
       "       5.40339091e-02, 5.42798615e-02, 5.35166013e-02, 5.33580911e-02,\n",
       "       5.27466768e-02, 5.17381102e-02, 5.19094853e-02, 4.33645804e-02,\n",
       "       4.37841578e-02, 4.40169979e-02, 4.45812991e-02, 4.47860905e-02,\n",
       "       5.11206748e-02, 5.09995363e-02, 5.05584286e-02, 5.02855429e-02,\n",
       "       4.51517821e-02, 4.66088195e-02, 4.67459736e-02, 4.62093948e-02,\n",
       "       4.55270415e-02, 4.98603957e-02, 4.55698242e-02, 4.91383694e-02,\n",
       "       4.77925592e-02, 4.82230419e-02, 4.79605073e-02, 4.87384503e-02,\n",
       "       4.83905905e-02, 4.93420812e-02, 1.18335915e-02, 1.20787835e-02,\n",
       "       1.22316057e-02, 1.24225729e-02, 1.27207821e-02, 1.26167660e-02,\n",
       "       4.20642971e-02, 4.26163913e-02, 4.19048229e-02, 4.29655689e-02,\n",
       "       4.17011860e-02, 4.28078357e-02, 1.29080794e-02, 1.28369117e-02,\n",
       "       1.30555115e-02, 1.33046542e-02, 1.34022076e-02, 1.36723998e-02,\n",
       "       1.35174614e-02, 1.39527048e-02, 1.41431281e-02, 1.42711101e-02,\n",
       "       4.12948752e-02, 3.95369551e-02, 4.00258084e-02, 3.99198276e-02,\n",
       "       3.85149257e-02, 4.06782667e-02, 4.05162084e-02, 3.60109143e-02,\n",
       "       3.82158133e-02, 4.05862111e-02, 3.62540599e-02, 3.67223394e-02,\n",
       "       3.72281748e-02, 3.77157303e-02, 3.79922830e-02, 3.75380764e-02,\n",
       "       3.73445686e-02, 3.57157819e-02, 3.53589967e-02, 3.51586346e-02,\n",
       "       3.46734865e-02, 3.58007915e-02, 3.43939298e-02, 3.42047572e-02,\n",
       "       3.38517135e-02, 1.44948392e-02, 1.47397414e-02, 1.45343097e-02,\n",
       "       3.35890936e-02, 1.48912318e-02, 3.32442373e-02, 3.36265712e-02,\n",
       "       3.30842952e-02, 3.26197513e-02, 1.50939880e-02, 1.53408727e-02,\n",
       "       3.18139552e-02, 3.14690733e-02, 1.54806987e-02, 3.11915807e-02,\n",
       "       3.21068628e-02, 3.25170230e-02, 3.23264251e-02, 3.07603437e-02,\n",
       "       1.97981614e-02, 1.57584247e-02, 1.60528103e-02, 1.59376580e-02,\n",
       "       3.04923418e-02, 1.76953947e-02, 1.73777548e-02, 1.63564608e-02,\n",
       "       1.66122410e-02, 1.67939333e-02, 1.67151921e-02, 1.94912911e-02,\n",
       "       1.72645039e-02, 2.95315621e-02, 3.01982378e-02, 2.96749209e-02,\n",
       "       1.56594762e-02, 1.78165760e-02, 1.63249513e-02, 1.71649898e-02,\n",
       "       1.83372227e-02, 1.79698710e-02, 1.79045769e-02, 2.96221792e-02,\n",
       "       2.90108159e-02, 1.85131345e-02, 1.84729470e-02, 2.88452743e-02,\n",
       "       1.89298080e-02, 1.90708791e-02, 1.91693235e-02, 1.93290883e-02,\n",
       "       2.85458236e-02, 2.02710347e-02, 2.06974275e-02, 2.01420891e-02,\n",
       "       2.00692306e-02, 2.05913791e-02, 2.79547100e-02, 2.12710252e-02,\n",
       "       2.11151985e-02, 2.20473726e-02, 2.41307523e-02, 2.56857193e-02,\n",
       "       2.49695989e-02, 2.62203192e-02, 2.54467493e-02, 2.34748437e-02,\n",
       "       2.39878391e-02, 2.38470137e-02, 2.28175385e-02, 2.46732490e-02,\n",
       "       2.77680664e-02, 2.65527684e-02, 2.16714068e-02, 2.31125457e-02,\n",
       "       2.53424289e-02, 2.47746319e-02, 2.82134229e-02, 2.24326849e-02,\n",
       "       2.16129301e-02, 2.72990830e-02, 2.81321689e-02, 2.30548370e-02,\n",
       "       2.68883330e-02, 2.75616741e-02, 1.88559855e-02, 2.74932374e-02,\n",
       "       2.10086462e-02, 2.25853884e-02, 2.59201790e-02, 2.63324902e-02,\n",
       "       2.36595171e-02, 2.69391617e-02, 2.25304264e-02, 3.06232530e-02])"
      ]
     },
     "execution_count": 18,
     "metadata": {},
     "output_type": "execute_result"
    }
   ],
   "source": [
    "# Eigenvalues\n",
    "w"
   ]
  },
  {
   "cell_type": "code",
   "execution_count": 19,
   "metadata": {},
   "outputs": [
    {
     "data": {
      "text/plain": [
       "array([[-1.00000000e+00,  2.87533438e-16, -2.64192235e-17, ...,\n",
       "         6.64900413e-20, -2.28540047e-20, -1.79120566e-31],\n",
       "       [-1.98604091e-16, -1.00000000e+00, -9.93084596e-16, ...,\n",
       "         6.30762277e-19, -5.40511614e-19,  1.79398126e-18],\n",
       "       [-1.93599161e-17, -7.80891474e-15,  1.00000000e+00, ...,\n",
       "         2.15875708e-19,  7.35385099e-21, -1.99450797e-18],\n",
       "       ...,\n",
       "       [ 1.45392944e-19, -5.38633237e-19, -4.35004879e-18, ...,\n",
       "         1.21888229e-16,  2.81075969e-16, -7.47462181e-17],\n",
       "       [ 8.80661175e-19, -3.90060816e-18, -2.23383591e-17, ...,\n",
       "         3.06609905e-16, -5.83921966e-17, -2.78264995e-17],\n",
       "       [-1.74469487e-19,  8.71546992e-19,  3.90518089e-18, ...,\n",
       "        -6.58856009e-17, -1.18036956e-16, -2.68606679e-17]])"
      ]
     },
     "execution_count": 19,
     "metadata": {},
     "output_type": "execute_result"
    }
   ],
   "source": [
    "# Eigenvectors\n",
    "v"
   ]
  },
  {
   "cell_type": "code",
   "execution_count": 20,
   "metadata": {},
   "outputs": [],
   "source": [
    "from sklearn.model_selection import train_test_split\n",
    "X_train, X_test, y_train, y_test = train_test_split(XX, y, test_size = 0.25, random_state = 0)"
   ]
  },
  {
   "cell_type": "code",
   "execution_count": 21,
   "metadata": {},
   "outputs": [
    {
     "name": "stdout",
     "output_type": "stream",
     "text": [
      "[3 1 4 0 4 0 4 0 0 2 0 4 4 2 2 3 4 4 4 3 4 1 3 4 1 2 2 4 4 1 3 1 0 2 2 0 1\n",
      " 1 2 1 2 2 0 0 0 2 3 4 2 4 4 2 1 4 1 0 2 4 4 4 4 2 1 3 4 2 3 0 0 4 0 2 3 4\n",
      " 0 3 1 0 1 1 2 3 4 1 4 1 4 2 1 0 1 2 1 2 1 0 3 0 2 3 0 4 1 2 1 0 3 2 2 3 1\n",
      " 3 1 3 0 2 4 3 1 4 4 2 2 3 3 2 1 2 0 4 4 2 1 2 0 3 1 2 2 1 1 3 0 1 2 1 3 4\n",
      " 2 4 1 3 0 1 4 1 0 4 4 0 2 0 2 2 0 3 0 2 2 0 3 1 2 3 1 4 4 3 4 3 2 0 1 1 0\n",
      " 3 3 1 0 3 0 2 3 2 1 1 0 4 1 0 1 0 2 0 2 3 4 4 4 4 1 0 0 2 2 1 0 0 4 3 0 1\n",
      " 2 1 4 1 0 1 2 1 3 3 4 1 2 3 3 4 1 3 2 4 1 4 4 2 3 1 4 1 1 0 3 0 3 4 1 3 2\n",
      " 3 1 3 3 1 1 2 1 3 1 0 2 1 3 0 3 1 3 2 1 3 2 4 3 0 3 4 2 2 1 2 4 2 4 0 4 4\n",
      " 2 2 1 1 1 4 1 4 3 0 2 2 0 0 4 4 2 0 4 0 1 3 2 1 3 2 3 4 2 3 1 4 1 3 1 1 0\n",
      " 3 0 4 2 1 4 3 2 3 0 4 2 2 4 2 0 0 4 3 1 0 2 0 1 1 1 1 3 2 3 3 1 0 1 1 4 4\n",
      " 4 0 2 4 1 4 0 2 2 3 2 0 3 1 0 0 2 3 4 1 3 1 0 0 4 1 3 3 2 4 1 4 0 2 1 2 1\n",
      " 3 3 3 0 4 0 3 0 4 3 1 2 2 4 3 0 3 4 0 4 2 4 0 2 3 3 4 0 1 1 0 4 2 4 1 0 1\n",
      " 3 3 3 0 3 2 0 4 3 4 3 4 3 0 2 0 0 3 1 3 3 2 3 3 0 0 2 3 1 1 0 4 1 2 1 3 0\n",
      " 3 4 0 1 4 4 0 3 2 0 4 3 1 1 4 0 3 1 3 1 1 0 3 2 0 4 2 4 1 4 3 1 1 0 4 3]\n"
     ]
    }
   ],
   "source": [
    "print(y_test)"
   ]
  },
  {
   "cell_type": "code",
   "execution_count": 22,
   "metadata": {},
   "outputs": [
    {
     "data": {
      "text/plain": [
       "GaussianNB(priors=None, var_smoothing=1e-09)"
      ]
     },
     "execution_count": 22,
     "metadata": {},
     "output_type": "execute_result"
    }
   ],
   "source": [
    "from sklearn.naive_bayes import GaussianNB\n",
    "classifier = GaussianNB()\n",
    "classifier_e = GaussianNB()\n",
    "classifier_f = GaussianNB()\n",
    "classifier_g = GaussianNB()\n",
    "classifier_p = GaussianNB()\n",
    "classifier_t = GaussianNB()\n",
    "classifier_h = GaussianNB()\n",
    "classifier_u = GaussianNB()\n",
    "\n",
    "\n",
    "classifier.fit(X_train[:,:2],y_train)\n",
    "classifier_e.fit(X_train[:,:4],y_train)\n",
    "classifier_f.fit(X_train[:,:10],y_train)\n",
    "classifier_g.fit(X_train[:,:30],y_train)\n",
    "classifier_p.fit(X_train[:,:60],y_train)\n",
    "classifier_t.fit(X_train[:,:200],y_train)\n",
    "classifier_h.fit(X_train[:,:500],y_train)\n",
    "classifier_u.fit(X_train[:,:784],y_train)"
   ]
  },
  {
   "cell_type": "code",
   "execution_count": 23,
   "metadata": {},
   "outputs": [],
   "source": [
    "y_pred_d = classifier.predict(X_test[:,:2])\n",
    "y_pred_t = classifier_e.predict(X_test[:,:4])\n",
    "y_pred_e = classifier_f.predict(X_test[:,:10])\n",
    "y_pred_f = classifier_g.predict(X_test[:,:30])\n",
    "y_pred_g = classifier_p.predict(X_test[:,:60])\n",
    "y_pred_h = classifier_t.predict(X_test[:,:200])\n",
    "y_pred_j = classifier_h.predict(X_test[:,:500])\n",
    "y_pred_k = classifier_u.predict(X_test[:,:784])"
   ]
  },
  {
   "cell_type": "code",
   "execution_count": 24,
   "metadata": {},
   "outputs": [],
   "source": [
    "from sklearn.metrics import accuracy_score\n",
    "list = [y_pred_d, y_pred_t, y_pred_e, y_pred_f, y_pred_g, y_pred_h, y_pred_j, y_pred_k]\n",
    "Acc = []\n",
    "for i in list:\n",
    "    Acc.append((1 - accuracy_score(y_test,i)))"
   ]
  },
  {
   "cell_type": "code",
   "execution_count": 25,
   "metadata": {},
   "outputs": [
    {
     "data": {
      "text/plain": [
       "[0.4003868471953579,\n",
       " 0.19342359767891681,\n",
       " 0.07543520309477758,\n",
       " 0.08704061895551263,\n",
       " 0.19729206963249513,\n",
       " 0.2707930367504836,\n",
       " 0.30754352030947774,\n",
       " 0.3036750483558994]"
      ]
     },
     "execution_count": 25,
     "metadata": {},
     "output_type": "execute_result"
    }
   ],
   "source": [
    "Acc"
   ]
  },
  {
   "cell_type": "code",
   "execution_count": 28,
   "metadata": {},
   "outputs": [],
   "source": [
    "variance = pca.explained_variance_ratio_"
   ]
  },
  {
   "cell_type": "code",
   "execution_count": 29,
   "metadata": {},
   "outputs": [
    {
     "data": {
      "text/plain": [
       "0.9999999999999999"
      ]
     },
     "execution_count": 29,
     "metadata": {},
     "output_type": "execute_result"
    }
   ],
   "source": [
    "variance.sum()"
   ]
  },
  {
   "cell_type": "code",
   "execution_count": 30,
   "metadata": {},
   "outputs": [],
   "source": [
    "list = [2,4,10,30,60,200,500,784]\n",
    "ret = []\n",
    "for i in list:\n",
    "    ret.append(variance[:i].sum())"
   ]
  },
  {
   "cell_type": "code",
   "execution_count": 31,
   "metadata": {},
   "outputs": [
    {
     "data": {
      "text/plain": [
       "[0.10272854850122914,\n",
       " 0.16736721678023678,\n",
       " 0.27411092759781536,\n",
       " 0.42478098401772657,\n",
       " 0.5454399805139987,\n",
       " 0.8000317302015213,\n",
       " 0.9843630768429739,\n",
       " 0.9999999999999999]"
      ]
     },
     "execution_count": 31,
     "metadata": {},
     "output_type": "execute_result"
    }
   ],
   "source": [
    "ret"
   ]
  },
  {
   "cell_type": "code",
   "execution_count": 32,
   "metadata": {},
   "outputs": [
    {
     "data": {
      "text/plain": [
       "[<matplotlib.lines.Line2D at 0x7fccd872f8d0>]"
      ]
     },
     "execution_count": 32,
     "metadata": {},
     "output_type": "execute_result"
    },
    {
     "data": {
      "image/png": "[encoded data removed]",
      "text/plain": [
       "<Figure size 576x432 with 1 Axes>"
      ]
     },
     "metadata": {
      "needs_background": "light"
     },
     "output_type": "display_data"
    }
   ],
   "source": [
    "plt.figure(figsize = (8,6))\n",
    "plt.plot(Acc[:],ret[:])"
   ]
  },
  {
   "cell_type": "code",
   "execution_count": 33,
   "metadata": {},
   "outputs": [],
   "source": [
    "from sklearn.discriminant_analysis import LinearDiscriminantAnalysis as lda\n",
    "LDA = lda(n_components = 2)\n",
    "X_LDA = LDA.fit_transform(X,y)"
   ]
  },
  {
   "cell_type": "code",
   "execution_count": 34,
   "metadata": {},
   "outputs": [
    {
     "data": {
      "text/plain": [
       "(2066, 2)"
      ]
     },
     "execution_count": 34,
     "metadata": {},
     "output_type": "execute_result"
    }
   ],
   "source": [
    "X4 = X_LDA[:,:2]\n",
    "X4.shape"
   ]
  },
  {
   "cell_type": "code",
   "execution_count": 35,
   "metadata": {},
   "outputs": [
    {
     "data": {
      "text/html": [
       "<div>\n",
       "<style scoped>\n",
       "    .dataframe tbody tr th:only-of-type {\n",
       "        vertical-align: middle;\n",
       "    }\n",
       "\n",
       "    .dataframe tbody tr th {\n",
       "        vertical-align: top;\n",
       "    }\n",
       "\n",
       "    .dataframe thead th {\n",
       "        text-align: right;\n",
       "    }\n",
       "</style>\n",
       "<table border=\"1\" class=\"dataframe\">\n",
       "  <thead>\n",
       "    <tr style=\"text-align: right;\">\n",
       "      <th></th>\n",
       "      <th>LDA0</th>\n",
       "      <th>LDA1</th>\n",
       "      <th>gnd</th>\n",
       "    </tr>\n",
       "  </thead>\n",
       "  <tbody>\n",
       "    <tr>\n",
       "      <th>1</th>\n",
       "      <td>-5.277233</td>\n",
       "      <td>-2.052912</td>\n",
       "      <td>0</td>\n",
       "    </tr>\n",
       "    <tr>\n",
       "      <th>2</th>\n",
       "      <td>-5.913727</td>\n",
       "      <td>-1.953482</td>\n",
       "      <td>0</td>\n",
       "    </tr>\n",
       "    <tr>\n",
       "      <th>3</th>\n",
       "      <td>-4.154543</td>\n",
       "      <td>-0.868888</td>\n",
       "      <td>0</td>\n",
       "    </tr>\n",
       "    <tr>\n",
       "      <th>4</th>\n",
       "      <td>-6.728769</td>\n",
       "      <td>-2.568941</td>\n",
       "      <td>0</td>\n",
       "    </tr>\n",
       "    <tr>\n",
       "      <th>5</th>\n",
       "      <td>-6.977105</td>\n",
       "      <td>-2.125944</td>\n",
       "      <td>0</td>\n",
       "    </tr>\n",
       "    <tr>\n",
       "      <th>...</th>\n",
       "      <td>...</td>\n",
       "      <td>...</td>\n",
       "      <td>...</td>\n",
       "    </tr>\n",
       "    <tr>\n",
       "      <th>2062</th>\n",
       "      <td>-1.493870</td>\n",
       "      <td>3.310943</td>\n",
       "      <td>4</td>\n",
       "    </tr>\n",
       "    <tr>\n",
       "      <th>2063</th>\n",
       "      <td>-0.249322</td>\n",
       "      <td>4.925294</td>\n",
       "      <td>4</td>\n",
       "    </tr>\n",
       "    <tr>\n",
       "      <th>2064</th>\n",
       "      <td>-1.311290</td>\n",
       "      <td>5.398086</td>\n",
       "      <td>4</td>\n",
       "    </tr>\n",
       "    <tr>\n",
       "      <th>2065</th>\n",
       "      <td>0.213247</td>\n",
       "      <td>5.160965</td>\n",
       "      <td>4</td>\n",
       "    </tr>\n",
       "    <tr>\n",
       "      <th>2066</th>\n",
       "      <td>0.404523</td>\n",
       "      <td>4.317396</td>\n",
       "      <td>4</td>\n",
       "    </tr>\n",
       "  </tbody>\n",
       "</table>\n",
       "<p>2066 rows × 3 columns</p>\n",
       "</div>"
      ],
      "text/plain": [
       "          LDA0      LDA1  gnd\n",
       "1    -5.277233 -2.052912    0\n",
       "2    -5.913727 -1.953482    0\n",
       "3    -4.154543 -0.868888    0\n",
       "4    -6.728769 -2.568941    0\n",
       "5    -6.977105 -2.125944    0\n",
       "...        ...       ...  ...\n",
       "2062 -1.493870  3.310943    4\n",
       "2063 -0.249322  4.925294    4\n",
       "2064 -1.311290  5.398086    4\n",
       "2065  0.213247  5.160965    4\n",
       "2066  0.404523  4.317396    4\n",
       "\n",
       "[2066 rows x 3 columns]"
      ]
     },
     "execution_count": 35,
     "metadata": {},
     "output_type": "execute_result"
    }
   ],
   "source": [
    "prin4 = pd.DataFrame(X4, columns = ['LDA0','LDA1'], index = range(1,2067))\n",
    "prin4_gnd = pd.concat([prin4, dataset[['gnd']]], axis = 1)\n",
    "prin4_gnd"
   ]
  },
  {
   "cell_type": "code",
   "execution_count": 36,
   "metadata": {},
   "outputs": [],
   "source": [
    "data10 = prin4_gnd[prin4_gnd['gnd']==0]\n",
    "data11 = prin4_gnd[prin4_gnd['gnd']==1]\n",
    "data12 = prin4_gnd[prin4_gnd['gnd']==2]\n",
    "data13 = prin4_gnd[prin4_gnd['gnd']==3]\n",
    "data14 = prin4_gnd[prin4_gnd['gnd']==4]"
   ]
  },
  {
   "cell_type": "code",
   "execution_count": 37,
   "metadata": {},
   "outputs": [
    {
     "data": {
      "text/plain": [
       "Text(0, 0.5, 'Second  LDA Component')"
      ]
     },
     "execution_count": 37,
     "metadata": {},
     "output_type": "execute_result"
    },
    {
     "data": {
      "image/png": "[encoded data removed]",
      "text/plain": [
       "<Figure size 432x288 with 1 Axes>"
      ]
     },
     "metadata": {
      "needs_background": "light"
     },
     "output_type": "display_data"
    }
   ],
   "source": [
    "plt.scatter(data10['LDA0'],data10['LDA1'], label = 0)\n",
    "plt.scatter(data11['LDA0'],data11['LDA1'], label = 1)\n",
    "plt.scatter(data12['LDA0'],data12['LDA1'], label = 2)\n",
    "plt.scatter(data13['LDA0'],data13['LDA1'], label = 3)\n",
    "plt.scatter(data14['LDA0'],data14['LDA1'], label = 4)\n",
    "plt.legend()\n",
    "plt.xlabel('First LDA Component')\n",
    "plt.ylabel('Second  LDA Component')"
   ]
  },
  {
   "cell_type": "code",
   "execution_count": 38,
   "metadata": {},
   "outputs": [
    {
     "data": {
      "text/plain": [
       "array([[-5.27723328, -2.0529124 ],\n",
       "       [-5.91372692, -1.95348169],\n",
       "       [-4.15454288, -0.86888763],\n",
       "       ...,\n",
       "       [-1.31128997,  5.39808628],\n",
       "       [ 0.21324713,  5.1609646 ],\n",
       "       [ 0.40452267,  4.31739633]])"
      ]
     },
     "execution_count": 38,
     "metadata": {},
     "output_type": "execute_result"
    }
   ],
   "source": [
    "X_LDA"
   ]
  },
  {
   "cell_type": "code",
   "execution_count": 39,
   "metadata": {},
   "outputs": [
    {
     "data": {
      "text/plain": [
       "Text(0, 0.5, 'Second LDA Component')"
      ]
     },
     "execution_count": 39,
     "metadata": {},
     "output_type": "execute_result"
    },
    {
     "data": {
      "image/png": "[encoded data removed]",
      "text/plain": [
       "<Figure size 576x432 with 1 Axes>"
      ]
     },
     "metadata": {
      "needs_background": "light"
     },
     "output_type": "display_data"
    }
   ],
   "source": [
    "plt.figure(figsize = (8,6))\n",
    "plt.scatter(X_LDA[:,0],X_LDA[:,1],c = dataset['gnd'])\n",
    "plt.xlabel('First LDA Component')\n",
    "plt.ylabel('Second LDA Component')"
   ]
  },
  {
   "cell_type": "code",
   "execution_count": 40,
   "metadata": {},
   "outputs": [],
   "source": [
    "# To calculate the accuracy of the PCA for question three\n",
    "from sklearn.metrics import accuracy_score\n",
    "list = [y_pred_d, y_pred_t, y_pred_e, y_pred_f, y_pred_g, y_pred_h, y_pred_j, y_pred_k]\n",
    "AccPCA = [] \n",
    "for i in list:\n",
    "    AccPCA.append(accuracy_score(y_test,i))"
   ]
  },
  {
   "cell_type": "code",
   "execution_count": 45,
   "metadata": {},
   "outputs": [
    {
     "data": {
      "text/plain": [
       "0.7705512572533849"
      ]
     },
     "execution_count": 45,
     "metadata": {},
     "output_type": "execute_result"
    }
   ],
   "source": [
    "np.mean(AccPCA)"
   ]
  },
  {
   "cell_type": "code",
   "execution_count": 42,
   "metadata": {},
   "outputs": [
    {
     "data": {
      "text/plain": [
       "91.09"
      ]
     },
     "execution_count": 42,
     "metadata": {},
     "output_type": "execute_result"
    }
   ],
   "source": [
    "nb1 = GaussianNB()\n",
    "nb1.fit(X_LDA, y)\n",
    "y_pre = nb1.predict(X_LDA)\n",
    "approxacurracy = accuracy_score(y,y_pre)\n",
    "np.round(approxacurracy*100,2)"
   ]
  }
 ],
 "metadata": {
  "kernelspec": {
   "display_name": "Python 3",
   "language": "python",
   "name": "python3"
  },
  "language_info": {
   "codemirror_mode": {
    "name": "ipython",
    "version": 3
   },
   "file_extension": ".py",
   "mimetype": "text/x-python",
   "name": "python",
   "nbconvert_exporter": "python",
   "pygments_lexer": "ipython3",
   "version": "3.7.6"
  }
 },
 "nbformat": 4,
 "nbformat_minor": 4
}
